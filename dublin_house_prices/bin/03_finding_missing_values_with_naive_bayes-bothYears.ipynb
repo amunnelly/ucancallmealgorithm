{
 "cells": [
  {
   "cell_type": "markdown",
   "metadata": {},
   "source": [
    "# Dublin House Prices by Post Code\n",
    "## Part 3 - Using Machine Learning to Find Missing Values\n",
    "We used a `Google Maps Client` to clean up some initial house price data from the [Property Price Register]() website in [Part 1](). Then, in [Part 2](), we cleaned that data and associated as many addresses as we could with eirKeys, the new post code format in Ireland. Now, in Part 3, we hope to use to Machine Learning techniques to fill in the rest."
   ]
  },
  {
   "cell_type": "code",
   "execution_count": 1,
   "metadata": {
    "collapsed": true
   },
   "outputs": [],
   "source": [
    "import pandas as pd\n",
    "import pickle\n",
    "from sklearn.naive_bayes import GaussianNB\n",
    "from sklearn.cross_validation import train_test_split"
   ]
  },
  {
   "cell_type": "code",
   "execution_count": 2,
   "metadata": {
    "collapsed": false
   },
   "outputs": [
    {
     "data": {
      "text/plain": [
       "Address                    object\n",
       "County                     object\n",
       "Date               datetime64[ns]\n",
       "Description                object\n",
       "FullMarketPrice            object\n",
       "Lat                       float64\n",
       "Lon                       float64\n",
       "PostCode                   object\n",
       "Size                       object\n",
       "VAT                        object\n",
       "gCheck                     object\n",
       "Price                     float64\n",
       "PC                         object\n",
       "dtype: object"
      ]
     },
     "execution_count": 2,
     "metadata": {},
     "output_type": "execute_result"
    }
   ],
   "source": [
    "with open('../library/pickle/houses_cleaned_after_google_2016_2015_pickle', 'r') as f:\n",
    "    houses = pickle.load(f)\n",
    "houses.dtypes"
   ]
  },
  {
   "cell_type": "code",
   "execution_count": 3,
   "metadata": {
    "collapsed": false
   },
   "outputs": [
    {
     "data": {
      "text/plain": [
       "glugger    11295\n",
       "D15         1703\n",
       "D24         1007\n",
       "D07          969\n",
       "D09          967\n",
       "D18          939\n",
       "D04          920\n",
       "D12          865\n",
       "D08          817\n",
       "D11          762\n",
       "D16          728\n",
       "D13          716\n",
       "D03          689\n",
       "D14          633\n",
       "D06          624\n",
       "D05          600\n",
       "A94          578\n",
       "K78          558\n",
       "A96          508\n",
       "D01          462\n",
       "D22          456\n",
       "K67          234\n",
       "D10          209\n",
       "D02          199\n",
       "K32          164\n",
       "D20          151\n",
       "D17          129\n",
       "K36          120\n",
       "K34           47\n",
       "K45           36\n",
       "A98           31\n",
       "K56           17\n",
       "A45            2\n",
       "A86            2\n",
       "A41            1\n",
       "A42            1\n",
       "Name: PC, dtype: int64"
      ]
     },
     "execution_count": 3,
     "metadata": {},
     "output_type": "execute_result"
    }
   ],
   "source": [
    "houses.PC.value_counts()"
   ]
  },
  {
   "cell_type": "markdown",
   "metadata": {},
   "source": [
    "### Using Naive Bayes to Find eirKeys for Addresses\n",
    "Houses for which we don't have an eirKey are called 'gluggers', from the Irish _ubh ghliogair_, a rotten egg. the good news is The presence of the addresses for which we have both geographic coordinates and an eirKey can help up train a model that will will help us track down eirKeys for addresses for which we have only coordinates. This is how we'll do it:\n",
    "\n",
    "1. We have to divide our data frame into three types.\n",
    "    * `good_eggs`, which is where we have both post codes and coordinates,\n",
    "    * `glugger_coord`, where we have coordinates but no post code.\n",
    "    * `glugger_lost`, where we have neither coordinate nor post code.\n",
    "2. This being done, we can use the extant post codes in the `good_eggs` to train a Naive Bayes classification model.\n",
    "3. We can then use our Naive Bayes model to assign post codes to our `glugger_coord` data frame, using the co-ordinates.\n",
    "4. Concatenate the three data frames again\n",
    "5. Resolve the different post code columns"
   ]
  },
  {
   "cell_type": "code",
   "execution_count": 4,
   "metadata": {
    "collapsed": false
   },
   "outputs": [
    {
     "name": "stdout",
     "output_type": "stream",
     "text": [
      "We have 13,230 addresses with good coordinates.\n",
      "We have 8,322 addresses for which we have coordinates but no eirKey.\n",
      "We have 2,973 addresses for which we have neither eirKey nor coordinates. These are our most challenging problem.\n"
     ]
    }
   ],
   "source": [
    "glugger_coord = houses[(houses['PC'] == 'glugger') & (houses['Lat'].notnull())].copy()\n",
    "glugger_lost = houses[(houses['PC'] == 'glugger') & (houses['Lat'].isnull())].copy()\n",
    "good_eggs = houses[(houses['PC'] != 'glugger') & (houses['Lat'].notnull())].copy()\n",
    "\n",
    "print \"We have {:,} addresses with good coordinates.\".format(good_eggs.shape[0])\n",
    "print \"We have {:,} addresses for which we have coordinates but no eirKey.\".format(glugger_coord.shape[0])\n",
    "print \"We have {:,} addresses for which we have neither eirKey nor coordinates. These are our most challenging problem.\".format(glugger_lost.shape[0])"
   ]
  },
  {
   "cell_type": "markdown",
   "metadata": {},
   "source": [
    "We're now going to use the data for which we have coordinates and eirKeys, the `good_eggs` data frame, to train a model to predict eirKeys based on the co-ordinates that exist in the `glugger_coord` data frame."
   ]
  },
  {
   "cell_type": "code",
   "execution_count": 5,
   "metadata": {
    "collapsed": false
   },
   "outputs": [
    {
     "data": {
      "text/plain": [
       "GaussianNB()"
      ]
     },
     "execution_count": 5,
     "metadata": {},
     "output_type": "execute_result"
    }
   ],
   "source": [
    "coords = good_eggs[['Lat', 'Lon']]\n",
    "\n",
    "f_train, f_test, l_train, l_test = train_test_split(coords,\n",
    "                                                    good_eggs['PC'],\n",
    "                                                    test_size = 0.25,\n",
    "                                                    random_state = 33)\n",
    "\n",
    "clf = GaussianNB()\n",
    "clf.fit(f_train, l_train)"
   ]
  },
  {
   "cell_type": "markdown",
   "metadata": {},
   "source": [
    "Next, we're going to call the `predict` method on our `clf` classifier to predict eirKeys for every address in `glugger_coord`, and store those predictions in a new *Prediction* column."
   ]
  },
  {
   "cell_type": "code",
   "execution_count": 6,
   "metadata": {
    "collapsed": false
   },
   "outputs": [
    {
     "name": "stdout",
     "output_type": "stream",
     "text": [
      "                                             Address  County       Date  \\\n",
      "1                       Saggart, Co. Dublin, Ireland  Dublin 2016-01-04   \n",
      "2                       Saggart, Co. Dublin, Ireland  Dublin 2016-01-04   \n",
      "4  Moyola Mews, Churchtown Rd Lower, Churchtown L...  Dublin 2016-01-04   \n",
      "7   32 Latchford Square, Castaheany, Dublin, Ireland  Dublin 2016-01-04   \n",
      "9  5 Mount Argus Terrace, Harold's Cross, Dublin ...  Dublin 2016-01-04   \n",
      "\n",
      "                             Description FullMarketPrice        Lat       Lon  \\\n",
      "1          New Dwelling house /Apartment              No  53.280840 -6.443184   \n",
      "2          New Dwelling house /Apartment              No  53.280840 -6.443184   \n",
      "4  Second-Hand Dwelling house /Apartment              No  53.298311 -6.253560   \n",
      "7  Second-Hand Dwelling house /Apartment              No  53.396310 -6.431049   \n",
      "9  Second-Hand Dwelling house /Apartment              No  53.322198 -6.289609   \n",
      "\n",
      "   PostCode                                               Size  VAT gCheck  \\\n",
      "1            greater than or equal to 38 sq metres and less...  Yes   Good   \n",
      "2            greater than or equal to 38 sq metres and less...  Yes   Good   \n",
      "4                                                                No   Good   \n",
      "7                                                                No   Good   \n",
      "9  D6W H744                                                      No   Good   \n",
      "\n",
      "      Price       PC Prediction  \n",
      "1  230088.0  glugger        D24  \n",
      "2  321586.0  glugger        D24  \n",
      "4  330000.0  glugger        D14  \n",
      "7  230000.0  glugger        D15  \n",
      "9  375000.0  glugger        D12  \n"
     ]
    }
   ],
   "source": [
    "glugger_coord['Prediction'] = clf.predict(glugger_coord[['Lat', 'Lon']])\n",
    "print glugger_coord.head()"
   ]
  },
  {
   "cell_type": "markdown",
   "metadata": {},
   "source": [
    "Finally, we rejoin the three data frames into one, cosolidate the eirKey data, and see what we've got."
   ]
  },
  {
   "cell_type": "code",
   "execution_count": 7,
   "metadata": {
    "collapsed": false
   },
   "outputs": [
    {
     "data": {
      "text/plain": [
       "glugger    2973\n",
       "D15        2003\n",
       "D24        1276\n",
       "D12        1163\n",
       "A96        1111\n",
       "D13        1109\n",
       "D04        1080\n",
       "D16        1065\n",
       "D18        1016\n",
       "A94        1012\n",
       "D11         991\n",
       "D06         982\n",
       "D07         968\n",
       "D14         907\n",
       "D09         895\n",
       "D03         828\n",
       "D08         804\n",
       "K78         728\n",
       "D05         639\n",
       "D01         528\n",
       "D22         522\n",
       "K36         373\n",
       "K67         347\n",
       "D10         258\n",
       "K32         244\n",
       "D02         235\n",
       "D20         166\n",
       "D17         108\n",
       "K34          70\n",
       "K45          42\n",
       "A98          38\n",
       "K56          38\n",
       "A86           2\n",
       "A45           2\n",
       "A41           1\n",
       "A42           1\n",
       "Name: Bayes, dtype: int64"
      ]
     },
     "execution_count": 7,
     "metadata": {},
     "output_type": "execute_result"
    }
   ],
   "source": [
    "house_prices = pd.concat([good_eggs, glugger_coord, glugger_lost], ignore_index=True)\n",
    "\n",
    "import numpy as np\n",
    "\n",
    "def apply_final_postcodes(aRow):\n",
    "    if aRow['PC'] == 'glugger' and type(aRow['Prediction']) != float:\n",
    "        return aRow['Prediction']\n",
    "    else:\n",
    "        return aRow['PC']\n",
    "\n",
    "house_prices['Bayes'] = house_prices.apply(lambda x: apply_final_postcodes(x), axis=1)\n",
    "house_prices['Bayes'].value_counts()"
   ]
  },
  {
   "cell_type": "markdown",
   "metadata": {
    "collapsed": false
   },
   "source": [
    "We still have 756 addresses, 6 per cent of the dataset total, for which we don't have eirKeys, meaning we have valid eirKeys for 94% of our sample. It may be possible to cut that number further, by using the Google Maps Geodata we stored from earlier."
   ]
  },
  {
   "cell_type": "markdown",
   "metadata": {},
   "source": [
    "### Google Geodata\n",
    "Google Maps creates a .json-like record for every address on its maps. _Neighborhood_ and _locality_ are two of the keys they use. Our geodata object from Part 1 has neighborhood and locality information for all the addresses for which we successfully able to find co-ordinates. We'll now use this to whittle down our missing values a little more.\n",
    "\n",
    "This process is much more grunt-work than the Naive Bayes implementation, but it takes all sorts, of course.\n",
    "\n",
    "**Firstly**, we load the geodata which is a list. We iterate through the geodata list, appending the co-ordinate, neighborhood and locality details to a second, neighborhood, list. From this neighborhood list we create a `geodata_df` so we can get a look at it."
   ]
  },
  {
   "cell_type": "code",
   "execution_count": 10,
   "metadata": {
    "collapsed": false
   },
   "outputs": [
    {
     "name": "stdout",
     "output_type": "stream",
     "text": [
      "<type 'list'>\n"
     ]
    }
   ],
   "source": [
    "with open('../library/pickle/2016/geodata_dublin_2016_pickle', 'r') as f:\n",
    "    gd = pickle.load(f)\n",
    "\n",
    "with open('../library/pickle/2015/geodata_2015_pickle', 'r') as f:\n",
    "    gd15 = pickle.load(f)\n",
    "\n",
    "[gd.append(geo) for geo in gd15]\n",
    "print type(gd)"
   ]
  },
  {
   "cell_type": "code",
   "execution_count": 11,
   "metadata": {
    "collapsed": false
   },
   "outputs": [
    {
     "data": {
      "text/html": [
       "<div>\n",
       "<table border=\"1\" class=\"dataframe\">\n",
       "  <thead>\n",
       "    <tr style=\"text-align: right;\">\n",
       "      <th></th>\n",
       "      <th>Address</th>\n",
       "      <th>Lat</th>\n",
       "      <th>Lon</th>\n",
       "      <th>Locality</th>\n",
       "      <th>Neighborhood</th>\n",
       "      <th>eirKey</th>\n",
       "    </tr>\n",
       "  </thead>\n",
       "  <tbody>\n",
       "    <tr>\n",
       "      <th>0</th>\n",
       "      <td>34 Mountpleasant Terrace, Dublin 6, D06 YC58, ...</td>\n",
       "      <td>53.328587</td>\n",
       "      <td>-6.261495</td>\n",
       "      <td>Ranelagh</td>\n",
       "      <td></td>\n",
       "      <td>D06</td>\n",
       "    </tr>\n",
       "    <tr>\n",
       "      <th>1</th>\n",
       "      <td>Saggart, Co. Dublin, Ireland</td>\n",
       "      <td>53.280840</td>\n",
       "      <td>-6.443184</td>\n",
       "      <td>Saggart</td>\n",
       "      <td></td>\n",
       "      <td></td>\n",
       "    </tr>\n",
       "    <tr>\n",
       "      <th>2</th>\n",
       "      <td>Saggart, Co. Dublin, Ireland</td>\n",
       "      <td>53.280840</td>\n",
       "      <td>-6.443184</td>\n",
       "      <td>Saggart</td>\n",
       "      <td></td>\n",
       "      <td></td>\n",
       "    </tr>\n",
       "    <tr>\n",
       "      <th>3</th>\n",
       "      <td>2 Brighton Rd, Brighton Hall, Kerrymount, Dubl...</td>\n",
       "      <td>53.258165</td>\n",
       "      <td>-6.174641</td>\n",
       "      <td>Foxrock</td>\n",
       "      <td>Kerrymount</td>\n",
       "      <td>D18</td>\n",
       "    </tr>\n",
       "    <tr>\n",
       "      <th>4</th>\n",
       "      <td>Moyola Mews, Churchtown Rd Lower, Churchtown L...</td>\n",
       "      <td>53.298311</td>\n",
       "      <td>-6.253560</td>\n",
       "      <td>Churchtown</td>\n",
       "      <td>Churchtown Lower</td>\n",
       "      <td></td>\n",
       "    </tr>\n",
       "  </tbody>\n",
       "</table>\n",
       "</div>"
      ],
      "text/plain": [
       "                                             Address        Lat       Lon  \\\n",
       "0  34 Mountpleasant Terrace, Dublin 6, D06 YC58, ...  53.328587 -6.261495   \n",
       "1                       Saggart, Co. Dublin, Ireland  53.280840 -6.443184   \n",
       "2                       Saggart, Co. Dublin, Ireland  53.280840 -6.443184   \n",
       "3  2 Brighton Rd, Brighton Hall, Kerrymount, Dubl...  53.258165 -6.174641   \n",
       "4  Moyola Mews, Churchtown Rd Lower, Churchtown L...  53.298311 -6.253560   \n",
       "\n",
       "     Locality      Neighborhood eirKey  \n",
       "0    Ranelagh                      D06  \n",
       "1     Saggart                           \n",
       "2     Saggart                           \n",
       "3     Foxrock        Kerrymount    D18  \n",
       "4  Churchtown  Churchtown Lower         "
      ]
     },
     "execution_count": 11,
     "metadata": {},
     "output_type": "execute_result"
    }
   ],
   "source": [
    "neighborhoods = []\n",
    "neighborhoods.append(['Address',\n",
    "                      'Lat',\n",
    "                      'Lon',\n",
    "                      'Locality',\n",
    "                      'Neighborhood',\n",
    "                      'eirKey'])\n",
    "\n",
    "def find_address_types(address):\n",
    "    returnValue = {'locality':'',\n",
    "                   'neighborhood':'',\n",
    "                   'eirKey':''}\n",
    "    for a in address:\n",
    "        if 'locality' in a['types']:\n",
    "            returnValue['locality'] = a['short_name']\n",
    "        if 'neighborhood' in a['types']:\n",
    "            returnValue['neighborhood'] = a['short_name']\n",
    "        if 'postal_code' in a['types']:\n",
    "            returnValue['eirKey'] = a['short_name'][:3]\n",
    "    \n",
    "    return returnValue\n",
    "\n",
    "\n",
    "for address in gd:\n",
    "    lat = address['geometry']['location']['lat']\n",
    "    lon = address['geometry']['location']['lng']\n",
    "    others = find_address_types(address['address_components'])\n",
    "    \n",
    "    temp = [address['formatted_address'],\n",
    "            lat,\n",
    "            lon,\n",
    "            others['locality'],\n",
    "            others['neighborhood'],\n",
    "            others['eirKey']]\n",
    "            \n",
    "    neighborhoods.append(temp)\n",
    "    \n",
    "geocode_df = pd.DataFrame(neighborhoods[1:],\n",
    "                      columns = neighborhoods[0])\n",
    "\n",
    "geocode_df.head()"
   ]
  },
  {
   "cell_type": "markdown",
   "metadata": {
    "collapsed": false
   },
   "source": [
    "**Secondly**, we group our `geodata_df` dataframe by both _locality_ and _neighborhood_, to prevent confusion with a generic placename like 'Hill' or 'Cross' showing up in more than one place. We then use these locality_neighborhood groups as keys in an area_to_eirKey_mapper dictionary, which will return a set of eirKeys for every tuple of locality and neighborhood.\n",
    "\n",
    "We check for sets with more than one element, as these will have to be either resolved by hand or else ignored, depending on the time-output balance in the project."
   ]
  },
  {
   "cell_type": "code",
   "execution_count": 12,
   "metadata": {
    "collapsed": false
   },
   "outputs": [
    {
     "name": "stdout",
     "output_type": "stream",
     "text": [
      "(u'donnycarney', u'clontarf') set([u'D05', u'D03', u'D09'])\n",
      "(u'cabinteely', u'johnstown') set([u'A96', u'D18'])\n",
      "(u'glasnevin', u'botanic') set([u'D11', u'D09'])\n",
      "(u'sandyford', u'balally') set([u'D16', u'D18'])\n",
      "(u'drumcondra', u'drumcondra south') set([u'D03', u'D09'])\n",
      "(u'glasnevin', u'ballygall') set([u'D11', u'D09'])\n",
      "(u'teach meal\\xf3g', u'templeogue') set([u'D6W', u'D16'])\n",
      "(u'churchtown', u'dundrum') set([u'D14', u'D16'])\n",
      "(u'dundrum', u'drummartin') set([u'D14', u'D16'])\n",
      "(u'churchtown', u'churchtown upper') set([u'D14', u'D16'])\n",
      "(u'killester', u'clontarf east') set([u'D05', u'D03'])\n"
     ]
    }
   ],
   "source": [
    "from collections import defaultdict\n",
    "area_to_eirKey_mapper = defaultdict(set)\n",
    "byArea = geocode_df.groupby(['Locality', 'Neighborhood'])\n",
    "for area, rest in byArea:\n",
    "    if area[0] in ('', 'Dublin', 'DUB') or area[1] in ('', 'Dublin', 'DUB'):\n",
    "        continue\n",
    "    else:\n",
    "        temp = set(rest['eirKey'])\n",
    "        for t in temp:\n",
    "            if t not in ('', 'Dublin'):\n",
    "                area_to_eirKey_mapper[(area[0].lower(), area[1].lower())].add(t)\n",
    "            else:\n",
    "                continue\n",
    "\n",
    "for a, b in area_to_eirKey_mapper.iteritems():\n",
    "    if len(b)>1:\n",
    "        print a, b\n"
   ]
  },
  {
   "cell_type": "markdown",
   "metadata": {},
   "source": [
    "This is a level of multiplicity we can live with. **Thirdly**, then, we copy that slice of the `house_prices` data frame for which we don't have eirKeys. We iterate through the address and, where there's a match for either a locality or a neighborhood in an address string, we store in our `address_mapper` dictionary."
   ]
  },
  {
   "cell_type": "code",
   "execution_count": 13,
   "metadata": {
    "collapsed": false
   },
   "outputs": [
    {
     "name": "stdout",
     "output_type": "stream",
     "text": [
      "3\n"
     ]
    }
   ],
   "source": [
    "address_mapper = {}\n",
    "multiples = []\n",
    "gluggers = house_prices[house_prices.Bayes == 'glugger'].copy()\n",
    "addresses = gluggers['Address']\n",
    "\n",
    "for address in addresses:\n",
    "    found = False\n",
    "    for a, b in area_to_eirKey_mapper.iteritems():\n",
    "        if a[0] in address.lower() or a[1] in address.lower():\n",
    "            found = True\n",
    "            break\n",
    "            \n",
    "    if found == False:\n",
    "        address_mapper[address] = 'glugger'\n",
    "        continue\n",
    "\n",
    "    temp = list(b)\n",
    "    if len(temp) == 1:\n",
    "        address_mapper[address] = temp[0]\n",
    "        continue\n",
    "    else:\n",
    "        multiples.append([a, b, address])\n",
    "        address_mapper[address] = 'multiple'\n",
    "\n",
    "\n",
    "print len(multiples)"
   ]
  },
  {
   "cell_type": "code",
   "execution_count": 14,
   "metadata": {
    "collapsed": false
   },
   "outputs": [
    {
     "data": {
      "text/plain": [
       "K67         762\n",
       "K36         479\n",
       "glugger     423\n",
       "K32         265\n",
       "A94         214\n",
       "K34         158\n",
       "K56         116\n",
       "K78         102\n",
       "K45          95\n",
       "D24          72\n",
       "D09          57\n",
       "A96          51\n",
       "D18          42\n",
       "D05          27\n",
       "D15          16\n",
       "D22          16\n",
       "D13          12\n",
       "D16          11\n",
       "D12          10\n",
       "D14          10\n",
       "D03           7\n",
       "A42           7\n",
       "A45           6\n",
       "D07           3\n",
       "multiple      3\n",
       "A98           3\n",
       "D06           2\n",
       "D08           1\n",
       "D11           1\n",
       "D20           1\n",
       "D10           1\n",
       "Name: area_mapper, dtype: int64"
      ]
     },
     "execution_count": 14,
     "metadata": {},
     "output_type": "execute_result"
    }
   ],
   "source": [
    "gluggers['area_mapper'] = gluggers['Address'].map(address_mapper)\n",
    "\n",
    "gluggers['area_mapper'].value_counts()"
   ]
  },
  {
   "cell_type": "code",
   "execution_count": 15,
   "metadata": {
    "collapsed": false
   },
   "outputs": [
    {
     "data": {
      "text/plain": [
       "[[(u'teach meal\\xf3g', u'templeogue'),\n",
       "  {u'D16', u'D6W'},\n",
       "  u'NO 11 ORLAGH NA GREEN, TEMPLEOGUE, DUBLIN16'],\n",
       " [(u'donnycarney', u'clontarf'),\n",
       "  {u'D03', u'D05', u'D09'},\n",
       "  u'11 Churchfield, 59/60 Clontarf Road, Dublin 3'],\n",
       " [(u'teach meal\\xf3g', u'templeogue'),\n",
       "  {u'D16', u'D6W'},\n",
       "  u'MANTUA, 256 TEMPLEOGUE RD, TEMPLEOGUE BRIDGE DUBLIN 6']]"
      ]
     },
     "execution_count": 15,
     "metadata": {},
     "output_type": "execute_result"
    }
   ],
   "source": [
    "multiples"
   ]
  },
  {
   "cell_type": "code",
   "execution_count": 16,
   "metadata": {
    "collapsed": false
   },
   "outputs": [
    {
     "data": {
      "text/html": [
       "<div>\n",
       "<table border=\"1\" class=\"dataframe\">\n",
       "  <thead>\n",
       "    <tr style=\"text-align: right;\">\n",
       "      <th></th>\n",
       "      <th>Address</th>\n",
       "      <th>County</th>\n",
       "      <th>Date</th>\n",
       "      <th>Description</th>\n",
       "      <th>FullMarketPrice</th>\n",
       "      <th>Lat</th>\n",
       "      <th>Lon</th>\n",
       "      <th>PC</th>\n",
       "      <th>PostCode</th>\n",
       "      <th>Prediction</th>\n",
       "      <th>Price</th>\n",
       "      <th>Size</th>\n",
       "      <th>VAT</th>\n",
       "      <th>gCheck</th>\n",
       "      <th>Bayes</th>\n",
       "      <th>area_mapper</th>\n",
       "    </tr>\n",
       "  </thead>\n",
       "  <tbody>\n",
       "    <tr>\n",
       "      <th>21558</th>\n",
       "      <td>3 MONKSLEA, BORU COURT, FOREST ROAD</td>\n",
       "      <td>Dublin</td>\n",
       "      <td>2016-01-08</td>\n",
       "      <td>Second-Hand Dwelling house /Apartment</td>\n",
       "      <td>No</td>\n",
       "      <td>NaN</td>\n",
       "      <td>NaN</td>\n",
       "      <td>glugger</td>\n",
       "      <td></td>\n",
       "      <td>NaN</td>\n",
       "      <td>170000.0</td>\n",
       "      <td></td>\n",
       "      <td>No</td>\n",
       "      <td>NoResponse</td>\n",
       "      <td>glugger</td>\n",
       "      <td>glugger</td>\n",
       "    </tr>\n",
       "    <tr>\n",
       "      <th>21559</th>\n",
       "      <td>41 Priory Road, Harolds Cross Road, Dublin 6W</td>\n",
       "      <td>Dublin</td>\n",
       "      <td>2016-01-08</td>\n",
       "      <td>Second-Hand Dwelling house /Apartment</td>\n",
       "      <td>No</td>\n",
       "      <td>NaN</td>\n",
       "      <td>NaN</td>\n",
       "      <td>glugger</td>\n",
       "      <td></td>\n",
       "      <td>NaN</td>\n",
       "      <td>750000.0</td>\n",
       "      <td></td>\n",
       "      <td>No</td>\n",
       "      <td>NoResponse</td>\n",
       "      <td>glugger</td>\n",
       "      <td>glugger</td>\n",
       "    </tr>\n",
       "    <tr>\n",
       "      <th>21568</th>\n",
       "      <td>77 CASTLEDAWSON, ROCK RD, SION HILL</td>\n",
       "      <td>Dublin</td>\n",
       "      <td>2016-01-19</td>\n",
       "      <td>Second-Hand Dwelling house /Apartment</td>\n",
       "      <td>No</td>\n",
       "      <td>NaN</td>\n",
       "      <td>NaN</td>\n",
       "      <td>glugger</td>\n",
       "      <td></td>\n",
       "      <td>NaN</td>\n",
       "      <td>585000.0</td>\n",
       "      <td></td>\n",
       "      <td>No</td>\n",
       "      <td>NoResponse</td>\n",
       "      <td>glugger</td>\n",
       "      <td>glugger</td>\n",
       "    </tr>\n",
       "    <tr>\n",
       "      <th>21569</th>\n",
       "      <td>13 MONTGOMERY COURT, DUBLIN 1, DUBLIN</td>\n",
       "      <td>Dublin</td>\n",
       "      <td>2016-01-20</td>\n",
       "      <td>Second-Hand Dwelling house /Apartment</td>\n",
       "      <td>No</td>\n",
       "      <td>NaN</td>\n",
       "      <td>NaN</td>\n",
       "      <td>glugger</td>\n",
       "      <td></td>\n",
       "      <td>NaN</td>\n",
       "      <td>200000.0</td>\n",
       "      <td></td>\n",
       "      <td>No</td>\n",
       "      <td>BadLat</td>\n",
       "      <td>glugger</td>\n",
       "      <td>glugger</td>\n",
       "    </tr>\n",
       "    <tr>\n",
       "      <th>21573</th>\n",
       "      <td>37  Langford Street, Killorglin</td>\n",
       "      <td>Dublin</td>\n",
       "      <td>2016-01-21</td>\n",
       "      <td>Second-Hand Dwelling house /Apartment</td>\n",
       "      <td>No</td>\n",
       "      <td>NaN</td>\n",
       "      <td>NaN</td>\n",
       "      <td>glugger</td>\n",
       "      <td></td>\n",
       "      <td>NaN</td>\n",
       "      <td>95000.0</td>\n",
       "      <td></td>\n",
       "      <td>No</td>\n",
       "      <td>BadLat</td>\n",
       "      <td>glugger</td>\n",
       "      <td>glugger</td>\n",
       "    </tr>\n",
       "    <tr>\n",
       "      <th>21575</th>\n",
       "      <td>10 BORRIG HOUSE, BORRIS AVE, DUNLAOGHAIRE</td>\n",
       "      <td>Dublin</td>\n",
       "      <td>2016-01-22</td>\n",
       "      <td>Second-Hand Dwelling house /Apartment</td>\n",
       "      <td>No</td>\n",
       "      <td>NaN</td>\n",
       "      <td>NaN</td>\n",
       "      <td>glugger</td>\n",
       "      <td></td>\n",
       "      <td>NaN</td>\n",
       "      <td>220500.0</td>\n",
       "      <td></td>\n",
       "      <td>No</td>\n",
       "      <td>NoResponse</td>\n",
       "      <td>glugger</td>\n",
       "      <td>glugger</td>\n",
       "    </tr>\n",
       "    <tr>\n",
       "      <th>21578</th>\n",
       "      <td>7 Barnwell Walk, Hansfield, Barnwell</td>\n",
       "      <td>Dublin</td>\n",
       "      <td>2016-01-22</td>\n",
       "      <td>New Dwelling house /Apartment</td>\n",
       "      <td>No</td>\n",
       "      <td>NaN</td>\n",
       "      <td>NaN</td>\n",
       "      <td>glugger</td>\n",
       "      <td></td>\n",
       "      <td>NaN</td>\n",
       "      <td>254966.0</td>\n",
       "      <td>greater than or equal to 38 sq metres and less...</td>\n",
       "      <td>Yes</td>\n",
       "      <td>BadLat</td>\n",
       "      <td>glugger</td>\n",
       "      <td>glugger</td>\n",
       "    </tr>\n",
       "    <tr>\n",
       "      <th>21589</th>\n",
       "      <td>19 BLACK STREET, INFIRMARY ROAD, STONEYBATTER</td>\n",
       "      <td>Dublin</td>\n",
       "      <td>2016-01-29</td>\n",
       "      <td>Second-Hand Dwelling house /Apartment</td>\n",
       "      <td>No</td>\n",
       "      <td>NaN</td>\n",
       "      <td>NaN</td>\n",
       "      <td>glugger</td>\n",
       "      <td></td>\n",
       "      <td>NaN</td>\n",
       "      <td>217000.0</td>\n",
       "      <td></td>\n",
       "      <td>No</td>\n",
       "      <td>NoResponse</td>\n",
       "      <td>glugger</td>\n",
       "      <td>glugger</td>\n",
       "    </tr>\n",
       "    <tr>\n",
       "      <th>21595</th>\n",
       "      <td>10 HIBERNIA, DE VESCI COURT, THE SLOPES</td>\n",
       "      <td>Dublin</td>\n",
       "      <td>2016-01-30</td>\n",
       "      <td>Second-Hand Dwelling house /Apartment</td>\n",
       "      <td>Yes</td>\n",
       "      <td>NaN</td>\n",
       "      <td>NaN</td>\n",
       "      <td>glugger</td>\n",
       "      <td></td>\n",
       "      <td>NaN</td>\n",
       "      <td>120000.0</td>\n",
       "      <td></td>\n",
       "      <td>No</td>\n",
       "      <td>NoResponse</td>\n",
       "      <td>glugger</td>\n",
       "      <td>glugger</td>\n",
       "    </tr>\n",
       "    <tr>\n",
       "      <th>21597</th>\n",
       "      <td>113 PARKVIEW MANSION, APT 8, HAROLDS CROSS DUB...</td>\n",
       "      <td>Dublin</td>\n",
       "      <td>2016-02-01</td>\n",
       "      <td>Second-Hand Dwelling house /Apartment</td>\n",
       "      <td>No</td>\n",
       "      <td>NaN</td>\n",
       "      <td>NaN</td>\n",
       "      <td>glugger</td>\n",
       "      <td></td>\n",
       "      <td>NaN</td>\n",
       "      <td>145000.0</td>\n",
       "      <td></td>\n",
       "      <td>No</td>\n",
       "      <td>NoResponse</td>\n",
       "      <td>glugger</td>\n",
       "      <td>glugger</td>\n",
       "    </tr>\n",
       "  </tbody>\n",
       "</table>\n",
       "</div>"
      ],
      "text/plain": [
       "                                                 Address  County       Date  \\\n",
       "21558                3 MONKSLEA, BORU COURT, FOREST ROAD  Dublin 2016-01-08   \n",
       "21559      41 Priory Road, Harolds Cross Road, Dublin 6W  Dublin 2016-01-08   \n",
       "21568                77 CASTLEDAWSON, ROCK RD, SION HILL  Dublin 2016-01-19   \n",
       "21569              13 MONTGOMERY COURT, DUBLIN 1, DUBLIN  Dublin 2016-01-20   \n",
       "21573                    37  Langford Street, Killorglin  Dublin 2016-01-21   \n",
       "21575          10 BORRIG HOUSE, BORRIS AVE, DUNLAOGHAIRE  Dublin 2016-01-22   \n",
       "21578               7 Barnwell Walk, Hansfield, Barnwell  Dublin 2016-01-22   \n",
       "21589      19 BLACK STREET, INFIRMARY ROAD, STONEYBATTER  Dublin 2016-01-29   \n",
       "21595            10 HIBERNIA, DE VESCI COURT, THE SLOPES  Dublin 2016-01-30   \n",
       "21597  113 PARKVIEW MANSION, APT 8, HAROLDS CROSS DUB...  Dublin 2016-02-01   \n",
       "\n",
       "                                 Description FullMarketPrice  Lat  Lon  \\\n",
       "21558  Second-Hand Dwelling house /Apartment              No  NaN  NaN   \n",
       "21559  Second-Hand Dwelling house /Apartment              No  NaN  NaN   \n",
       "21568  Second-Hand Dwelling house /Apartment              No  NaN  NaN   \n",
       "21569  Second-Hand Dwelling house /Apartment              No  NaN  NaN   \n",
       "21573  Second-Hand Dwelling house /Apartment              No  NaN  NaN   \n",
       "21575  Second-Hand Dwelling house /Apartment              No  NaN  NaN   \n",
       "21578          New Dwelling house /Apartment              No  NaN  NaN   \n",
       "21589  Second-Hand Dwelling house /Apartment              No  NaN  NaN   \n",
       "21595  Second-Hand Dwelling house /Apartment             Yes  NaN  NaN   \n",
       "21597  Second-Hand Dwelling house /Apartment              No  NaN  NaN   \n",
       "\n",
       "            PC PostCode Prediction     Price  \\\n",
       "21558  glugger                 NaN  170000.0   \n",
       "21559  glugger                 NaN  750000.0   \n",
       "21568  glugger                 NaN  585000.0   \n",
       "21569  glugger                 NaN  200000.0   \n",
       "21573  glugger                 NaN   95000.0   \n",
       "21575  glugger                 NaN  220500.0   \n",
       "21578  glugger                 NaN  254966.0   \n",
       "21589  glugger                 NaN  217000.0   \n",
       "21595  glugger                 NaN  120000.0   \n",
       "21597  glugger                 NaN  145000.0   \n",
       "\n",
       "                                                    Size  VAT      gCheck  \\\n",
       "21558                                                      No  NoResponse   \n",
       "21559                                                      No  NoResponse   \n",
       "21568                                                      No  NoResponse   \n",
       "21569                                                      No      BadLat   \n",
       "21573                                                      No      BadLat   \n",
       "21575                                                      No  NoResponse   \n",
       "21578  greater than or equal to 38 sq metres and less...  Yes      BadLat   \n",
       "21589                                                      No  NoResponse   \n",
       "21595                                                      No  NoResponse   \n",
       "21597                                                      No  NoResponse   \n",
       "\n",
       "         Bayes area_mapper  \n",
       "21558  glugger     glugger  \n",
       "21559  glugger     glugger  \n",
       "21568  glugger     glugger  \n",
       "21569  glugger     glugger  \n",
       "21573  glugger     glugger  \n",
       "21575  glugger     glugger  \n",
       "21578  glugger     glugger  \n",
       "21589  glugger     glugger  \n",
       "21595  glugger     glugger  \n",
       "21597  glugger     glugger  "
      ]
     },
     "execution_count": 16,
     "metadata": {},
     "output_type": "execute_result"
    }
   ],
   "source": [
    "gluggers[gluggers['area_mapper'] == 'glugger'].head(10)"
   ]
  },
  {
   "cell_type": "markdown",
   "metadata": {
    "collapsed": true
   },
   "source": [
    "Looking at the addresses in `gluggers.head()`, it's clear that that the majority of these missing addresses can be filled in by hand. But, for the purposes of this exercise, having 201 missing values means the we have 98.4% of our eirKeys present and correct, and the effort involved in chasing down these 201 aren't worth it for the difference.\n",
    "\n",
    "Nothing to do now but return these values to make a complete `houses` data frame once more, and tidy it up ready for its close up in [Part 4: Data Analysis]()."
   ]
  },
  {
   "cell_type": "code",
   "execution_count": 17,
   "metadata": {
    "collapsed": false
   },
   "outputs": [
    {
     "data": {
      "text/plain": [
       "Address                    object\n",
       "Bayes                      object\n",
       "County                     object\n",
       "Date               datetime64[ns]\n",
       "Description                object\n",
       "FullMarketPrice            object\n",
       "Lat                       float64\n",
       "Lon                       float64\n",
       "PC                         object\n",
       "PostCode                   object\n",
       "Prediction                 object\n",
       "Price                     float64\n",
       "Size                       object\n",
       "VAT                        object\n",
       "area_mapper                object\n",
       "gCheck                     object\n",
       "dtype: object"
      ]
     },
     "execution_count": 17,
     "metadata": {},
     "output_type": "execute_result"
    }
   ],
   "source": [
    "non_gluggers = house_prices[house_prices['Bayes'] != 'glugger'].copy()\n",
    "final = pd.concat([non_gluggers, gluggers], ignore_index=True)\n",
    "final.dtypes"
   ]
  },
  {
   "cell_type": "code",
   "execution_count": 18,
   "metadata": {
    "collapsed": false
   },
   "outputs": [],
   "source": [
    "def apply_final_postcodes(aRow):\n",
    "    if aRow['Bayes'] == 'glugger':\n",
    "        return aRow['area_mapper']\n",
    "    else:\n",
    "        return aRow['Bayes']\n",
    "\n",
    "final['eirKey'] = final.apply(lambda x: apply_final_postcodes(x), axis=1)"
   ]
  },
  {
   "cell_type": "code",
   "execution_count": 19,
   "metadata": {
    "collapsed": false
   },
   "outputs": [
    {
     "data": {
      "text/plain": [
       "D15         2019\n",
       "D24         1348\n",
       "A94         1226\n",
       "D12         1173\n",
       "A96         1162\n",
       "D13         1121\n",
       "K67         1109\n",
       "D04         1080\n",
       "D16         1076\n",
       "D18         1058\n",
       "D11          992\n",
       "D06          984\n",
       "D07          971\n",
       "D09          952\n",
       "D14          917\n",
       "K36          852\n",
       "D03          835\n",
       "K78          830\n",
       "D08          805\n",
       "D05          666\n",
       "D22          538\n",
       "D01          528\n",
       "K32          509\n",
       "glugger      423\n",
       "D10          259\n",
       "D02          235\n",
       "K34          228\n",
       "D20          167\n",
       "K56          154\n",
       "K45          137\n",
       "D17          108\n",
       "A98           41\n",
       "A42            8\n",
       "A45            8\n",
       "multiple       3\n",
       "A86            2\n",
       "A41            1\n",
       "Name: eirKey, dtype: int64"
      ]
     },
     "execution_count": 19,
     "metadata": {},
     "output_type": "execute_result"
    }
   ],
   "source": [
    "final.eirKey.value_counts()"
   ]
  },
  {
   "cell_type": "markdown",
   "metadata": {},
   "source": [
    "### eirKey Names\n",
    "As Lieutenant Columbo used to say, there's just one more thing: those eirKeys aren't very intuitive. Let's see if we can use the geodata information we have to create an `eirKeyName` column.\n",
    "\n",
    "We're going to group `geocode_df` by eirKey, and then count up the Localities for each eirKey. That `value_counts()` Series is then passed to the `check_values()` function, which removes any unhelpful localities, such as 'Dublin' or '', and then returns the locality at the top of the tree. If the pruning has eliminated the entire tree, it returns the eirKey itself.\n",
    "\n",
    "The localities aren't quite ideal - Blanchardstown is subsumed into Castleknock, Christchurch into Dolphins' Barn (I imagine wigs on the green at the next DCC meeting if that were to happen in real-life), and so on. Again, these could be pruned by hand, but such pruning isn't really worthwhile for the purposes of this exercise."
   ]
  },
  {
   "cell_type": "code",
   "execution_count": 20,
   "metadata": {
    "collapsed": false
   },
   "outputs": [
    {
     "data": {
      "text/plain": [
       "Castleknock      2019\n",
       "Tallaght         1348\n",
       "Blackrock        1226\n",
       "Crumlin          1173\n",
       "Killiney         1162\n",
       "Sutton           1121\n",
       "Swords           1109\n",
       "Ballsbridge      1080\n",
       "Ballinteer       1076\n",
       "Foxrock          1058\n",
       "Finglas           992\n",
       "Rathmines         984\n",
       "Cabra             971\n",
       "Drumcondra        952\n",
       "Churchtown        917\n",
       "Malahide          852\n",
       "Clontarf          835\n",
       "Lucan             830\n",
       "Dolphins Barn     805\n",
       "Raheny            666\n",
       "Clondalkin        538\n",
       "D01               528\n",
       "Balbriggan        509\n",
       "Ballyfermot       259\n",
       "D02               235\n",
       "Skerries          228\n",
       "Palmerstown       167\n",
       "Rush              154\n",
       "Lusk              137\n",
       "Coolock           108\n",
       "Bray               41\n",
       "Garristown          8\n",
       "Oldtown Court       8\n",
       "Dunboyne            2\n",
       "Ballyboughal        1\n",
       "Name: eirKeyName, dtype: int64"
      ]
     },
     "execution_count": 20,
     "metadata": {},
     "output_type": "execute_result"
    }
   ],
   "source": [
    "eirKey_namer = {}\n",
    "def check_values(values, ek):\n",
    "    forbidden_localities = ['Dublin', 'dublin', 'dub', 'Dub', 'DUB', '']\n",
    "    for f in forbidden_localities:\n",
    "        if f in values:\n",
    "            values.remove(f)\n",
    "    if len(values) > 0:\n",
    "        return values[0]\n",
    "    else:\n",
    "        return ek\n",
    "    \n",
    "byEirKey = geocode_df.groupby('eirKey')\n",
    "for ek, details in byEirKey:\n",
    "    temp = details['Locality'].value_counts()\n",
    "    values = list(temp.keys())\n",
    "    value = check_values(values, ek)\n",
    "    eirKey_namer[ek] = value\n",
    "    \n",
    "final['eirKeyName'] = final['eirKey'].map(eirKey_namer)\n",
    "final.eirKeyName.value_counts()\n",
    "    "
   ]
  },
  {
   "cell_type": "code",
   "execution_count": 21,
   "metadata": {
    "collapsed": false
   },
   "outputs": [
    {
     "data": {
      "text/plain": [
       "Address                    object\n",
       "Bayes                      object\n",
       "County                     object\n",
       "Date               datetime64[ns]\n",
       "Description                object\n",
       "FullMarketPrice            object\n",
       "Lat                       float64\n",
       "Lon                       float64\n",
       "PC                         object\n",
       "PostCode                   object\n",
       "Prediction                 object\n",
       "Price                     float64\n",
       "Size                       object\n",
       "VAT                        object\n",
       "area_mapper                object\n",
       "gCheck                     object\n",
       "eirKey                     object\n",
       "eirKeyName                 object\n",
       "dtype: object"
      ]
     },
     "execution_count": 21,
     "metadata": {},
     "output_type": "execute_result"
    }
   ],
   "source": [
    "final.dtypes"
   ]
  },
  {
   "cell_type": "code",
   "execution_count": 22,
   "metadata": {
    "collapsed": false
   },
   "outputs": [],
   "source": [
    "final.drop(['Bayes', 'County', 'PC', 'PostCode', 'Prediction', 'area_mapper', 'gCheck'], axis=1, inplace=True)"
   ]
  },
  {
   "cell_type": "code",
   "execution_count": 23,
   "metadata": {
    "collapsed": false
   },
   "outputs": [
    {
     "data": {
      "text/html": [
       "<div>\n",
       "<table border=\"1\" class=\"dataframe\">\n",
       "  <thead>\n",
       "    <tr style=\"text-align: right;\">\n",
       "      <th></th>\n",
       "      <th>Address</th>\n",
       "      <th>Date</th>\n",
       "      <th>Description</th>\n",
       "      <th>FullMarketPrice</th>\n",
       "      <th>Lat</th>\n",
       "      <th>Lon</th>\n",
       "      <th>Price</th>\n",
       "      <th>Size</th>\n",
       "      <th>VAT</th>\n",
       "      <th>eirKey</th>\n",
       "      <th>eirKeyName</th>\n",
       "    </tr>\n",
       "  </thead>\n",
       "  <tbody>\n",
       "    <tr>\n",
       "      <th>0</th>\n",
       "      <td>34 Mountpleasant Terrace, Dublin 6, D06 YC58, ...</td>\n",
       "      <td>2016-01-01</td>\n",
       "      <td>Second-Hand Dwelling house /Apartment</td>\n",
       "      <td>No</td>\n",
       "      <td>53.328587</td>\n",
       "      <td>-6.261495</td>\n",
       "      <td>170000.0</td>\n",
       "      <td></td>\n",
       "      <td>No</td>\n",
       "      <td>D06</td>\n",
       "      <td>Rathmines</td>\n",
       "    </tr>\n",
       "    <tr>\n",
       "      <th>1</th>\n",
       "      <td>2 Brighton Rd, Brighton Hall, Kerrymount, Dubl...</td>\n",
       "      <td>2016-01-04</td>\n",
       "      <td>Second-Hand Dwelling house /Apartment</td>\n",
       "      <td>No</td>\n",
       "      <td>53.258165</td>\n",
       "      <td>-6.174641</td>\n",
       "      <td>1150000.0</td>\n",
       "      <td></td>\n",
       "      <td>No</td>\n",
       "      <td>D18</td>\n",
       "      <td>Foxrock</td>\n",
       "    </tr>\n",
       "    <tr>\n",
       "      <th>2</th>\n",
       "      <td>24 Woodstown Meadow, Ballycullen, Dublin 16, D...</td>\n",
       "      <td>2016-01-04</td>\n",
       "      <td>Second-Hand Dwelling house /Apartment</td>\n",
       "      <td>No</td>\n",
       "      <td>53.273761</td>\n",
       "      <td>-6.327188</td>\n",
       "      <td>430000.0</td>\n",
       "      <td></td>\n",
       "      <td>No</td>\n",
       "      <td>D16</td>\n",
       "      <td>Ballinteer</td>\n",
       "    </tr>\n",
       "    <tr>\n",
       "      <th>3</th>\n",
       "      <td>28 Belton Park Gardens, Clontarf, Dublin 9, D0...</td>\n",
       "      <td>2016-01-04</td>\n",
       "      <td>Second-Hand Dwelling house /Apartment</td>\n",
       "      <td>No</td>\n",
       "      <td>53.375715</td>\n",
       "      <td>-6.226541</td>\n",
       "      <td>225000.0</td>\n",
       "      <td></td>\n",
       "      <td>No</td>\n",
       "      <td>D09</td>\n",
       "      <td>Drumcondra</td>\n",
       "    </tr>\n",
       "    <tr>\n",
       "      <th>4</th>\n",
       "      <td>48A Beaufield Park, Stillorgan, Dublin, A94 XH...</td>\n",
       "      <td>2016-01-04</td>\n",
       "      <td>Second-Hand Dwelling house /Apartment</td>\n",
       "      <td>No</td>\n",
       "      <td>53.290123</td>\n",
       "      <td>-6.203367</td>\n",
       "      <td>345000.0</td>\n",
       "      <td></td>\n",
       "      <td>No</td>\n",
       "      <td>A94</td>\n",
       "      <td>Blackrock</td>\n",
       "    </tr>\n",
       "  </tbody>\n",
       "</table>\n",
       "</div>"
      ],
      "text/plain": [
       "                                             Address       Date  \\\n",
       "0  34 Mountpleasant Terrace, Dublin 6, D06 YC58, ... 2016-01-01   \n",
       "1  2 Brighton Rd, Brighton Hall, Kerrymount, Dubl... 2016-01-04   \n",
       "2  24 Woodstown Meadow, Ballycullen, Dublin 16, D... 2016-01-04   \n",
       "3  28 Belton Park Gardens, Clontarf, Dublin 9, D0... 2016-01-04   \n",
       "4  48A Beaufield Park, Stillorgan, Dublin, A94 XH... 2016-01-04   \n",
       "\n",
       "                             Description FullMarketPrice        Lat       Lon  \\\n",
       "0  Second-Hand Dwelling house /Apartment              No  53.328587 -6.261495   \n",
       "1  Second-Hand Dwelling house /Apartment              No  53.258165 -6.174641   \n",
       "2  Second-Hand Dwelling house /Apartment              No  53.273761 -6.327188   \n",
       "3  Second-Hand Dwelling house /Apartment              No  53.375715 -6.226541   \n",
       "4  Second-Hand Dwelling house /Apartment              No  53.290123 -6.203367   \n",
       "\n",
       "       Price Size VAT eirKey  eirKeyName  \n",
       "0   170000.0       No    D06   Rathmines  \n",
       "1  1150000.0       No    D18     Foxrock  \n",
       "2   430000.0       No    D16  Ballinteer  \n",
       "3   225000.0       No    D09  Drumcondra  \n",
       "4   345000.0       No    A94   Blackrock  "
      ]
     },
     "execution_count": 23,
     "metadata": {},
     "output_type": "execute_result"
    }
   ],
   "source": [
    "final.head()"
   ]
  },
  {
   "cell_type": "code",
   "execution_count": 24,
   "metadata": {
    "collapsed": true
   },
   "outputs": [],
   "source": [
    "with open('../library/pickle/prices_final_dublin_2016_2015_pickle', 'w') as f:\n",
    "    pickle.dump(final, f)"
   ]
  },
  {
   "cell_type": "code",
   "execution_count": null,
   "metadata": {
    "collapsed": true
   },
   "outputs": [],
   "source": []
  }
 ],
 "metadata": {
  "kernelspec": {
   "display_name": "Python 2",
   "language": "python",
   "name": "python2"
  },
  "language_info": {
   "codemirror_mode": {
    "name": "ipython",
    "version": 2
   },
   "file_extension": ".py",
   "mimetype": "text/x-python",
   "name": "python",
   "nbconvert_exporter": "python",
   "pygments_lexer": "ipython2",
   "version": "2.7.11"
  }
 },
 "nbformat": 4,
 "nbformat_minor": 0
}
