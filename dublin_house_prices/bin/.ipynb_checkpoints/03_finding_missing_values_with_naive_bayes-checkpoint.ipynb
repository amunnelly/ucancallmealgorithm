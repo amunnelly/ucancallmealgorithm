{
 "cells": [
  {
   "cell_type": "markdown",
   "metadata": {},
   "source": [
    "# Dublin House Prices by Post Code\n",
    "## Part 3 - Using Machine Learning to Find Missing Values\n",
    "We used a `Google Maps Client` to clean up some initial house price data from the [Property Price Register](https://www.propertypriceregister.ie/website/npsra/pprweb.nsf/page/ppr-home-en) website in [Part 1](). Then, in [Part 2](), we cleaned that data and associated as many addresses as we could with eirKeys, the new post code format in Ireland. Now, in Part 3, we hope to use to Machine Learning techniques to fill in the rest."
   ]
  },
  {
   "cell_type": "code",
   "execution_count": 1,
   "metadata": {
    "collapsed": true
   },
   "outputs": [],
   "source": [
    "import pandas as pd\n",
    "import pickle\n",
    "from sklearn.naive_bayes import GaussianNB\n",
    "from sklearn.cross_validation import train_test_split"
   ]
  },
  {
   "cell_type": "code",
   "execution_count": 2,
   "metadata": {
    "collapsed": false
   },
   "outputs": [
    {
     "data": {
      "text/plain": [
       "Address                    object\n",
       "County                     object\n",
       "Date               datetime64[ns]\n",
       "Description                object\n",
       "FullMarketPrice            object\n",
       "Lat                       float64\n",
       "Lon                       float64\n",
       "PostCode                   object\n",
       "Size                       object\n",
       "VAT                        object\n",
       "gCheck                     object\n",
       "Price                     float64\n",
       "PC                         object\n",
       "dtype: object"
      ]
     },
     "execution_count": 2,
     "metadata": {},
     "output_type": "execute_result"
    }
   ],
   "source": [
    "with open('../library/pickle/2016/houses_cleaned_after_google_2016_pickle', 'r') as f:\n",
    "    houses = pickle.load(f)\n",
    "houses.dtypes"
   ]
  },
  {
   "cell_type": "code",
   "execution_count": 3,
   "metadata": {
    "collapsed": false
   },
   "outputs": [
    {
     "data": {
      "text/plain": [
       "glugger    4194\n",
       "D15        1038\n",
       "D04         683\n",
       "D24         540\n",
       "D18         539\n",
       "D07         498\n",
       "D09         494\n",
       "D16         471\n",
       "D12         437\n",
       "D13         430\n",
       "D08         413\n",
       "D11         407\n",
       "D06         383\n",
       "D14         376\n",
       "D03         345\n",
       "D05         332\n",
       "A94         279\n",
       "K78         262\n",
       "A96         251\n",
       "K67         246\n",
       "D22         230\n",
       "D01         202\n",
       "K32         183\n",
       "D02         137\n",
       "K36         125\n",
       "D10         122\n",
       "D17          85\n",
       "D20          78\n",
       "K34          49\n",
       "K45          42\n",
       "A98          17\n",
       "K56          17\n",
       "A45           2\n",
       "A41           1\n",
       "A42           1\n",
       "Name: PC, dtype: int64"
      ]
     },
     "execution_count": 3,
     "metadata": {},
     "output_type": "execute_result"
    }
   ],
   "source": [
    "houses.PC.value_counts()"
   ]
  },
  {
   "cell_type": "markdown",
   "metadata": {},
   "source": [
    "### Using Naive Bayes to Find eirKeys for Addresses\n",
    "Houses for which we don't have an eirKey are called 'gluggers', from the Irish _ubh ghliogair_, a rotten egg. the good news is The presence of the addresses for which we have both geographic coordinates and an eirKey can help up train a model that will will help us track down eirKeys for addresses for which we have only coordinates. This is how we'll do it:\n",
    "\n",
    "1. We have to divide our data frame into three types.\n",
    "    * `good_eggs`, which is where we have both post codes and coordinates,\n",
    "    * `glugger_coord`, where we have coordinates but no post code.\n",
    "    * `glugger_lost`, where we have neither coordinate nor post code.\n",
    "2. This being done, we can use the extant post codes in the `good_eggs` to train a Naive Bayes classification model.\n",
    "3. We can then use our Naive Bayes model to assign post codes to our `glugger_coord` data frame, using the co-ordinates.\n",
    "4. Concatenate the three data frames again\n",
    "5. Resolve the different post code columns"
   ]
  },
  {
   "cell_type": "code",
   "execution_count": 4,
   "metadata": {
    "collapsed": false
   },
   "outputs": [
    {
     "name": "stdout",
     "output_type": "stream",
     "text": [
      "We have 6,634 addresses with good coordinates.\n",
      "We have 2,610 addresses for which we have coordinates but no eirKey.\n",
      "We have 1,584 addresses for which we have neither eirKey nor coordinates. These are our most challenging problem.\n"
     ]
    }
   ],
   "source": [
    "glugger_coord = houses[(houses['PC'] == 'glugger') & (houses['Lat'].notnull())].copy()\n",
    "glugger_lost = houses[(houses['PC'] == 'glugger') & (houses['Lat'].isnull())].copy()\n",
    "good_eggs = houses[(houses['PC'] != 'glugger') & (houses['Lat'].notnull())].copy()\n",
    "\n",
    "print \"We have {:,} addresses with good coordinates.\".format(good_eggs.shape[0])\n",
    "print \"We have {:,} addresses for which we have coordinates but no eirKey.\".format(glugger_coord.shape[0])\n",
    "print \"We have {:,} addresses for which we have neither eirKey nor coordinates. These are our most challenging problem.\".format(glugger_lost.shape[0])"
   ]
  },
  {
   "cell_type": "markdown",
   "metadata": {},
   "source": [
    "We're now going to use the data for which we have coordinates and eirKeys, the `good_eggs` data frame, to train a model to predict eirKeys based on the co-ordinates that exist in the `glugger_coord` data frame."
   ]
  },
  {
   "cell_type": "code",
   "execution_count": 5,
   "metadata": {
    "collapsed": false
   },
   "outputs": [
    {
     "data": {
      "text/plain": [
       "GaussianNB()"
      ]
     },
     "execution_count": 5,
     "metadata": {},
     "output_type": "execute_result"
    }
   ],
   "source": [
    "coords = good_eggs[['Lat', 'Lon']]\n",
    "\n",
    "f_train, f_test, l_train, l_test = train_test_split(coords,\n",
    "                                                    good_eggs['PC'],\n",
    "                                                    test_size = 0.25,\n",
    "                                                    random_state = 33)\n",
    "\n",
    "clf = GaussianNB()\n",
    "clf.fit(f_train, l_train)"
   ]
  },
  {
   "cell_type": "markdown",
   "metadata": {},
   "source": [
    "Next, we're going to call the `predict` method on our `clf` classifier to predict eirKeys for every address in `glugger_coord`, and store those predictions in a new *Prediction* column."
   ]
  },
  {
   "cell_type": "code",
   "execution_count": 6,
   "metadata": {
    "collapsed": false
   },
   "outputs": [
    {
     "name": "stdout",
     "output_type": "stream",
     "text": [
      "                                              Address  County       Date  \\\n",
      "2   Moyola Mews, Churchtown Rd Lower, Churchtown L...  Dublin 2016-01-04   \n",
      "5   Hampton Lodge, Grace Park Rd, Whitehall, Dubli...  Dublin 2016-01-04   \n",
      "6    32 Latchford Square, Castaheany, Dublin, Ireland  Dublin 2016-01-04   \n",
      "8   5 Mount Argus Terrace, Harold's Cross, Dublin ...  Dublin 2016-01-04   \n",
      "14      Clarendon Hall, Aungier St, Dublin 2, Ireland  Dublin 2016-01-05   \n",
      "\n",
      "                              Description FullMarketPrice        Lat  \\\n",
      "2   Second-Hand Dwelling house /Apartment              No  53.298311   \n",
      "5   Second-Hand Dwelling house /Apartment              No  53.376031   \n",
      "6   Second-Hand Dwelling house /Apartment              No  53.396303   \n",
      "8   Second-Hand Dwelling house /Apartment              No  53.322198   \n",
      "14  Second-Hand Dwelling house /Apartment              No  53.340596   \n",
      "\n",
      "         Lon  PostCode Size VAT gCheck     Price       PC Prediction  \n",
      "2  -6.253560                 No   Good  330000.0  glugger        D14  \n",
      "5  -6.244823                 No   Good  315000.0  glugger        D09  \n",
      "6  -6.431034                 No   Good  230000.0  glugger        D15  \n",
      "8  -6.289609  D6W H744       No   Good  375000.0  glugger        D12  \n",
      "14 -6.266083                 No   Good  170000.0  glugger        D02  \n"
     ]
    }
   ],
   "source": [
    "glugger_coord['Prediction'] = clf.predict(glugger_coord[['Lat', 'Lon']])\n",
    "print glugger_coord.head()"
   ]
  },
  {
   "cell_type": "markdown",
   "metadata": {},
   "source": [
    "Finally, we rejoin the three data frames into one, cosolidate the eirKey data, and see what we've got."
   ]
  },
  {
   "cell_type": "code",
   "execution_count": 7,
   "metadata": {
    "collapsed": false
   },
   "outputs": [
    {
     "data": {
      "text/plain": [
       "glugger    1584\n",
       "D15         781\n",
       "D12         557\n",
       "A96         492\n",
       "D24         447\n",
       "A94         441\n",
       "D04         433\n",
       "D07         420\n",
       "D14         405\n",
       "D09         404\n",
       "D11         400\n",
       "D06         385\n",
       "D18         367\n",
       "D16         365\n",
       "D13         343\n",
       "K67         328\n",
       "D03         322\n",
       "D05         315\n",
       "D08         313\n",
       "K78         305\n",
       "K36         280\n",
       "K32         231\n",
       "D22         225\n",
       "D01         146\n",
       "D02         133\n",
       "D10         113\n",
       "K34          65\n",
       "D20          59\n",
       "D17          53\n",
       "K45          47\n",
       "K56          45\n",
       "A98          19\n",
       "A45           3\n",
       "A41           1\n",
       "A42           1\n",
       "Name: Bayes, dtype: int64"
      ]
     },
     "execution_count": 7,
     "metadata": {},
     "output_type": "execute_result"
    }
   ],
   "source": [
    "house_prices = pd.concat([good_eggs, glugger_coord, glugger_lost], ignore_index=True)\n",
    "\n",
    "import numpy as np\n",
    "\n",
    "def apply_final_postcodes(aRow):\n",
    "    if aRow['PC'] == 'glugger' and type(aRow['Prediction']) != float:\n",
    "        return aRow['Prediction']\n",
    "    else:\n",
    "        return aRow['PC']\n",
    "\n",
    "house_prices['Bayes'] = house_prices.apply(lambda x: apply_final_postcodes(x), axis=1)\n",
    "house_prices['Bayes'].value_counts()"
   ]
  },
  {
   "cell_type": "markdown",
   "metadata": {
    "collapsed": false
   },
   "source": [
    "We still have 756 addresses, 11 per cent of the dataset total, for which we don't have eirKeys, meaning we have valid eirKeys for 89% of our sample. It may be possible to cut that number further, by using the Google Maps Geodata we carefully put away earlier - just in case."
   ]
  },
  {
   "cell_type": "markdown",
   "metadata": {},
   "source": [
    "### Google Geodata\n",
    "Google Maps creates a .json-like record for every address on its maps. _Neighborhood_ and _locality_ are two of the keys they use. Our geodata object from Part 1 has neighborhood and locality information for all the addresses for which we successfully able to find co-ordinates. We'll now use this to whittle down our missing values a little more.\n",
    "\n",
    "This process is much more grunt-work than the Naive Bayes implementation, but it takes all sorts, of course.\n",
    "\n",
    "**Firstly**, we load the geodata which is a list. We iterate through the geodata list, appending the co-ordinate, neighborhood and locality details to a second, neighborhood, list. From this neighborhood list we create a `geodata_df` so we can get a look at it."
   ]
  },
  {
   "cell_type": "code",
   "execution_count": 9,
   "metadata": {
    "collapsed": false
   },
   "outputs": [
    {
     "data": {
      "text/html": [
       "<div>\n",
       "<table border=\"1\" class=\"dataframe\">\n",
       "  <thead>\n",
       "    <tr style=\"text-align: right;\">\n",
       "      <th></th>\n",
       "      <th>Address</th>\n",
       "      <th>Lat</th>\n",
       "      <th>Lon</th>\n",
       "      <th>Locality</th>\n",
       "      <th>Neighborhood</th>\n",
       "      <th>eirKey</th>\n",
       "    </tr>\n",
       "  </thead>\n",
       "  <tbody>\n",
       "    <tr>\n",
       "      <th>0</th>\n",
       "      <td>34 Mountpleasant Terrace, Dublin 6, D06 YC58, ...</td>\n",
       "      <td>53.328587</td>\n",
       "      <td>-6.261495</td>\n",
       "      <td></td>\n",
       "      <td></td>\n",
       "      <td>D06</td>\n",
       "    </tr>\n",
       "    <tr>\n",
       "      <th>1</th>\n",
       "      <td>2 Brighton Rd, Brighton Hall, Kerrymount, Dubl...</td>\n",
       "      <td>53.258165</td>\n",
       "      <td>-6.174641</td>\n",
       "      <td></td>\n",
       "      <td>Kerrymount</td>\n",
       "      <td>D18</td>\n",
       "    </tr>\n",
       "    <tr>\n",
       "      <th>2</th>\n",
       "      <td>Moyola Mews, Churchtown Rd Lower, Churchtown L...</td>\n",
       "      <td>53.298311</td>\n",
       "      <td>-6.253560</td>\n",
       "      <td></td>\n",
       "      <td>Churchtown Lower</td>\n",
       "      <td></td>\n",
       "    </tr>\n",
       "    <tr>\n",
       "      <th>3</th>\n",
       "      <td>24 Woodstown Meadow, Ballycullen, Dublin 16, D...</td>\n",
       "      <td>53.273761</td>\n",
       "      <td>-6.327188</td>\n",
       "      <td></td>\n",
       "      <td>Ballycullen</td>\n",
       "      <td>D16</td>\n",
       "    </tr>\n",
       "    <tr>\n",
       "      <th>4</th>\n",
       "      <td>28 Belton Park Gardens, Clontarf, Dublin 9, D0...</td>\n",
       "      <td>53.375715</td>\n",
       "      <td>-6.226541</td>\n",
       "      <td></td>\n",
       "      <td>Clontarf</td>\n",
       "      <td>D09</td>\n",
       "    </tr>\n",
       "  </tbody>\n",
       "</table>\n",
       "</div>"
      ],
      "text/plain": [
       "                                             Address        Lat       Lon  \\\n",
       "0  34 Mountpleasant Terrace, Dublin 6, D06 YC58, ...  53.328587 -6.261495   \n",
       "1  2 Brighton Rd, Brighton Hall, Kerrymount, Dubl...  53.258165 -6.174641   \n",
       "2  Moyola Mews, Churchtown Rd Lower, Churchtown L...  53.298311 -6.253560   \n",
       "3  24 Woodstown Meadow, Ballycullen, Dublin 16, D...  53.273761 -6.327188   \n",
       "4  28 Belton Park Gardens, Clontarf, Dublin 9, D0...  53.375715 -6.226541   \n",
       "\n",
       "  Locality      Neighborhood eirKey  \n",
       "0                               D06  \n",
       "1                 Kerrymount    D18  \n",
       "2           Churchtown Lower         \n",
       "3                Ballycullen    D16  \n",
       "4                   Clontarf    D09  "
      ]
     },
     "execution_count": 9,
     "metadata": {},
     "output_type": "execute_result"
    }
   ],
   "source": [
    "with open('../library/pickle/2016/geodata_dublin_2016_pickle', 'r') as f:\n",
    "    gd = pickle.load(f)\n",
    "\n",
    "neighborhoods = []\n",
    "neighborhoods.append(['Address',\n",
    "                      'Lat',\n",
    "                      'Lon',\n",
    "                      'Locality',\n",
    "                      'Neighborhood',\n",
    "                      'eirKey'])\n",
    "\n",
    "def find_address_types(address):\n",
    "    returnValue = {'locality':'',\n",
    "                   'neighborhood':'',\n",
    "                   'eirKey':''}\n",
    "    for a in address:\n",
    "        if 'locality' in a['types']:\n",
    "            returnValue['locality'] = a['short_name']\n",
    "        if 'neighborhood' in a['types']:\n",
    "            returnValue['neighborhood'] = a['short_name']\n",
    "        if 'postal_code' in a['types']:\n",
    "            returnValue['eirKey'] = a['short_name'][:3]\n",
    "    \n",
    "    return returnValue\n",
    "\n",
    "\n",
    "for address in gd:\n",
    "    lat = address['geometry']['location']['lat']\n",
    "    lon = address['geometry']['location']['lng']\n",
    "    others = find_address_types(address['address_components'])\n",
    "    \n",
    "    temp = [address['formatted_address'],\n",
    "            lat,\n",
    "            lon,\n",
    "            others['locality'],\n",
    "            others['neighborhood'],\n",
    "            others['eirKey']]\n",
    "            \n",
    "    neighborhoods.append(temp)\n",
    "    \n",
    "geocode_df = pd.DataFrame(neighborhoods[1:],\n",
    "                      columns = neighborhoods[0])\n",
    "\n",
    "geocode_df.head()\n"
   ]
  },
  {
   "cell_type": "markdown",
   "metadata": {
    "collapsed": false
   },
   "source": [
    "**Secondly**, we group our `geodata_df` dataframe by both _locality_ and _neighborhood_, to prevent confusion with a generic placename like 'Hill' or 'Cross' showing up in more than one place. We then use these locality_neighborhood groups as keys in an area_to_eirKey_mapper dictionary, which will return a set of eirKeys for every tuple of locality and neighborhood.\n",
    "\n",
    "We check for sets with more than one element, as these will have to be either resolved by hand or else ignored, depending on the time-output balance in the project."
   ]
  },
  {
   "cell_type": "code",
   "execution_count": 11,
   "metadata": {
    "collapsed": false
   },
   "outputs": [],
   "source": [
    "from collections import defaultdict\n",
    "area_to_eirKey_mapper = defaultdict(set)\n",
    "byArea = geocode_df.groupby(['Locality', 'Neighborhood'])\n",
    "for area, rest in byArea:\n",
    "    if area[0] in ('', 'Dublin', 'DUB') or area[1] in ('', 'Dublin', 'DUB'):\n",
    "        continue\n",
    "    else:\n",
    "        temp = set(rest['eirKey'])\n",
    "        for t in temp:\n",
    "            if t not in ('', 'Dublin'):\n",
    "                area_to_eirKey_mapper[(area[0].lower(), area[1].lower())].add(t)\n",
    "            else:\n",
    "                continue\n",
    "\n",
    "for a, b in area_to_eirKey_mapper.iteritems():\n",
    "    if len(b)>1:\n",
    "        print a, b\n"
   ]
  },
  {
   "cell_type": "markdown",
   "metadata": {},
   "source": [
    "Nothing printed - this is a level of multiplicity we can live with. **Thirdly**, then, we now copy that slice of the `house_prices` data frame for which we don't have eirKeys. We iterate through the address and, where there's a match for either a locality or a neighborhood in an address string, we store in our `address_mapper` dictionary."
   ]
  },
  {
   "cell_type": "code",
   "execution_count": 13,
   "metadata": {
    "collapsed": false
   },
   "outputs": [
    {
     "name": "stdout",
     "output_type": "stream",
     "text": [
      "0\n"
     ]
    }
   ],
   "source": [
    "address_mapper = {}\n",
    "multiples = []\n",
    "gluggers = house_prices[house_prices.Bayes == 'glugger'].copy()\n",
    "addresses = gluggers['Address']\n",
    "\n",
    "for address in addresses:\n",
    "    found = False\n",
    "    for a, b in area_to_eirKey_mapper.iteritems():\n",
    "        if a[0] in address.lower() or a[1] in address.lower():\n",
    "            found = True\n",
    "            break\n",
    "            \n",
    "    if found == False:\n",
    "        address_mapper[address] = 'glugger'\n",
    "        continue\n",
    "\n",
    "    temp = list(b)\n",
    "    if len(temp) == 1:\n",
    "        address_mapper[address] = temp[0]\n",
    "        continue\n",
    "    else:\n",
    "        multiples.append([a, b, address])\n",
    "        address_mapper[address] = 'multiple'\n",
    "\n",
    "\n",
    "print len(multiples)"
   ]
  },
  {
   "cell_type": "code",
   "execution_count": 14,
   "metadata": {
    "collapsed": false
   },
   "outputs": [
    {
     "data": {
      "text/plain": [
       "glugger    664\n",
       "K36        222\n",
       "K67        189\n",
       "A94        113\n",
       "A96         76\n",
       "K78         71\n",
       "K34         64\n",
       "D24         57\n",
       "K32         46\n",
       "K56         37\n",
       "A41         14\n",
       "K45         14\n",
       "A98          6\n",
       "A42          4\n",
       "D13          3\n",
       "D15          2\n",
       "D22          1\n",
       "D18          1\n",
       "Name: area_mapper, dtype: int64"
      ]
     },
     "execution_count": 14,
     "metadata": {},
     "output_type": "execute_result"
    }
   ],
   "source": [
    "gluggers['area_mapper'] = gluggers['Address'].map(address_mapper)\n",
    "\n",
    "gluggers['area_mapper'].value_counts()"
   ]
  },
  {
   "cell_type": "code",
   "execution_count": 15,
   "metadata": {
    "collapsed": false
   },
   "outputs": [
    {
     "data": {
      "text/plain": [
       "[]"
      ]
     },
     "execution_count": 15,
     "metadata": {},
     "output_type": "execute_result"
    }
   ],
   "source": [
    "multiples"
   ]
  },
  {
   "cell_type": "code",
   "execution_count": 16,
   "metadata": {
    "collapsed": false
   },
   "outputs": [
    {
     "data": {
      "text/html": [
       "<div>\n",
       "<table border=\"1\" class=\"dataframe\">\n",
       "  <thead>\n",
       "    <tr style=\"text-align: right;\">\n",
       "      <th></th>\n",
       "      <th>Address</th>\n",
       "      <th>County</th>\n",
       "      <th>Date</th>\n",
       "      <th>Description</th>\n",
       "      <th>FullMarketPrice</th>\n",
       "      <th>Lat</th>\n",
       "      <th>Lon</th>\n",
       "      <th>PC</th>\n",
       "      <th>PostCode</th>\n",
       "      <th>Prediction</th>\n",
       "      <th>Price</th>\n",
       "      <th>Size</th>\n",
       "      <th>VAT</th>\n",
       "      <th>gCheck</th>\n",
       "      <th>Bayes</th>\n",
       "      <th>area_mapper</th>\n",
       "    </tr>\n",
       "  </thead>\n",
       "  <tbody>\n",
       "    <tr>\n",
       "      <th>9247</th>\n",
       "      <td>167 The Crescent, Park West Point, Gallanstown</td>\n",
       "      <td>Dublin</td>\n",
       "      <td>2016-01-05</td>\n",
       "      <td>Second-Hand Dwelling house /Apartment</td>\n",
       "      <td>No</td>\n",
       "      <td>NaN</td>\n",
       "      <td>NaN</td>\n",
       "      <td>glugger</td>\n",
       "      <td></td>\n",
       "      <td>NaN</td>\n",
       "      <td>130000.00</td>\n",
       "      <td></td>\n",
       "      <td>No</td>\n",
       "      <td>NoResponse</td>\n",
       "      <td>glugger</td>\n",
       "      <td>glugger</td>\n",
       "    </tr>\n",
       "    <tr>\n",
       "      <th>9249</th>\n",
       "      <td>5 NICHOLAS AVENUE, CHURCH STREET, DUBLIN 7</td>\n",
       "      <td>Dublin</td>\n",
       "      <td>2016-01-06</td>\n",
       "      <td>Second-Hand Dwelling house /Apartment</td>\n",
       "      <td>No</td>\n",
       "      <td>NaN</td>\n",
       "      <td>NaN</td>\n",
       "      <td>glugger</td>\n",
       "      <td></td>\n",
       "      <td>NaN</td>\n",
       "      <td>225000.00</td>\n",
       "      <td></td>\n",
       "      <td>No</td>\n",
       "      <td>NoResponse</td>\n",
       "      <td>glugger</td>\n",
       "      <td>glugger</td>\n",
       "    </tr>\n",
       "    <tr>\n",
       "      <th>9251</th>\n",
       "      <td>APT 1B, BEDFORD COURT, LOWER KIMMAGE RD DUBLIN 6W</td>\n",
       "      <td>Dublin</td>\n",
       "      <td>2016-01-06</td>\n",
       "      <td>Second-Hand Dwelling house /Apartment</td>\n",
       "      <td>No</td>\n",
       "      <td>NaN</td>\n",
       "      <td>NaN</td>\n",
       "      <td>glugger</td>\n",
       "      <td></td>\n",
       "      <td>NaN</td>\n",
       "      <td>130000.00</td>\n",
       "      <td></td>\n",
       "      <td>No</td>\n",
       "      <td>NoResponse</td>\n",
       "      <td>glugger</td>\n",
       "      <td>glugger</td>\n",
       "    </tr>\n",
       "    <tr>\n",
       "      <th>9255</th>\n",
       "      <td>TROODOS, JORDANSTOWN, BALLOUGH</td>\n",
       "      <td>Dublin</td>\n",
       "      <td>2016-01-07</td>\n",
       "      <td>Second-Hand Dwelling house /Apartment</td>\n",
       "      <td>No</td>\n",
       "      <td>NaN</td>\n",
       "      <td>NaN</td>\n",
       "      <td>glugger</td>\n",
       "      <td></td>\n",
       "      <td>NaN</td>\n",
       "      <td>312800.00</td>\n",
       "      <td></td>\n",
       "      <td>No</td>\n",
       "      <td>NoResponse</td>\n",
       "      <td>glugger</td>\n",
       "      <td>glugger</td>\n",
       "    </tr>\n",
       "    <tr>\n",
       "      <th>9259</th>\n",
       "      <td>3 MONKSLEA, BORU COURT, FOREST ROAD</td>\n",
       "      <td>Dublin</td>\n",
       "      <td>2016-01-08</td>\n",
       "      <td>Second-Hand Dwelling house /Apartment</td>\n",
       "      <td>No</td>\n",
       "      <td>NaN</td>\n",
       "      <td>NaN</td>\n",
       "      <td>glugger</td>\n",
       "      <td></td>\n",
       "      <td>NaN</td>\n",
       "      <td>170000.00</td>\n",
       "      <td></td>\n",
       "      <td>No</td>\n",
       "      <td>NoResponse</td>\n",
       "      <td>glugger</td>\n",
       "      <td>glugger</td>\n",
       "    </tr>\n",
       "    <tr>\n",
       "      <th>9260</th>\n",
       "      <td>41 Priory Road, Harolds Cross Road, Dublin 6W</td>\n",
       "      <td>Dublin</td>\n",
       "      <td>2016-01-08</td>\n",
       "      <td>Second-Hand Dwelling house /Apartment</td>\n",
       "      <td>No</td>\n",
       "      <td>NaN</td>\n",
       "      <td>NaN</td>\n",
       "      <td>glugger</td>\n",
       "      <td></td>\n",
       "      <td>NaN</td>\n",
       "      <td>750000.00</td>\n",
       "      <td></td>\n",
       "      <td>No</td>\n",
       "      <td>NoResponse</td>\n",
       "      <td>glugger</td>\n",
       "      <td>glugger</td>\n",
       "    </tr>\n",
       "    <tr>\n",
       "      <th>9265</th>\n",
       "      <td>3 Glencarrig, Brides Glen Road, Rathmichael</td>\n",
       "      <td>Dublin</td>\n",
       "      <td>2016-01-11</td>\n",
       "      <td>New Dwelling house /Apartment</td>\n",
       "      <td>No</td>\n",
       "      <td>NaN</td>\n",
       "      <td>NaN</td>\n",
       "      <td>glugger</td>\n",
       "      <td></td>\n",
       "      <td>NaN</td>\n",
       "      <td>748898.67</td>\n",
       "      <td>greater than 125 sq metres</td>\n",
       "      <td>Yes</td>\n",
       "      <td>NoResponse</td>\n",
       "      <td>glugger</td>\n",
       "      <td>glugger</td>\n",
       "    </tr>\n",
       "    <tr>\n",
       "      <th>9271</th>\n",
       "      <td>6 THE PIERRE APTS, VICTORIA TERRACE, DUN LAOGH...</td>\n",
       "      <td>Dublin</td>\n",
       "      <td>2016-01-15</td>\n",
       "      <td>Second-Hand Dwelling house /Apartment</td>\n",
       "      <td>No</td>\n",
       "      <td>NaN</td>\n",
       "      <td>NaN</td>\n",
       "      <td>glugger</td>\n",
       "      <td></td>\n",
       "      <td>NaN</td>\n",
       "      <td>875000.00</td>\n",
       "      <td></td>\n",
       "      <td>No</td>\n",
       "      <td>NoResponse</td>\n",
       "      <td>glugger</td>\n",
       "      <td>glugger</td>\n",
       "    </tr>\n",
       "    <tr>\n",
       "      <th>9277</th>\n",
       "      <td>65 BOWBRIDGE PLACE, KILMAINHAM, DUBLIN 8</td>\n",
       "      <td>Dublin</td>\n",
       "      <td>2016-01-19</td>\n",
       "      <td>Second-Hand Dwelling house /Apartment</td>\n",
       "      <td>No</td>\n",
       "      <td>NaN</td>\n",
       "      <td>NaN</td>\n",
       "      <td>glugger</td>\n",
       "      <td></td>\n",
       "      <td>NaN</td>\n",
       "      <td>205000.00</td>\n",
       "      <td></td>\n",
       "      <td>No</td>\n",
       "      <td>NoResponse</td>\n",
       "      <td>glugger</td>\n",
       "      <td>glugger</td>\n",
       "    </tr>\n",
       "    <tr>\n",
       "      <th>9278</th>\n",
       "      <td>77 CASTLEDAWSON, ROCK RD, SION HILL</td>\n",
       "      <td>Dublin</td>\n",
       "      <td>2016-01-19</td>\n",
       "      <td>Second-Hand Dwelling house /Apartment</td>\n",
       "      <td>No</td>\n",
       "      <td>NaN</td>\n",
       "      <td>NaN</td>\n",
       "      <td>glugger</td>\n",
       "      <td></td>\n",
       "      <td>NaN</td>\n",
       "      <td>585000.00</td>\n",
       "      <td></td>\n",
       "      <td>No</td>\n",
       "      <td>NoResponse</td>\n",
       "      <td>glugger</td>\n",
       "      <td>glugger</td>\n",
       "    </tr>\n",
       "  </tbody>\n",
       "</table>\n",
       "</div>"
      ],
      "text/plain": [
       "                                                Address  County       Date  \\\n",
       "9247     167 The Crescent, Park West Point, Gallanstown  Dublin 2016-01-05   \n",
       "9249         5 NICHOLAS AVENUE, CHURCH STREET, DUBLIN 7  Dublin 2016-01-06   \n",
       "9251  APT 1B, BEDFORD COURT, LOWER KIMMAGE RD DUBLIN 6W  Dublin 2016-01-06   \n",
       "9255                     TROODOS, JORDANSTOWN, BALLOUGH  Dublin 2016-01-07   \n",
       "9259                3 MONKSLEA, BORU COURT, FOREST ROAD  Dublin 2016-01-08   \n",
       "9260      41 Priory Road, Harolds Cross Road, Dublin 6W  Dublin 2016-01-08   \n",
       "9265        3 Glencarrig, Brides Glen Road, Rathmichael  Dublin 2016-01-11   \n",
       "9271  6 THE PIERRE APTS, VICTORIA TERRACE, DUN LAOGH...  Dublin 2016-01-15   \n",
       "9277           65 BOWBRIDGE PLACE, KILMAINHAM, DUBLIN 8  Dublin 2016-01-19   \n",
       "9278                77 CASTLEDAWSON, ROCK RD, SION HILL  Dublin 2016-01-19   \n",
       "\n",
       "                                Description FullMarketPrice  Lat  Lon  \\\n",
       "9247  Second-Hand Dwelling house /Apartment              No  NaN  NaN   \n",
       "9249  Second-Hand Dwelling house /Apartment              No  NaN  NaN   \n",
       "9251  Second-Hand Dwelling house /Apartment              No  NaN  NaN   \n",
       "9255  Second-Hand Dwelling house /Apartment              No  NaN  NaN   \n",
       "9259  Second-Hand Dwelling house /Apartment              No  NaN  NaN   \n",
       "9260  Second-Hand Dwelling house /Apartment              No  NaN  NaN   \n",
       "9265          New Dwelling house /Apartment              No  NaN  NaN   \n",
       "9271  Second-Hand Dwelling house /Apartment              No  NaN  NaN   \n",
       "9277  Second-Hand Dwelling house /Apartment              No  NaN  NaN   \n",
       "9278  Second-Hand Dwelling house /Apartment              No  NaN  NaN   \n",
       "\n",
       "           PC PostCode Prediction      Price                        Size  VAT  \\\n",
       "9247  glugger                 NaN  130000.00                               No   \n",
       "9249  glugger                 NaN  225000.00                               No   \n",
       "9251  glugger                 NaN  130000.00                               No   \n",
       "9255  glugger                 NaN  312800.00                               No   \n",
       "9259  glugger                 NaN  170000.00                               No   \n",
       "9260  glugger                 NaN  750000.00                               No   \n",
       "9265  glugger                 NaN  748898.67  greater than 125 sq metres  Yes   \n",
       "9271  glugger                 NaN  875000.00                               No   \n",
       "9277  glugger                 NaN  205000.00                               No   \n",
       "9278  glugger                 NaN  585000.00                               No   \n",
       "\n",
       "          gCheck    Bayes area_mapper  \n",
       "9247  NoResponse  glugger     glugger  \n",
       "9249  NoResponse  glugger     glugger  \n",
       "9251  NoResponse  glugger     glugger  \n",
       "9255  NoResponse  glugger     glugger  \n",
       "9259  NoResponse  glugger     glugger  \n",
       "9260  NoResponse  glugger     glugger  \n",
       "9265  NoResponse  glugger     glugger  \n",
       "9271  NoResponse  glugger     glugger  \n",
       "9277  NoResponse  glugger     glugger  \n",
       "9278  NoResponse  glugger     glugger  "
      ]
     },
     "execution_count": 16,
     "metadata": {},
     "output_type": "execute_result"
    }
   ],
   "source": [
    "gluggers[gluggers['area_mapper'] == 'glugger'].head(10)"
   ]
  },
  {
   "cell_type": "markdown",
   "metadata": {
    "collapsed": true
   },
   "source": [
    "Looking at the addresses in `gluggers.head()`, it's clear that that the majority of these missing addresses can be filled in by hand. But, for the purposes of this exercise, having 664 missing values means the we have 95.2% of our eirKeys present and correct, and the effort involved in chasing down these 664 aren't worth it for the difference.\n",
    "\n",
    "Nothing to do now but return these values to make a complete `houses` data frame once more, and tidy it up ready for its close up in [Part 4: Data Analysis]()."
   ]
  },
  {
   "cell_type": "code",
   "execution_count": 18,
   "metadata": {
    "collapsed": false
   },
   "outputs": [
    {
     "data": {
      "text/plain": [
       "Address                    object\n",
       "Bayes                      object\n",
       "County                     object\n",
       "Date               datetime64[ns]\n",
       "Description                object\n",
       "FullMarketPrice            object\n",
       "Lat                       float64\n",
       "Lon                       float64\n",
       "PC                         object\n",
       "PostCode                   object\n",
       "Prediction                 object\n",
       "Price                     float64\n",
       "Size                       object\n",
       "VAT                        object\n",
       "area_mapper                object\n",
       "gCheck                     object\n",
       "dtype: object"
      ]
     },
     "execution_count": 18,
     "metadata": {},
     "output_type": "execute_result"
    }
   ],
   "source": [
    "non_gluggers = house_prices[house_prices['Bayes'] != 'glugger'].copy()\n",
    "final = pd.concat([non_gluggers, gluggers], ignore_index=True)\n",
    "final.dtypes"
   ]
  },
  {
   "cell_type": "code",
   "execution_count": 19,
   "metadata": {
    "collapsed": false
   },
   "outputs": [],
   "source": [
    "def apply_final_postcodes(aRow):\n",
    "    if aRow['Bayes'] == 'glugger':\n",
    "        return aRow['area_mapper']\n",
    "    else:\n",
    "        return aRow['Bayes']\n",
    "\n",
    "final['eirKey'] = final.apply(lambda x: apply_final_postcodes(x), axis=1)"
   ]
  },
  {
   "cell_type": "code",
   "execution_count": 20,
   "metadata": {
    "collapsed": false
   },
   "outputs": [
    {
     "data": {
      "text/plain": [
       "D15        783\n",
       "glugger    664\n",
       "A96        568\n",
       "D12        557\n",
       "A94        554\n",
       "K67        517\n",
       "D24        504\n",
       "K36        502\n",
       "D04        433\n",
       "D07        420\n",
       "D14        405\n",
       "D09        404\n",
       "D11        400\n",
       "D06        385\n",
       "K78        376\n",
       "D18        368\n",
       "D16        365\n",
       "D13        346\n",
       "D03        322\n",
       "D05        315\n",
       "D08        313\n",
       "K32        277\n",
       "D22        226\n",
       "D01        146\n",
       "D02        133\n",
       "K34        129\n",
       "D10        113\n",
       "K56         82\n",
       "K45         61\n",
       "D20         59\n",
       "D17         53\n",
       "A98         25\n",
       "A41         15\n",
       "A42          5\n",
       "A45          3\n",
       "Name: eirKey, dtype: int64"
      ]
     },
     "execution_count": 20,
     "metadata": {},
     "output_type": "execute_result"
    }
   ],
   "source": [
    "final.eirKey.value_counts()"
   ]
  },
  {
   "cell_type": "markdown",
   "metadata": {},
   "source": [
    "### eirKey Names\n",
    "As Lieutenant Columbo used to say, there's just one more thing: those eirKeys aren't very intuitive. Let's see if we can use the geodata information we have to create an `eirKeyName` column.\n",
    "\n",
    "We're going to group `geocode_df` by eirKey, and then count up the Localities for each eirKey. That `value_counts()` Series is then passed to the `check_values()` function, which removes any unhelpful localities, such as 'Dublin' or '', and then returns the locality at the top of the tree. If the pruning has eliminated the entire tree, it returns the eirKey itself.\n",
    "\n",
    "The localities aren't quite ideal - Blanchardstown is subsumed into Castleknock, Christchurch into Dolphins' Barn (I imagine wigs on the green at the next DCC meeting if that were to happen in real-life), and so on. Again, these could be pruned by hand, but such pruning isn't really worthwhile for the purposes of this exercise."
   ]
  },
  {
   "cell_type": "code",
   "execution_count": 21,
   "metadata": {
    "collapsed": false
   },
   "outputs": [
    {
     "data": {
      "text/plain": [
       "Clonee           783\n",
       "Killiney         568\n",
       "D12              557\n",
       "Blackrock        554\n",
       "Swords           517\n",
       "Saggart          504\n",
       "Malahide         502\n",
       "D04              433\n",
       "D07              420\n",
       "D14              405\n",
       "D09              404\n",
       "D11              400\n",
       "D06              385\n",
       "Lucan            376\n",
       "Cabinteely       368\n",
       "D16              365\n",
       "Portmarnock      346\n",
       "D03              322\n",
       "D05              315\n",
       "D08              313\n",
       "Balbriggan       277\n",
       "Newcastle        226\n",
       "D01              146\n",
       "D02              133\n",
       "Skerries         129\n",
       "D10              113\n",
       "Rush              82\n",
       "Lusk              61\n",
       "D20               59\n",
       "D17               53\n",
       "Bray              25\n",
       "Ballyboughal      15\n",
       "Garristown         5\n",
       "Oldtown Court      3\n",
       "Name: eirKeyName, dtype: int64"
      ]
     },
     "execution_count": 21,
     "metadata": {},
     "output_type": "execute_result"
    }
   ],
   "source": [
    "eirKey_namer = {}\n",
    "def check_values(values, ek):\n",
    "    forbidden_localities = ['Dublin', 'dublin', 'dub', 'Dub', 'DUB', '']\n",
    "    for f in forbidden_localities:\n",
    "        if f in values:\n",
    "            values.remove(f)\n",
    "    if len(values) > 0:\n",
    "        return values[0]\n",
    "    else:\n",
    "        return ek\n",
    "    \n",
    "byEirKey = geocode_df.groupby('eirKey')\n",
    "for ek, details in byEirKey:\n",
    "    temp = details['Locality'].value_counts()\n",
    "    values = list(temp.keys())\n",
    "    value = check_values(values, ek)\n",
    "    eirKey_namer[ek] = value\n",
    "    \n",
    "final['eirKeyName'] = final['eirKey'].map(eirKey_namer)\n",
    "final.eirKeyName.value_counts()\n",
    "    "
   ]
  },
  {
   "cell_type": "code",
   "execution_count": 22,
   "metadata": {
    "collapsed": false
   },
   "outputs": [
    {
     "data": {
      "text/plain": [
       "Address                    object\n",
       "Bayes                      object\n",
       "County                     object\n",
       "Date               datetime64[ns]\n",
       "Description                object\n",
       "FullMarketPrice            object\n",
       "Lat                       float64\n",
       "Lon                       float64\n",
       "PC                         object\n",
       "PostCode                   object\n",
       "Prediction                 object\n",
       "Price                     float64\n",
       "Size                       object\n",
       "VAT                        object\n",
       "area_mapper                object\n",
       "gCheck                     object\n",
       "eirKey                     object\n",
       "eirKeyName                 object\n",
       "dtype: object"
      ]
     },
     "execution_count": 22,
     "metadata": {},
     "output_type": "execute_result"
    }
   ],
   "source": [
    "final.dtypes"
   ]
  },
  {
   "cell_type": "code",
   "execution_count": 23,
   "metadata": {
    "collapsed": false
   },
   "outputs": [],
   "source": [
    "final.drop(['Bayes', 'County', 'PC', 'PostCode', 'Prediction', 'area_mapper', 'gCheck'], axis=1, inplace=True)"
   ]
  },
  {
   "cell_type": "code",
   "execution_count": 24,
   "metadata": {
    "collapsed": false
   },
   "outputs": [
    {
     "data": {
      "text/html": [
       "<div>\n",
       "<table border=\"1\" class=\"dataframe\">\n",
       "  <thead>\n",
       "    <tr style=\"text-align: right;\">\n",
       "      <th></th>\n",
       "      <th>Address</th>\n",
       "      <th>Date</th>\n",
       "      <th>Description</th>\n",
       "      <th>FullMarketPrice</th>\n",
       "      <th>Lat</th>\n",
       "      <th>Lon</th>\n",
       "      <th>Price</th>\n",
       "      <th>Size</th>\n",
       "      <th>VAT</th>\n",
       "      <th>eirKey</th>\n",
       "      <th>eirKeyName</th>\n",
       "    </tr>\n",
       "  </thead>\n",
       "  <tbody>\n",
       "    <tr>\n",
       "      <th>0</th>\n",
       "      <td>34 Mountpleasant Terrace, Dublin 6, D06 YC58, ...</td>\n",
       "      <td>2016-01-01</td>\n",
       "      <td>Second-Hand Dwelling house /Apartment</td>\n",
       "      <td>No</td>\n",
       "      <td>53.328587</td>\n",
       "      <td>-6.261495</td>\n",
       "      <td>170000.0</td>\n",
       "      <td></td>\n",
       "      <td>No</td>\n",
       "      <td>D06</td>\n",
       "      <td>D06</td>\n",
       "    </tr>\n",
       "    <tr>\n",
       "      <th>1</th>\n",
       "      <td>2 Brighton Rd, Brighton Hall, Kerrymount, Dubl...</td>\n",
       "      <td>2016-01-04</td>\n",
       "      <td>Second-Hand Dwelling house /Apartment</td>\n",
       "      <td>No</td>\n",
       "      <td>53.258165</td>\n",
       "      <td>-6.174641</td>\n",
       "      <td>1150000.0</td>\n",
       "      <td></td>\n",
       "      <td>No</td>\n",
       "      <td>D18</td>\n",
       "      <td>Cabinteely</td>\n",
       "    </tr>\n",
       "    <tr>\n",
       "      <th>2</th>\n",
       "      <td>24 Woodstown Meadow, Ballycullen, Dublin 16, D...</td>\n",
       "      <td>2016-01-04</td>\n",
       "      <td>Second-Hand Dwelling house /Apartment</td>\n",
       "      <td>No</td>\n",
       "      <td>53.273761</td>\n",
       "      <td>-6.327188</td>\n",
       "      <td>430000.0</td>\n",
       "      <td></td>\n",
       "      <td>No</td>\n",
       "      <td>D16</td>\n",
       "      <td>D16</td>\n",
       "    </tr>\n",
       "    <tr>\n",
       "      <th>3</th>\n",
       "      <td>28 Belton Park Gardens, Clontarf, Dublin 9, D0...</td>\n",
       "      <td>2016-01-04</td>\n",
       "      <td>Second-Hand Dwelling house /Apartment</td>\n",
       "      <td>No</td>\n",
       "      <td>53.375715</td>\n",
       "      <td>-6.226541</td>\n",
       "      <td>225000.0</td>\n",
       "      <td></td>\n",
       "      <td>No</td>\n",
       "      <td>D09</td>\n",
       "      <td>D09</td>\n",
       "    </tr>\n",
       "    <tr>\n",
       "      <th>4</th>\n",
       "      <td>48A Beaufield Park, Stillorgan, Dublin, A94 XH...</td>\n",
       "      <td>2016-01-04</td>\n",
       "      <td>Second-Hand Dwelling house /Apartment</td>\n",
       "      <td>No</td>\n",
       "      <td>53.290123</td>\n",
       "      <td>-6.203367</td>\n",
       "      <td>345000.0</td>\n",
       "      <td></td>\n",
       "      <td>No</td>\n",
       "      <td>A94</td>\n",
       "      <td>Blackrock</td>\n",
       "    </tr>\n",
       "  </tbody>\n",
       "</table>\n",
       "</div>"
      ],
      "text/plain": [
       "                                             Address       Date  \\\n",
       "0  34 Mountpleasant Terrace, Dublin 6, D06 YC58, ... 2016-01-01   \n",
       "1  2 Brighton Rd, Brighton Hall, Kerrymount, Dubl... 2016-01-04   \n",
       "2  24 Woodstown Meadow, Ballycullen, Dublin 16, D... 2016-01-04   \n",
       "3  28 Belton Park Gardens, Clontarf, Dublin 9, D0... 2016-01-04   \n",
       "4  48A Beaufield Park, Stillorgan, Dublin, A94 XH... 2016-01-04   \n",
       "\n",
       "                             Description FullMarketPrice        Lat       Lon  \\\n",
       "0  Second-Hand Dwelling house /Apartment              No  53.328587 -6.261495   \n",
       "1  Second-Hand Dwelling house /Apartment              No  53.258165 -6.174641   \n",
       "2  Second-Hand Dwelling house /Apartment              No  53.273761 -6.327188   \n",
       "3  Second-Hand Dwelling house /Apartment              No  53.375715 -6.226541   \n",
       "4  Second-Hand Dwelling house /Apartment              No  53.290123 -6.203367   \n",
       "\n",
       "       Price Size VAT eirKey  eirKeyName  \n",
       "0   170000.0       No    D06         D06  \n",
       "1  1150000.0       No    D18  Cabinteely  \n",
       "2   430000.0       No    D16         D16  \n",
       "3   225000.0       No    D09         D09  \n",
       "4   345000.0       No    A94   Blackrock  "
      ]
     },
     "execution_count": 24,
     "metadata": {},
     "output_type": "execute_result"
    }
   ],
   "source": [
    "final.head()"
   ]
  },
  {
   "cell_type": "code",
   "execution_count": 25,
   "metadata": {
    "collapsed": true
   },
   "outputs": [],
   "source": [
    "with open('../library/pickle/2016/prices_final_dublin_2016_pickle', 'w') as f:\n",
    "    pickle.dump(final, f)"
   ]
  },
  {
   "cell_type": "code",
   "execution_count": null,
   "metadata": {
    "collapsed": true
   },
   "outputs": [],
   "source": []
  }
 ],
 "metadata": {
  "kernelspec": {
   "display_name": "Python 2",
   "language": "python",
   "name": "python2"
  },
  "language_info": {
   "codemirror_mode": {
    "name": "ipython",
    "version": 2
   },
   "file_extension": ".py",
   "mimetype": "text/x-python",
   "name": "python",
   "nbconvert_exporter": "python",
   "pygments_lexer": "ipython2",
   "version": "2.7.11"
  }
 },
 "nbformat": 4,
 "nbformat_minor": 0
}
