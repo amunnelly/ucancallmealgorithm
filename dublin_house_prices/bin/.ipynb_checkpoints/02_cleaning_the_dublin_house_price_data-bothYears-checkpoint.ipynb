{
 "cells": [
  {
   "cell_type": "markdown",
   "metadata": {},
   "source": [
    "# Dublin House Prices by Post Code\n",
    "## Part 2 - Cleaning the Data\n",
    "In [Part 1](), we took a download of house price data for Dublin in 2016 from the [Property Price Register](https://www.propertypriceregister.ie/website/npsra/pprweb.nsf/page/ppr-home-en) website, and used a `Google Maps Client` to add some further detail to our data.\n",
    "\n",
    "Now we're going to examine that data, and see if we can further fill our data set.\n",
    "\n",
    "We pickled our data as two `pandas` data frames, one with good address (meaning, addresses for which our `Google Maps Client` gave us all the detail we wanted, and a second with those address for which our `Google Maps Client` was less successful. We'll upload them now, and look at them."
   ]
  },
  {
   "cell_type": "code",
   "execution_count": 2,
   "metadata": {
    "collapsed": false
   },
   "outputs": [],
   "source": [
    "import pickle\n",
    "import pandas as pd\n",
    "\n",
    "with open('../library/pickle/2016/houses_dublin_2016_pickle', 'r') as f:\n",
    "    good_addresses16 = pickle.load(f)\n",
    "    \n",
    "with open('../library/pickle/2016/bad_add_dublin_2016_pickle', 'r') as f:\n",
    "    bad_addresses16 = pickle.load(f)\n",
    "    \n",
    "with open('../library/pickle/2015/houses_2015_pickle', 'r') as f:\n",
    "    good_addresses15 = pickle.load(f)\n",
    "    \n",
    "with open('../library/pickle/2015/bad_add_2015_pickle', 'r') as f:\n",
    "    bad_addresses15 = pickle.load(f)"
   ]
  },
  {
   "cell_type": "code",
   "execution_count": 4,
   "metadata": {
    "collapsed": false
   },
   "outputs": [],
   "source": [
    "good_addresses = pd.concat([good_addresses16, good_addresses15], ignore_index=True)\n",
    "bad_addresses = pd.concat([bad_addresses16, bad_addresses15], ignore_index=True)"
   ]
  },
  {
   "cell_type": "code",
   "execution_count": 5,
   "metadata": {
    "collapsed": false
   },
   "outputs": [
    {
     "data": {
      "text/html": [
       "<div>\n",
       "<table border=\"1\" class=\"dataframe\">\n",
       "  <thead>\n",
       "    <tr style=\"text-align: right;\">\n",
       "      <th></th>\n",
       "      <th>Lat</th>\n",
       "      <th>Lon</th>\n",
       "    </tr>\n",
       "  </thead>\n",
       "  <tbody>\n",
       "    <tr>\n",
       "      <th>count</th>\n",
       "      <td>21552.000000</td>\n",
       "      <td>21552.000000</td>\n",
       "    </tr>\n",
       "    <tr>\n",
       "      <th>mean</th>\n",
       "      <td>53.343354</td>\n",
       "      <td>-6.269275</td>\n",
       "    </tr>\n",
       "    <tr>\n",
       "      <th>std</th>\n",
       "      <td>0.060286</td>\n",
       "      <td>0.088922</td>\n",
       "    </tr>\n",
       "    <tr>\n",
       "      <th>min</th>\n",
       "      <td>53.193504</td>\n",
       "      <td>-6.503346</td>\n",
       "    </tr>\n",
       "    <tr>\n",
       "      <th>25%</th>\n",
       "      <td>53.295176</td>\n",
       "      <td>-6.323950</td>\n",
       "    </tr>\n",
       "    <tr>\n",
       "      <th>50%</th>\n",
       "      <td>53.340296</td>\n",
       "      <td>-6.262626</td>\n",
       "    </tr>\n",
       "    <tr>\n",
       "      <th>75%</th>\n",
       "      <td>53.378569</td>\n",
       "      <td>-6.208126</td>\n",
       "    </tr>\n",
       "    <tr>\n",
       "      <th>max</th>\n",
       "      <td>53.626983</td>\n",
       "      <td>-6.052932</td>\n",
       "    </tr>\n",
       "  </tbody>\n",
       "</table>\n",
       "</div>"
      ],
      "text/plain": [
       "                Lat           Lon\n",
       "count  21552.000000  21552.000000\n",
       "mean      53.343354     -6.269275\n",
       "std        0.060286      0.088922\n",
       "min       53.193504     -6.503346\n",
       "25%       53.295176     -6.323950\n",
       "50%       53.340296     -6.262626\n",
       "75%       53.378569     -6.208126\n",
       "max       53.626983     -6.052932"
      ]
     },
     "execution_count": 5,
     "metadata": {},
     "output_type": "execute_result"
    }
   ],
   "source": [
    "good_addresses.describe()"
   ]
  },
  {
   "cell_type": "code",
   "execution_count": 6,
   "metadata": {
    "collapsed": false
   },
   "outputs": [
    {
     "data": {
      "text/html": [
       "<div>\n",
       "<table border=\"1\" class=\"dataframe\">\n",
       "  <thead>\n",
       "    <tr style=\"text-align: right;\">\n",
       "      <th></th>\n",
       "      <th>Date</th>\n",
       "      <th>Address</th>\n",
       "      <th>PostCode</th>\n",
       "      <th>County</th>\n",
       "      <th>Price</th>\n",
       "      <th>FullMarketPrice</th>\n",
       "      <th>VAT</th>\n",
       "      <th>Description</th>\n",
       "      <th>Size</th>\n",
       "      <th>gCheck</th>\n",
       "    </tr>\n",
       "  </thead>\n",
       "  <tbody>\n",
       "    <tr>\n",
       "      <th>count</th>\n",
       "      <td>6589</td>\n",
       "      <td>6589</td>\n",
       "      <td>6589</td>\n",
       "      <td>6589</td>\n",
       "      <td>6589</td>\n",
       "      <td>6589</td>\n",
       "      <td>6589</td>\n",
       "      <td>6589</td>\n",
       "      <td>6589</td>\n",
       "      <td>6589</td>\n",
       "    </tr>\n",
       "    <tr>\n",
       "      <th>unique</th>\n",
       "      <td>510</td>\n",
       "      <td>6525</td>\n",
       "      <td>24</td>\n",
       "      <td>2</td>\n",
       "      <td>1694</td>\n",
       "      <td>3</td>\n",
       "      <td>3</td>\n",
       "      <td>3</td>\n",
       "      <td>6</td>\n",
       "      <td>4</td>\n",
       "    </tr>\n",
       "    <tr>\n",
       "      <th>top</th>\n",
       "      <td>28/01/2015</td>\n",
       "      <td>41 HARTY PLACE, CLANBRASSIL ST, DUBLIN 8</td>\n",
       "      <td></td>\n",
       "      <td>Dublin</td>\n",
       "      <td>252,313.00</td>\n",
       "      <td>No</td>\n",
       "      <td>No</td>\n",
       "      <td>Second-Hand Dwelling house /Apartment</td>\n",
       "      <td></td>\n",
       "      <td>NoResponse</td>\n",
       "    </tr>\n",
       "    <tr>\n",
       "      <th>freq</th>\n",
       "      <td>280</td>\n",
       "      <td>3</td>\n",
       "      <td>2973</td>\n",
       "      <td>6587</td>\n",
       "      <td>138</td>\n",
       "      <td>6390</td>\n",
       "      <td>4876</td>\n",
       "      <td>4865</td>\n",
       "      <td>4865</td>\n",
       "      <td>4505</td>\n",
       "    </tr>\n",
       "  </tbody>\n",
       "</table>\n",
       "</div>"
      ],
      "text/plain": [
       "              Date                                   Address PostCode  County  \\\n",
       "count         6589                                      6589     6589    6589   \n",
       "unique         510                                      6525       24       2   \n",
       "top     28/01/2015  41 HARTY PLACE, CLANBRASSIL ST, DUBLIN 8           Dublin   \n",
       "freq           280                                         3     2973    6587   \n",
       "\n",
       "              Price FullMarketPrice   VAT  \\\n",
       "count          6589            6589  6589   \n",
       "unique         1694               3     3   \n",
       "top     252,313.00              No    No   \n",
       "freq            138            6390  4876   \n",
       "\n",
       "                                  Description  Size      gCheck  \n",
       "count                                    6589  6589        6589  \n",
       "unique                                      3     6           4  \n",
       "top     Second-Hand Dwelling house /Apartment        NoResponse  \n",
       "freq                                     4865  4865        4505  "
      ]
     },
     "execution_count": 6,
     "metadata": {},
     "output_type": "execute_result"
    }
   ],
   "source": [
    "bad_addresses.describe()"
   ]
  },
  {
   "cell_type": "code",
   "execution_count": 7,
   "metadata": {
    "collapsed": false
   },
   "outputs": [
    {
     "data": {
      "text/plain": [
       "Date                object\n",
       "Address             object\n",
       "PostCode            object\n",
       "County              object\n",
       "Price               object\n",
       "FullMarketPrice     object\n",
       "VAT                 object\n",
       "Description         object\n",
       "Size                object\n",
       "Lat                float64\n",
       "Lon                float64\n",
       "gCheck              object\n",
       "dtype: object"
      ]
     },
     "execution_count": 7,
     "metadata": {},
     "output_type": "execute_result"
    }
   ],
   "source": [
    "good_addresses.dtypes"
   ]
  },
  {
   "cell_type": "code",
   "execution_count": 8,
   "metadata": {
    "collapsed": false
   },
   "outputs": [
    {
     "data": {
      "text/plain": [
       "Date               object\n",
       "Address            object\n",
       "PostCode           object\n",
       "County             object\n",
       "Price              object\n",
       "FullMarketPrice    object\n",
       "VAT                object\n",
       "Description        object\n",
       "Size               object\n",
       "gCheck             object\n",
       "dtype: object"
      ]
     },
     "execution_count": 8,
     "metadata": {},
     "output_type": "execute_result"
    }
   ],
   "source": [
    "bad_addresses.dtypes"
   ]
  },
  {
   "cell_type": "code",
   "execution_count": 9,
   "metadata": {
    "collapsed": false
   },
   "outputs": [
    {
     "data": {
      "text/html": [
       "<div>\n",
       "<table border=\"1\" class=\"dataframe\">\n",
       "  <thead>\n",
       "    <tr style=\"text-align: right;\">\n",
       "      <th></th>\n",
       "      <th>Date</th>\n",
       "      <th>Address</th>\n",
       "      <th>PostCode</th>\n",
       "      <th>County</th>\n",
       "      <th>Price</th>\n",
       "      <th>FullMarketPrice</th>\n",
       "      <th>VAT</th>\n",
       "      <th>Description</th>\n",
       "      <th>Size</th>\n",
       "      <th>Lat</th>\n",
       "      <th>Lon</th>\n",
       "      <th>gCheck</th>\n",
       "    </tr>\n",
       "  </thead>\n",
       "  <tbody>\n",
       "    <tr>\n",
       "      <th>0</th>\n",
       "      <td>01/01/2016</td>\n",
       "      <td>34 Mountpleasant Terrace, Dublin 6, D06 YC58, ...</td>\n",
       "      <td>D06 YC58</td>\n",
       "      <td>Dublin</td>\n",
       "      <td>170,000.00</td>\n",
       "      <td>No</td>\n",
       "      <td>No</td>\n",
       "      <td>Second-Hand Dwelling house /Apartment</td>\n",
       "      <td></td>\n",
       "      <td>53.328587</td>\n",
       "      <td>-6.261495</td>\n",
       "      <td>Good</td>\n",
       "    </tr>\n",
       "    <tr>\n",
       "      <th>1</th>\n",
       "      <td>04/01/2016</td>\n",
       "      <td>Saggart, Co. Dublin, Ireland</td>\n",
       "      <td></td>\n",
       "      <td>Dublin</td>\n",
       "      <td>230,088.00</td>\n",
       "      <td>No</td>\n",
       "      <td>Yes</td>\n",
       "      <td>New Dwelling house /Apartment</td>\n",
       "      <td>greater than or equal to 38 sq metres and less...</td>\n",
       "      <td>53.280840</td>\n",
       "      <td>-6.443184</td>\n",
       "      <td>Good</td>\n",
       "    </tr>\n",
       "    <tr>\n",
       "      <th>2</th>\n",
       "      <td>04/01/2016</td>\n",
       "      <td>Saggart, Co. Dublin, Ireland</td>\n",
       "      <td></td>\n",
       "      <td>Dublin</td>\n",
       "      <td>321,586.00</td>\n",
       "      <td>No</td>\n",
       "      <td>Yes</td>\n",
       "      <td>New Dwelling house /Apartment</td>\n",
       "      <td>greater than or equal to 38 sq metres and less...</td>\n",
       "      <td>53.280840</td>\n",
       "      <td>-6.443184</td>\n",
       "      <td>Good</td>\n",
       "    </tr>\n",
       "    <tr>\n",
       "      <th>3</th>\n",
       "      <td>04/01/2016</td>\n",
       "      <td>2 Brighton Rd, Brighton Hall, Kerrymount, Dubl...</td>\n",
       "      <td>D18 A0C6</td>\n",
       "      <td>Dublin</td>\n",
       "      <td>1,150,000.00</td>\n",
       "      <td>No</td>\n",
       "      <td>No</td>\n",
       "      <td>Second-Hand Dwelling house /Apartment</td>\n",
       "      <td></td>\n",
       "      <td>53.258165</td>\n",
       "      <td>-6.174641</td>\n",
       "      <td>Good</td>\n",
       "    </tr>\n",
       "    <tr>\n",
       "      <th>4</th>\n",
       "      <td>04/01/2016</td>\n",
       "      <td>Moyola Mews, Churchtown Rd Lower, Churchtown L...</td>\n",
       "      <td></td>\n",
       "      <td>Dublin</td>\n",
       "      <td>330,000.00</td>\n",
       "      <td>No</td>\n",
       "      <td>No</td>\n",
       "      <td>Second-Hand Dwelling house /Apartment</td>\n",
       "      <td></td>\n",
       "      <td>53.298311</td>\n",
       "      <td>-6.253560</td>\n",
       "      <td>Good</td>\n",
       "    </tr>\n",
       "  </tbody>\n",
       "</table>\n",
       "</div>"
      ],
      "text/plain": [
       "         Date                                            Address  PostCode  \\\n",
       "0  01/01/2016  34 Mountpleasant Terrace, Dublin 6, D06 YC58, ...  D06 YC58   \n",
       "1  04/01/2016                       Saggart, Co. Dublin, Ireland             \n",
       "2  04/01/2016                       Saggart, Co. Dublin, Ireland             \n",
       "3  04/01/2016  2 Brighton Rd, Brighton Hall, Kerrymount, Dubl...  D18 A0C6   \n",
       "4  04/01/2016  Moyola Mews, Churchtown Rd Lower, Churchtown L...             \n",
       "\n",
       "   County          Price FullMarketPrice  VAT  \\\n",
       "0  Dublin    170,000.00              No   No   \n",
       "1  Dublin    230,088.00              No  Yes   \n",
       "2  Dublin    321,586.00              No  Yes   \n",
       "3  Dublin  1,150,000.00              No   No   \n",
       "4  Dublin    330,000.00              No   No   \n",
       "\n",
       "                             Description  \\\n",
       "0  Second-Hand Dwelling house /Apartment   \n",
       "1          New Dwelling house /Apartment   \n",
       "2          New Dwelling house /Apartment   \n",
       "3  Second-Hand Dwelling house /Apartment   \n",
       "4  Second-Hand Dwelling house /Apartment   \n",
       "\n",
       "                                                Size        Lat       Lon  \\\n",
       "0                                                     53.328587 -6.261495   \n",
       "1  greater than or equal to 38 sq metres and less...  53.280840 -6.443184   \n",
       "2  greater than or equal to 38 sq metres and less...  53.280840 -6.443184   \n",
       "3                                                     53.258165 -6.174641   \n",
       "4                                                     53.298311 -6.253560   \n",
       "\n",
       "  gCheck  \n",
       "0   Good  \n",
       "1   Good  \n",
       "2   Good  \n",
       "3   Good  \n",
       "4   Good  "
      ]
     },
     "execution_count": 9,
     "metadata": {},
     "output_type": "execute_result"
    }
   ],
   "source": [
    "good_addresses.head()"
   ]
  },
  {
   "cell_type": "code",
   "execution_count": 10,
   "metadata": {
    "collapsed": false
   },
   "outputs": [
    {
     "data": {
      "text/html": [
       "<div>\n",
       "<table border=\"1\" class=\"dataframe\">\n",
       "  <thead>\n",
       "    <tr style=\"text-align: right;\">\n",
       "      <th></th>\n",
       "      <th>Date</th>\n",
       "      <th>Address</th>\n",
       "      <th>PostCode</th>\n",
       "      <th>County</th>\n",
       "      <th>Price</th>\n",
       "      <th>FullMarketPrice</th>\n",
       "      <th>VAT</th>\n",
       "      <th>Description</th>\n",
       "      <th>Size</th>\n",
       "      <th>gCheck</th>\n",
       "    </tr>\n",
       "  </thead>\n",
       "  <tbody>\n",
       "    <tr>\n",
       "      <th>0</th>\n",
       "      <td>Date of Sale (dd/mm/yyyy)</td>\n",
       "      <td>Address</td>\n",
       "      <td>Postal Code</td>\n",
       "      <td>County</td>\n",
       "      <td>Price ()</td>\n",
       "      <td>Not Full Market Price</td>\n",
       "      <td>VAT Exclusive</td>\n",
       "      <td>Description of Property</td>\n",
       "      <td>Property Size Description</td>\n",
       "      <td>NoResponse</td>\n",
       "    </tr>\n",
       "    <tr>\n",
       "      <th>1</th>\n",
       "      <td>04/01/2016</td>\n",
       "      <td>307 HAMPTON LODGE, BLOCK B, GRACE PARK RD</td>\n",
       "      <td>Dublin 9</td>\n",
       "      <td>Dublin</td>\n",
       "      <td>315,000.00</td>\n",
       "      <td>No</td>\n",
       "      <td>No</td>\n",
       "      <td>Second-Hand Dwelling house /Apartment</td>\n",
       "      <td></td>\n",
       "      <td>BadLat</td>\n",
       "    </tr>\n",
       "    <tr>\n",
       "      <th>2</th>\n",
       "      <td>05/01/2016</td>\n",
       "      <td>21 AMBER, THE GRANGE, STILLORGAN</td>\n",
       "      <td></td>\n",
       "      <td>Dublin</td>\n",
       "      <td>280,000.00</td>\n",
       "      <td>No</td>\n",
       "      <td>No</td>\n",
       "      <td>Second-Hand Dwelling house /Apartment</td>\n",
       "      <td></td>\n",
       "      <td>NoResponse</td>\n",
       "    </tr>\n",
       "    <tr>\n",
       "      <th>3</th>\n",
       "      <td>05/01/2016</td>\n",
       "      <td>29 GREENVIEW, SEABROOK MANOR, STATION RD</td>\n",
       "      <td>Dublin 13</td>\n",
       "      <td>Dublin</td>\n",
       "      <td>94,042.00</td>\n",
       "      <td>No</td>\n",
       "      <td>No</td>\n",
       "      <td>Second-Hand Dwelling house /Apartment</td>\n",
       "      <td></td>\n",
       "      <td>NoResponse</td>\n",
       "    </tr>\n",
       "    <tr>\n",
       "      <th>4</th>\n",
       "      <td>05/01/2016</td>\n",
       "      <td>5 WILLOW GROVE, GREENPARK, CLONDALKIN DUBLIN 22</td>\n",
       "      <td>Dublin 22</td>\n",
       "      <td>Dublin</td>\n",
       "      <td>265,000.00</td>\n",
       "      <td>No</td>\n",
       "      <td>No</td>\n",
       "      <td>Second-Hand Dwelling house /Apartment</td>\n",
       "      <td></td>\n",
       "      <td>NoResponse</td>\n",
       "    </tr>\n",
       "  </tbody>\n",
       "</table>\n",
       "</div>"
      ],
      "text/plain": [
       "                        Date                                          Address  \\\n",
       "0  Date of Sale (dd/mm/yyyy)                                          Address   \n",
       "1                 04/01/2016        307 HAMPTON LODGE, BLOCK B, GRACE PARK RD   \n",
       "2                 05/01/2016                 21 AMBER, THE GRANGE, STILLORGAN   \n",
       "3                 05/01/2016         29 GREENVIEW, SEABROOK MANOR, STATION RD   \n",
       "4                 05/01/2016  5 WILLOW GROVE, GREENPARK, CLONDALKIN DUBLIN 22   \n",
       "\n",
       "      PostCode  County        Price        FullMarketPrice            VAT  \\\n",
       "0  Postal Code  County    Price ()  Not Full Market Price  VAT Exclusive   \n",
       "1     Dublin 9  Dublin  315,000.00                     No             No   \n",
       "2               Dublin  280,000.00                     No             No   \n",
       "3    Dublin 13  Dublin   94,042.00                     No             No   \n",
       "4    Dublin 22  Dublin  265,000.00                     No             No   \n",
       "\n",
       "                             Description                       Size  \\\n",
       "0                Description of Property  Property Size Description   \n",
       "1  Second-Hand Dwelling house /Apartment                              \n",
       "2  Second-Hand Dwelling house /Apartment                              \n",
       "3  Second-Hand Dwelling house /Apartment                              \n",
       "4  Second-Hand Dwelling house /Apartment                              \n",
       "\n",
       "       gCheck  \n",
       "0  NoResponse  \n",
       "1      BadLat  \n",
       "2  NoResponse  \n",
       "3  NoResponse  \n",
       "4  NoResponse  "
      ]
     },
     "execution_count": 10,
     "metadata": {},
     "output_type": "execute_result"
    }
   ],
   "source": [
    "bad_addresses.head()"
   ]
  },
  {
   "cell_type": "markdown",
   "metadata": {},
   "source": [
    "#### Bad v Good Addresses\n",
    "The difference between bad and good addresss is the presence of coordinates in good addresses, and the absence of coordinates in the bad data. Otherwise, the data is quite the same. Therefore, although the `coordinateCollector` program divides the two data sets, it makes sense for us to unite them here into a single data frame, `houses`. We'll add two \"empty\" columns to `bad_addresses` for the missing coordinates to make the join nice and even.\n",
    "\n",
    "You'll also notice that the first line of `bad_addresses` is a repeated header row. That will have to go, of course."
   ]
  },
  {
   "cell_type": "code",
   "execution_count": 11,
   "metadata": {
    "collapsed": true
   },
   "outputs": [],
   "source": [
    "bad_addresses.drop(0, inplace=True) # Eliminate the repeated header row.\n",
    "\n",
    "import numpy as np\n",
    "bad_addresses['Lat'] = np.nan\n",
    "bad_addresses['Lon'] = np.nan\n",
    "houses = pd.concat([good_addresses, bad_addresses], ignore_index=True)"
   ]
  },
  {
   "cell_type": "code",
   "execution_count": 12,
   "metadata": {
    "collapsed": false
   },
   "outputs": [
    {
     "data": {
      "text/html": [
       "<div>\n",
       "<table border=\"1\" class=\"dataframe\">\n",
       "  <thead>\n",
       "    <tr style=\"text-align: right;\">\n",
       "      <th></th>\n",
       "      <th>Address</th>\n",
       "      <th>County</th>\n",
       "      <th>Date</th>\n",
       "      <th>Description</th>\n",
       "      <th>FullMarketPrice</th>\n",
       "      <th>Lat</th>\n",
       "      <th>Lon</th>\n",
       "      <th>PostCode</th>\n",
       "      <th>Price</th>\n",
       "      <th>Size</th>\n",
       "      <th>VAT</th>\n",
       "      <th>gCheck</th>\n",
       "    </tr>\n",
       "  </thead>\n",
       "  <tbody>\n",
       "    <tr>\n",
       "      <th>0</th>\n",
       "      <td>34 Mountpleasant Terrace, Dublin 6, D06 YC58, ...</td>\n",
       "      <td>Dublin</td>\n",
       "      <td>01/01/2016</td>\n",
       "      <td>Second-Hand Dwelling house /Apartment</td>\n",
       "      <td>No</td>\n",
       "      <td>53.328587</td>\n",
       "      <td>-6.261495</td>\n",
       "      <td>D06 YC58</td>\n",
       "      <td>170,000.00</td>\n",
       "      <td></td>\n",
       "      <td>No</td>\n",
       "      <td>Good</td>\n",
       "    </tr>\n",
       "    <tr>\n",
       "      <th>1</th>\n",
       "      <td>Saggart, Co. Dublin, Ireland</td>\n",
       "      <td>Dublin</td>\n",
       "      <td>04/01/2016</td>\n",
       "      <td>New Dwelling house /Apartment</td>\n",
       "      <td>No</td>\n",
       "      <td>53.280840</td>\n",
       "      <td>-6.443184</td>\n",
       "      <td></td>\n",
       "      <td>230,088.00</td>\n",
       "      <td>greater than or equal to 38 sq metres and less...</td>\n",
       "      <td>Yes</td>\n",
       "      <td>Good</td>\n",
       "    </tr>\n",
       "    <tr>\n",
       "      <th>2</th>\n",
       "      <td>Saggart, Co. Dublin, Ireland</td>\n",
       "      <td>Dublin</td>\n",
       "      <td>04/01/2016</td>\n",
       "      <td>New Dwelling house /Apartment</td>\n",
       "      <td>No</td>\n",
       "      <td>53.280840</td>\n",
       "      <td>-6.443184</td>\n",
       "      <td></td>\n",
       "      <td>321,586.00</td>\n",
       "      <td>greater than or equal to 38 sq metres and less...</td>\n",
       "      <td>Yes</td>\n",
       "      <td>Good</td>\n",
       "    </tr>\n",
       "    <tr>\n",
       "      <th>3</th>\n",
       "      <td>2 Brighton Rd, Brighton Hall, Kerrymount, Dubl...</td>\n",
       "      <td>Dublin</td>\n",
       "      <td>04/01/2016</td>\n",
       "      <td>Second-Hand Dwelling house /Apartment</td>\n",
       "      <td>No</td>\n",
       "      <td>53.258165</td>\n",
       "      <td>-6.174641</td>\n",
       "      <td>D18 A0C6</td>\n",
       "      <td>1,150,000.00</td>\n",
       "      <td></td>\n",
       "      <td>No</td>\n",
       "      <td>Good</td>\n",
       "    </tr>\n",
       "    <tr>\n",
       "      <th>4</th>\n",
       "      <td>Moyola Mews, Churchtown Rd Lower, Churchtown L...</td>\n",
       "      <td>Dublin</td>\n",
       "      <td>04/01/2016</td>\n",
       "      <td>Second-Hand Dwelling house /Apartment</td>\n",
       "      <td>No</td>\n",
       "      <td>53.298311</td>\n",
       "      <td>-6.253560</td>\n",
       "      <td></td>\n",
       "      <td>330,000.00</td>\n",
       "      <td></td>\n",
       "      <td>No</td>\n",
       "      <td>Good</td>\n",
       "    </tr>\n",
       "  </tbody>\n",
       "</table>\n",
       "</div>"
      ],
      "text/plain": [
       "                                             Address  County        Date  \\\n",
       "0  34 Mountpleasant Terrace, Dublin 6, D06 YC58, ...  Dublin  01/01/2016   \n",
       "1                       Saggart, Co. Dublin, Ireland  Dublin  04/01/2016   \n",
       "2                       Saggart, Co. Dublin, Ireland  Dublin  04/01/2016   \n",
       "3  2 Brighton Rd, Brighton Hall, Kerrymount, Dubl...  Dublin  04/01/2016   \n",
       "4  Moyola Mews, Churchtown Rd Lower, Churchtown L...  Dublin  04/01/2016   \n",
       "\n",
       "                             Description FullMarketPrice        Lat       Lon  \\\n",
       "0  Second-Hand Dwelling house /Apartment              No  53.328587 -6.261495   \n",
       "1          New Dwelling house /Apartment              No  53.280840 -6.443184   \n",
       "2          New Dwelling house /Apartment              No  53.280840 -6.443184   \n",
       "3  Second-Hand Dwelling house /Apartment              No  53.258165 -6.174641   \n",
       "4  Second-Hand Dwelling house /Apartment              No  53.298311 -6.253560   \n",
       "\n",
       "   PostCode          Price                                               Size  \\\n",
       "0  D06 YC58    170,000.00                                                      \n",
       "1              230,088.00  greater than or equal to 38 sq metres and less...   \n",
       "2              321,586.00  greater than or equal to 38 sq metres and less...   \n",
       "3  D18 A0C6  1,150,000.00                                                      \n",
       "4              330,000.00                                                      \n",
       "\n",
       "   VAT gCheck  \n",
       "0   No   Good  \n",
       "1  Yes   Good  \n",
       "2  Yes   Good  \n",
       "3   No   Good  \n",
       "4   No   Good  "
      ]
     },
     "execution_count": 12,
     "metadata": {},
     "output_type": "execute_result"
    }
   ],
   "source": [
    "houses.head()"
   ]
  },
  {
   "cell_type": "code",
   "execution_count": 13,
   "metadata": {
    "collapsed": false
   },
   "outputs": [
    {
     "data": {
      "text/html": [
       "<div>\n",
       "<table border=\"1\" class=\"dataframe\">\n",
       "  <thead>\n",
       "    <tr style=\"text-align: right;\">\n",
       "      <th></th>\n",
       "      <th>Address</th>\n",
       "      <th>County</th>\n",
       "      <th>Date</th>\n",
       "      <th>Description</th>\n",
       "      <th>FullMarketPrice</th>\n",
       "      <th>Lat</th>\n",
       "      <th>Lon</th>\n",
       "      <th>PostCode</th>\n",
       "      <th>Price</th>\n",
       "      <th>Size</th>\n",
       "      <th>VAT</th>\n",
       "      <th>gCheck</th>\n",
       "    </tr>\n",
       "  </thead>\n",
       "  <tbody>\n",
       "    <tr>\n",
       "      <th>28135</th>\n",
       "      <td>APT 289, CUSTOM HOUSE HARBOUR, I F S C DUBLIN 1</td>\n",
       "      <td>Dublin</td>\n",
       "      <td>23/12/2015</td>\n",
       "      <td>Second-Hand Dwelling house /Apartment</td>\n",
       "      <td>No</td>\n",
       "      <td>NaN</td>\n",
       "      <td>NaN</td>\n",
       "      <td>Dublin 1</td>\n",
       "      <td>313,000.00</td>\n",
       "      <td></td>\n",
       "      <td>No</td>\n",
       "      <td>NoResponse</td>\n",
       "    </tr>\n",
       "    <tr>\n",
       "      <th>28136</th>\n",
       "      <td>APT 79, IVY EXCHANGE, PARNELL ST DUBLIN 1</td>\n",
       "      <td>Dublin</td>\n",
       "      <td>23/12/2015</td>\n",
       "      <td>Second-Hand Dwelling house /Apartment</td>\n",
       "      <td>Yes</td>\n",
       "      <td>NaN</td>\n",
       "      <td>NaN</td>\n",
       "      <td>Dublin 1</td>\n",
       "      <td>330,000.00</td>\n",
       "      <td></td>\n",
       "      <td>No</td>\n",
       "      <td>NoResponse</td>\n",
       "    </tr>\n",
       "    <tr>\n",
       "      <th>28137</th>\n",
       "      <td>17 ISLAND VILLA, LOWER GRAND CANAL STREET, DUB...</td>\n",
       "      <td>Dublin</td>\n",
       "      <td>29/12/2015</td>\n",
       "      <td>Second-Hand Dwelling house /Apartment</td>\n",
       "      <td>No</td>\n",
       "      <td>NaN</td>\n",
       "      <td>NaN</td>\n",
       "      <td></td>\n",
       "      <td>322,000.00</td>\n",
       "      <td></td>\n",
       "      <td>No</td>\n",
       "      <td>NoResponse</td>\n",
       "    </tr>\n",
       "    <tr>\n",
       "      <th>28138</th>\n",
       "      <td>2 CRANMER PLACE, HADDINGTON RD, DUBLIN 4</td>\n",
       "      <td>Dublin</td>\n",
       "      <td>30/12/2015</td>\n",
       "      <td>Second-Hand Dwelling house /Apartment</td>\n",
       "      <td>Yes</td>\n",
       "      <td>NaN</td>\n",
       "      <td>NaN</td>\n",
       "      <td>Dublin 4</td>\n",
       "      <td>240,000.00</td>\n",
       "      <td></td>\n",
       "      <td>No</td>\n",
       "      <td>NoResponse</td>\n",
       "    </tr>\n",
       "    <tr>\n",
       "      <th>28139</th>\n",
       "      <td>An Grianan, Corballis, Donabate</td>\n",
       "      <td>Dublin</td>\n",
       "      <td>31/12/2015</td>\n",
       "      <td>Second-Hand Dwelling house /Apartment</td>\n",
       "      <td>No</td>\n",
       "      <td>NaN</td>\n",
       "      <td>NaN</td>\n",
       "      <td></td>\n",
       "      <td>120,000.00</td>\n",
       "      <td></td>\n",
       "      <td>No</td>\n",
       "      <td>BadLat</td>\n",
       "    </tr>\n",
       "  </tbody>\n",
       "</table>\n",
       "</div>"
      ],
      "text/plain": [
       "                                                 Address  County        Date  \\\n",
       "28135    APT 289, CUSTOM HOUSE HARBOUR, I F S C DUBLIN 1  Dublin  23/12/2015   \n",
       "28136          APT 79, IVY EXCHANGE, PARNELL ST DUBLIN 1  Dublin  23/12/2015   \n",
       "28137  17 ISLAND VILLA, LOWER GRAND CANAL STREET, DUB...  Dublin  29/12/2015   \n",
       "28138           2 CRANMER PLACE, HADDINGTON RD, DUBLIN 4  Dublin  30/12/2015   \n",
       "28139                    An Grianan, Corballis, Donabate  Dublin  31/12/2015   \n",
       "\n",
       "                                 Description FullMarketPrice  Lat  Lon  \\\n",
       "28135  Second-Hand Dwelling house /Apartment              No  NaN  NaN   \n",
       "28136  Second-Hand Dwelling house /Apartment             Yes  NaN  NaN   \n",
       "28137  Second-Hand Dwelling house /Apartment              No  NaN  NaN   \n",
       "28138  Second-Hand Dwelling house /Apartment             Yes  NaN  NaN   \n",
       "28139  Second-Hand Dwelling house /Apartment              No  NaN  NaN   \n",
       "\n",
       "       PostCode        Price Size VAT      gCheck  \n",
       "28135  Dublin 1  313,000.00       No  NoResponse  \n",
       "28136  Dublin 1  330,000.00       No  NoResponse  \n",
       "28137            322,000.00       No  NoResponse  \n",
       "28138  Dublin 4  240,000.00       No  NoResponse  \n",
       "28139            120,000.00       No      BadLat  "
      ]
     },
     "execution_count": 13,
     "metadata": {},
     "output_type": "execute_result"
    }
   ],
   "source": [
    "houses.tail()"
   ]
  },
  {
   "cell_type": "code",
   "execution_count": 14,
   "metadata": {
    "collapsed": false
   },
   "outputs": [
    {
     "data": {
      "text/plain": [
       "Address             object\n",
       "County              object\n",
       "Date                object\n",
       "Description         object\n",
       "FullMarketPrice     object\n",
       "Lat                float64\n",
       "Lon                float64\n",
       "PostCode            object\n",
       "Price               object\n",
       "Size                object\n",
       "VAT                 object\n",
       "gCheck              object\n",
       "dtype: object"
      ]
     },
     "execution_count": 14,
     "metadata": {},
     "output_type": "execute_result"
    }
   ],
   "source": [
    "houses.dtypes"
   ]
  },
  {
   "cell_type": "markdown",
   "metadata": {},
   "source": [
    "#### Tidying Some Formats\n",
    "We need to convert the date and price columns to datetime and float data types, respectively. The date conversion is straight-forward. The price less so, probably due to the _latin-1_ encoding - casting `astype(float)` doesn't work. But it still can be done, of course, even if we have to go the long way around."
   ]
  },
  {
   "cell_type": "code",
   "execution_count": 18,
   "metadata": {
    "collapsed": false
   },
   "outputs": [],
   "source": [
    "houses = houses[houses.Date != 'Date of Sale (dd/mm/yyyy)']"
   ]
  },
  {
   "cell_type": "code",
   "execution_count": 19,
   "metadata": {
    "collapsed": false
   },
   "outputs": [
    {
     "data": {
      "text/plain": [
       "Address                    object\n",
       "County                     object\n",
       "Date               datetime64[ns]\n",
       "Description                object\n",
       "FullMarketPrice            object\n",
       "Lat                       float64\n",
       "Lon                       float64\n",
       "PostCode                   object\n",
       "Size                       object\n",
       "VAT                        object\n",
       "gCheck                     object\n",
       "Price                     float64\n",
       "dtype: object"
      ]
     },
     "execution_count": 19,
     "metadata": {},
     "output_type": "execute_result"
    }
   ],
   "source": [
    "houses['Date'] = pd.to_datetime(houses['Date'], dayfirst = True)\n",
    "\n",
    "def price_destringer(someString):\n",
    "    someOtherString = ''\n",
    "    for s in someString:\n",
    "        if s.isdigit() or s == '.':\n",
    "            someOtherString = someOtherString + s\n",
    "        else:\n",
    "            pass\n",
    "        \n",
    "    return float(someOtherString)\n",
    "\n",
    "houses['aPrice'] = houses['Price'].apply(price_destringer)\n",
    "del(houses['Price'])\n",
    "houses.rename(columns = {'aPrice':'Price'}, inplace = True)\n",
    "houses.dtypes"
   ]
  },
  {
   "cell_type": "markdown",
   "metadata": {},
   "source": [
    "### The Postcodes\n",
    "The _PostCode_ column contains a mix of data formats - the modern XXX XXXX format; the traditional Dublin 4-style format, and blanks. We're going to use a function, `tidy_postcodes()`, to create a second postcode column, PC, that will;\n",
    "1. Return the first three characters of the new post code format if the extant post code is that format;\n",
    "2. Return the first three characters of the new post code format if the extant post code is of the old-style Dublin post-code format, using the easy-to_create `short_postcode_dictionary`; and\n",
    "3. Return glugger, from the Irish _ubh ghliogair_, a rotten egg, if the post code is neither of the above.\n",
    "\n",
    "The first three characters of the new post codes are called the **Eircode Routing Keys** - I am indebted to Green Party Councillor for Dún Laoghaire, Ossian Smyth, for his excellent breakdown of these Eircode Routing keys on his website [here](http://www.ossiansmyth.ie/eircode-routing-keys/)."
   ]
  },
  {
   "cell_type": "code",
   "execution_count": 20,
   "metadata": {
    "collapsed": false
   },
   "outputs": [
    {
     "data": {
      "text/plain": [
       "glugger    11295\n",
       "D15         1703\n",
       "D24         1007\n",
       "D07          969\n",
       "D09          967\n",
       "D18          939\n",
       "D04          920\n",
       "D12          865\n",
       "D08          817\n",
       "D11          762\n",
       "D16          728\n",
       "D13          716\n",
       "D03          689\n",
       "D14          633\n",
       "D06          624\n",
       "D05          600\n",
       "A94          578\n",
       "K78          558\n",
       "A96          508\n",
       "D01          462\n",
       "D22          456\n",
       "K67          234\n",
       "D10          209\n",
       "D02          199\n",
       "K32          164\n",
       "D20          151\n",
       "D17          129\n",
       "K36          120\n",
       "K34           47\n",
       "K45           36\n",
       "A98           31\n",
       "K56           17\n",
       "A45            2\n",
       "A86            2\n",
       "A41            1\n",
       "A42            1\n",
       "Name: PC, dtype: int64"
      ]
     },
     "execution_count": 20,
     "metadata": {},
     "output_type": "execute_result"
    }
   ],
   "source": [
    "import re\n",
    "\n",
    "short_postcode_mapper = {}\n",
    "for x in range(1,25):\n",
    "    myKey = 'Dublin {}'.format(x)\n",
    "    myValue = 'D{:02}'.format(x)\n",
    "    short_postcode_mapper[myKey] = myValue\n",
    "short_postcode_mapper['Dublin 6W'] = 'D06'\n",
    "short_postcode_mapper['Dublin 6w'] = 'D06'\n",
    "\n",
    "new_postcode = re.compile('[A-Z][0-9]{2}')\n",
    "old_postcode = re.compile('Dublin [0-9]{1,2}')\n",
    "\n",
    "def tidy_postcode(somePostCode):\n",
    "    if re.match(old_postcode, somePostCode):\n",
    "        return short_postcode_mapper[somePostCode]\n",
    "    elif re.match(new_postcode, somePostCode):\n",
    "        return somePostCode[:3]\n",
    "    else:\n",
    "        return 'glugger'\n",
    "    \n",
    "houses['PC'] = houses['PostCode'].apply(tidy_postcode)\n",
    "houses.PC.value_counts()"
   ]
  },
  {
   "cell_type": "markdown",
   "metadata": {},
   "source": [
    "And here we have a problem - we have 4,822 addresses for which we don't have an eirKey - a frustratingly higher number than the old-style post codes that existed in the *Property Price Register* data. But not to worry - we can use Machine Learning algorithms track down some more eirKeys in [Part 3]()."
   ]
  },
  {
   "cell_type": "code",
   "execution_count": 21,
   "metadata": {
    "collapsed": false
   },
   "outputs": [],
   "source": [
    "with open('../library/pickle/houses_cleaned_after_google_2016_2015_pickle', 'w') as f:\n",
    "    pickle.dump(houses, f)"
   ]
  },
  {
   "cell_type": "code",
   "execution_count": null,
   "metadata": {
    "collapsed": true
   },
   "outputs": [],
   "source": []
  }
 ],
 "metadata": {
  "kernelspec": {
   "display_name": "Python 2",
   "language": "python",
   "name": "python2"
  },
  "language_info": {
   "codemirror_mode": {
    "name": "ipython",
    "version": 2
   },
   "file_extension": ".py",
   "mimetype": "text/x-python",
   "name": "python",
   "nbconvert_exporter": "python",
   "pygments_lexer": "ipython2",
   "version": "2.7.11"
  }
 },
 "nbformat": 4,
 "nbformat_minor": 0
}
