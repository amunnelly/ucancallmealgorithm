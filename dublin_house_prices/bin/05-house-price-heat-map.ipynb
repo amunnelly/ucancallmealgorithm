{
 "cells": [
  {
   "cell_type": "code",
   "execution_count": 1,
   "metadata": {
    "collapsed": false
   },
   "outputs": [
    {
     "name": "stderr",
     "output_type": "stream",
     "text": [
      "/Users/anthonymunnelly/anaconda/lib/python2.7/site-packages/matplotlib/font_manager.py:273: UserWarning: Matplotlib is building the font cache using fc-list. This may take a moment.\n",
      "  warnings.warn('Matplotlib is building the font cache using fc-list. This may take a moment.')\n"
     ]
    }
   ],
   "source": [
    "import pandas as pd\n",
    "import matplotlib.pyplot as plt\n",
    "import pickle\n",
    "import statsmodels.api as sm\n",
    "%matplotlib inline"
   ]
  },
  {
   "cell_type": "code",
   "execution_count": 2,
   "metadata": {
    "collapsed": false
   },
   "outputs": [
    {
     "data": {
      "text/html": [
       "<div>\n",
       "<table border=\"1\" class=\"dataframe\">\n",
       "  <thead>\n",
       "    <tr style=\"text-align: right;\">\n",
       "      <th></th>\n",
       "      <th>Address</th>\n",
       "      <th>Date</th>\n",
       "      <th>Description</th>\n",
       "      <th>FullMarketPrice</th>\n",
       "      <th>Lat</th>\n",
       "      <th>Lon</th>\n",
       "      <th>Price</th>\n",
       "      <th>Size</th>\n",
       "      <th>VAT</th>\n",
       "      <th>eirKey</th>\n",
       "      <th>eirKeyName</th>\n",
       "    </tr>\n",
       "  </thead>\n",
       "  <tbody>\n",
       "    <tr>\n",
       "      <th>0</th>\n",
       "      <td>34 Mountpleasant Terrace, Dublin 6, D06 YC58, ...</td>\n",
       "      <td>2016-01-01</td>\n",
       "      <td>Second-Hand Dwelling house /Apartment</td>\n",
       "      <td>No</td>\n",
       "      <td>53.328587</td>\n",
       "      <td>-6.261495</td>\n",
       "      <td>170000.0</td>\n",
       "      <td></td>\n",
       "      <td>No</td>\n",
       "      <td>D06</td>\n",
       "      <td>D06</td>\n",
       "    </tr>\n",
       "    <tr>\n",
       "      <th>1</th>\n",
       "      <td>2 Brighton Rd, Brighton Hall, Kerrymount, Dubl...</td>\n",
       "      <td>2016-01-04</td>\n",
       "      <td>Second-Hand Dwelling house /Apartment</td>\n",
       "      <td>No</td>\n",
       "      <td>53.258165</td>\n",
       "      <td>-6.174641</td>\n",
       "      <td>1150000.0</td>\n",
       "      <td></td>\n",
       "      <td>No</td>\n",
       "      <td>D18</td>\n",
       "      <td>Cabinteely</td>\n",
       "    </tr>\n",
       "    <tr>\n",
       "      <th>2</th>\n",
       "      <td>24 Woodstown Meadow, Ballycullen, Dublin 16, D...</td>\n",
       "      <td>2016-01-04</td>\n",
       "      <td>Second-Hand Dwelling house /Apartment</td>\n",
       "      <td>No</td>\n",
       "      <td>53.273761</td>\n",
       "      <td>-6.327188</td>\n",
       "      <td>430000.0</td>\n",
       "      <td></td>\n",
       "      <td>No</td>\n",
       "      <td>D16</td>\n",
       "      <td>D16</td>\n",
       "    </tr>\n",
       "    <tr>\n",
       "      <th>3</th>\n",
       "      <td>28 Belton Park Gardens, Clontarf, Dublin 9, D0...</td>\n",
       "      <td>2016-01-04</td>\n",
       "      <td>Second-Hand Dwelling house /Apartment</td>\n",
       "      <td>No</td>\n",
       "      <td>53.375715</td>\n",
       "      <td>-6.226541</td>\n",
       "      <td>225000.0</td>\n",
       "      <td></td>\n",
       "      <td>No</td>\n",
       "      <td>D09</td>\n",
       "      <td>D09</td>\n",
       "    </tr>\n",
       "    <tr>\n",
       "      <th>4</th>\n",
       "      <td>48A Beaufield Park, Stillorgan, Dublin, A94 XH...</td>\n",
       "      <td>2016-01-04</td>\n",
       "      <td>Second-Hand Dwelling house /Apartment</td>\n",
       "      <td>No</td>\n",
       "      <td>53.290123</td>\n",
       "      <td>-6.203367</td>\n",
       "      <td>345000.0</td>\n",
       "      <td></td>\n",
       "      <td>No</td>\n",
       "      <td>A94</td>\n",
       "      <td>Blackrock</td>\n",
       "    </tr>\n",
       "  </tbody>\n",
       "</table>\n",
       "</div>"
      ],
      "text/plain": [
       "                                             Address       Date  \\\n",
       "0  34 Mountpleasant Terrace, Dublin 6, D06 YC58, ... 2016-01-01   \n",
       "1  2 Brighton Rd, Brighton Hall, Kerrymount, Dubl... 2016-01-04   \n",
       "2  24 Woodstown Meadow, Ballycullen, Dublin 16, D... 2016-01-04   \n",
       "3  28 Belton Park Gardens, Clontarf, Dublin 9, D0... 2016-01-04   \n",
       "4  48A Beaufield Park, Stillorgan, Dublin, A94 XH... 2016-01-04   \n",
       "\n",
       "                             Description FullMarketPrice        Lat       Lon  \\\n",
       "0  Second-Hand Dwelling house /Apartment              No  53.328587 -6.261495   \n",
       "1  Second-Hand Dwelling house /Apartment              No  53.258165 -6.174641   \n",
       "2  Second-Hand Dwelling house /Apartment              No  53.273761 -6.327188   \n",
       "3  Second-Hand Dwelling house /Apartment              No  53.375715 -6.226541   \n",
       "4  Second-Hand Dwelling house /Apartment              No  53.290123 -6.203367   \n",
       "\n",
       "       Price Size VAT eirKey  eirKeyName  \n",
       "0   170000.0       No    D06         D06  \n",
       "1  1150000.0       No    D18  Cabinteely  \n",
       "2   430000.0       No    D16         D16  \n",
       "3   225000.0       No    D09         D09  \n",
       "4   345000.0       No    A94   Blackrock  "
      ]
     },
     "execution_count": 2,
     "metadata": {},
     "output_type": "execute_result"
    }
   ],
   "source": [
    "with open('../library/pickle/2016/prices_final_dublin_2016_pickle', 'r') as f:\n",
    "    houses = pickle.load(f)\n",
    "    \n",
    "houses.head()"
   ]
  },
  {
   "cell_type": "code",
   "execution_count": 3,
   "metadata": {
    "collapsed": false
   },
   "outputs": [
    {
     "data": {
      "text/html": [
       "<div>\n",
       "<table border=\"1\" class=\"dataframe\">\n",
       "  <thead>\n",
       "    <tr style=\"text-align: right;\">\n",
       "      <th></th>\n",
       "      <th>Lat</th>\n",
       "      <th>Lon</th>\n",
       "      <th>Price</th>\n",
       "    </tr>\n",
       "  </thead>\n",
       "  <tbody>\n",
       "    <tr>\n",
       "      <th>count</th>\n",
       "      <td>9244.000000</td>\n",
       "      <td>9244.000000</td>\n",
       "      <td>1.082800e+04</td>\n",
       "    </tr>\n",
       "    <tr>\n",
       "      <th>mean</th>\n",
       "      <td>53.353083</td>\n",
       "      <td>-6.264738</td>\n",
       "      <td>4.027730e+05</td>\n",
       "    </tr>\n",
       "    <tr>\n",
       "      <th>std</th>\n",
       "      <td>0.071516</td>\n",
       "      <td>0.089491</td>\n",
       "      <td>4.028466e+05</td>\n",
       "    </tr>\n",
       "    <tr>\n",
       "      <th>min</th>\n",
       "      <td>53.202949</td>\n",
       "      <td>-6.500522</td>\n",
       "      <td>5.400000e+03</td>\n",
       "    </tr>\n",
       "    <tr>\n",
       "      <th>25%</th>\n",
       "      <td>53.299383</td>\n",
       "      <td>-6.318984</td>\n",
       "      <td>2.250000e+05</td>\n",
       "    </tr>\n",
       "    <tr>\n",
       "      <th>50%</th>\n",
       "      <td>53.342920</td>\n",
       "      <td>-6.257587</td>\n",
       "      <td>3.100000e+05</td>\n",
       "    </tr>\n",
       "    <tr>\n",
       "      <th>75%</th>\n",
       "      <td>53.385810</td>\n",
       "      <td>-6.202633</td>\n",
       "      <td>4.625550e+05</td>\n",
       "    </tr>\n",
       "    <tr>\n",
       "      <th>max</th>\n",
       "      <td>53.626983</td>\n",
       "      <td>-6.052932</td>\n",
       "      <td>1.545000e+07</td>\n",
       "    </tr>\n",
       "  </tbody>\n",
       "</table>\n",
       "</div>"
      ],
      "text/plain": [
       "               Lat          Lon         Price\n",
       "count  9244.000000  9244.000000  1.082800e+04\n",
       "mean     53.353083    -6.264738  4.027730e+05\n",
       "std       0.071516     0.089491  4.028466e+05\n",
       "min      53.202949    -6.500522  5.400000e+03\n",
       "25%      53.299383    -6.318984  2.250000e+05\n",
       "50%      53.342920    -6.257587  3.100000e+05\n",
       "75%      53.385810    -6.202633  4.625550e+05\n",
       "max      53.626983    -6.052932  1.545000e+07"
      ]
     },
     "execution_count": 3,
     "metadata": {},
     "output_type": "execute_result"
    }
   ],
   "source": [
    "data = houses[['Lat', 'Lon', 'Price']].copy()\n",
    "data.describe()"
   ]
  },
  {
   "cell_type": "code",
   "execution_count": 4,
   "metadata": {
    "collapsed": false
   },
   "outputs": [
    {
     "name": "stderr",
     "output_type": "stream",
     "text": [
      "/Users/anthonymunnelly/anaconda/lib/python2.7/site-packages/ipykernel/__main__.py:1: FutureWarning: \n",
      "The default value for 'return_type' will change to 'axes' in a future release.\n",
      " To use the future behavior now, set return_type='axes'.\n",
      " To keep the previous behavior and silence this warning, set return_type='dict'.\n",
      "  if __name__ == '__main__':\n"
     ]
    },
    {
     "data": {
      "image/png": "[encoded data removed]",
      "text/plain": [
       "<matplotlib.figure.Figure at 0x103ea9150>"
      ]
     },
     "metadata": {},
     "output_type": "display_data"
    }
   ],
   "source": [
    "data.boxplot('Price', vert=False);"
   ]
  },
  {
   "cell_type": "code",
   "execution_count": 5,
   "metadata": {
    "collapsed": false
   },
   "outputs": [],
   "source": [
    "import numpy as np\n",
    "x_axis = np.linspace(data.Lat.min(), data.Lat.max(), 500)\n",
    "y_axis = np.linspace(data.Lon.min(), data.Lon.max(), 500)"
   ]
  },
  {
   "cell_type": "code",
   "execution_count": 6,
   "metadata": {
    "collapsed": false
   },
   "outputs": [
    {
     "data": {
      "text/plain": [
       "<matplotlib.collections.PathCollection at 0x11a727d10>"
      ]
     },
     "execution_count": 6,
     "metadata": {},
     "output_type": "execute_result"
    },
    {
     "data": {
      "image/png": "[encoded data removed]",
      "text/plain": [
       "<matplotlib.figure.Figure at 0x111294b10>"
      ]
     },
     "metadata": {},
     "output_type": "display_data"
    }
   ],
   "source": [
    "plt.scatter(x_axis, y_axis)"
   ]
  },
  {
   "cell_type": "code",
   "execution_count": 7,
   "metadata": {
    "collapsed": false
   },
   "outputs": [
    {
     "data": {
      "text/plain": [
       "(500,)"
      ]
     },
     "execution_count": 7,
     "metadata": {},
     "output_type": "execute_result"
    }
   ],
   "source": [
    "y_axis.shape"
   ]
  },
  {
   "cell_type": "code",
   "execution_count": 8,
   "metadata": {
    "collapsed": false
   },
   "outputs": [],
   "source": [
    "data = data.dropna()\n",
    "model = sm.OLS(data.Price, data[['Lat', 'Lon']]).fit()"
   ]
  },
  {
   "cell_type": "code",
   "execution_count": 9,
   "metadata": {
    "collapsed": false
   },
   "outputs": [
    {
     "data": {
      "text/html": [
       "<table class=\"simpletable\">\n",
       "<caption>OLS Regression Results</caption>\n",
       "<tr>\n",
       "  <th>Dep. Variable:</th>          <td>Price</td>      <th>  R-squared:         </th>  <td>   0.543</td>  \n",
       "</tr>\n",
       "<tr>\n",
       "  <th>Model:</th>                   <td>OLS</td>       <th>  Adj. R-squared:    </th>  <td>   0.543</td>  \n",
       "</tr>\n",
       "<tr>\n",
       "  <th>Method:</th>             <td>Least Squares</td>  <th>  F-statistic:       </th>  <td>   5501.</td>  \n",
       "</tr>\n",
       "<tr>\n",
       "  <th>Date:</th>             <td>Sat, 21 Jan 2017</td> <th>  Prob (F-statistic):</th>   <td>  0.00</td>   \n",
       "</tr>\n",
       "<tr>\n",
       "  <th>Time:</th>                 <td>15:34:06</td>     <th>  Log-Likelihood:    </th> <td>-1.3181e+05</td>\n",
       "</tr>\n",
       "<tr>\n",
       "  <th>No. Observations:</th>      <td>  9244</td>      <th>  AIC:               </th>  <td>2.636e+05</td> \n",
       "</tr>\n",
       "<tr>\n",
       "  <th>Df Residuals:</th>          <td>  9242</td>      <th>  BIC:               </th>  <td>2.636e+05</td> \n",
       "</tr>\n",
       "<tr>\n",
       "  <th>Df Model:</th>              <td>     2</td>      <th>                     </th>      <td> </td>     \n",
       "</tr>\n",
       "<tr>\n",
       "  <th>Covariance Type:</th>      <td>nonrobust</td>    <th>                     </th>      <td> </td>     \n",
       "</tr>\n",
       "</table>\n",
       "<table class=\"simpletable\">\n",
       "<tr>\n",
       "   <td></td>      <th>coef</th>     <th>std err</th>      <th>t</th>      <th>P>|t|</th> <th>[95.0% Conf. Int.]</th> \n",
       "</tr>\n",
       "<tr>\n",
       "  <th>Lat</th> <td> 1.063e+05</td> <td> 5070.491</td> <td>   20.967</td> <td> 0.000</td> <td> 9.64e+04  1.16e+05</td>\n",
       "</tr>\n",
       "<tr>\n",
       "  <th>Lon</th> <td> 8.409e+05</td> <td> 4.32e+04</td> <td>   19.476</td> <td> 0.000</td> <td> 7.56e+05  9.26e+05</td>\n",
       "</tr>\n",
       "</table>\n",
       "<table class=\"simpletable\">\n",
       "<tr>\n",
       "  <th>Omnibus:</th>       <td>12597.144</td> <th>  Durbin-Watson:     </th>  <td>   1.915</td>  \n",
       "</tr>\n",
       "<tr>\n",
       "  <th>Prob(Omnibus):</th>  <td> 0.000</td>   <th>  Jarque-Bera (JB):  </th> <td>5618001.848</td>\n",
       "</tr>\n",
       "<tr>\n",
       "  <th>Skew:</th>           <td> 7.616</td>   <th>  Prob(JB):          </th>  <td>    0.00</td>  \n",
       "</tr>\n",
       "<tr>\n",
       "  <th>Kurtosis:</th>       <td>122.808</td>  <th>  Cond. No.          </th>  <td>    596.</td>  \n",
       "</tr>\n",
       "</table>"
      ],
      "text/plain": [
       "<class 'statsmodels.iolib.summary.Summary'>\n",
       "\"\"\"\n",
       "                            OLS Regression Results                            \n",
       "==============================================================================\n",
       "Dep. Variable:                  Price   R-squared:                       0.543\n",
       "Model:                            OLS   Adj. R-squared:                  0.543\n",
       "Method:                 Least Squares   F-statistic:                     5501.\n",
       "Date:                Sat, 21 Jan 2017   Prob (F-statistic):               0.00\n",
       "Time:                        15:34:06   Log-Likelihood:            -1.3181e+05\n",
       "No. Observations:                9244   AIC:                         2.636e+05\n",
       "Df Residuals:                    9242   BIC:                         2.636e+05\n",
       "Df Model:                           2                                         \n",
       "Covariance Type:            nonrobust                                         \n",
       "==============================================================================\n",
       "                 coef    std err          t      P>|t|      [95.0% Conf. Int.]\n",
       "------------------------------------------------------------------------------\n",
       "Lat         1.063e+05   5070.491     20.967      0.000      9.64e+04  1.16e+05\n",
       "Lon         8.409e+05   4.32e+04     19.476      0.000      7.56e+05  9.26e+05\n",
       "==============================================================================\n",
       "Omnibus:                    12597.144   Durbin-Watson:                   1.915\n",
       "Prob(Omnibus):                  0.000   Jarque-Bera (JB):          5618001.848\n",
       "Skew:                           7.616   Prob(JB):                         0.00\n",
       "Kurtosis:                     122.808   Cond. No.                         596.\n",
       "==============================================================================\n",
       "\n",
       "Warnings:\n",
       "[1] Standard Errors assume that the covariance matrix of the errors is correctly specified.\n",
       "\"\"\""
      ]
     },
     "execution_count": 9,
     "metadata": {},
     "output_type": "execute_result"
    }
   ],
   "source": [
    "model.summary()"
   ]
  },
  {
   "cell_type": "code",
   "execution_count": null,
   "metadata": {
    "collapsed": true
   },
   "outputs": [],
   "source": []
  }
 ],
 "metadata": {
  "kernelspec": {
   "display_name": "Python 2",
   "language": "python",
   "name": "python2"
  },
  "language_info": {
   "codemirror_mode": {
    "name": "ipython",
    "version": 2
   },
   "file_extension": ".py",
   "mimetype": "text/x-python",
   "name": "python",
   "nbconvert_exporter": "python",
   "pygments_lexer": "ipython2",
   "version": "2.7.11"
  }
 },
 "nbformat": 4,
 "nbformat_minor": 0
}
