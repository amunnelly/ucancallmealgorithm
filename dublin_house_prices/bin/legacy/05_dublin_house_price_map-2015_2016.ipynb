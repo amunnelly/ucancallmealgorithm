{
 "cells": [
  {
   "cell_type": "markdown",
   "metadata": {},
   "source": [
    "# Dublin House Prices by Post Code\n",
    "## Part 5 - the Maps\n",
    "We'll use Pascal Bugnion's [excellent gmaps package](https://github.com/pbugnion/gmaps) to map our house data. First, we'll load our data and check it's ok."
   ]
  },
  {
   "cell_type": "code",
   "execution_count": 1,
   "metadata": {
    "collapsed": false
   },
   "outputs": [
    {
     "data": {
      "text/html": [
       "<div>\n",
       "<table border=\"1\" class=\"dataframe\">\n",
       "  <thead>\n",
       "    <tr style=\"text-align: right;\">\n",
       "      <th></th>\n",
       "      <th>Address</th>\n",
       "      <th>Date</th>\n",
       "      <th>Description</th>\n",
       "      <th>FullMarketPrice</th>\n",
       "      <th>Lat</th>\n",
       "      <th>Lon</th>\n",
       "      <th>Price</th>\n",
       "      <th>Size</th>\n",
       "      <th>VAT</th>\n",
       "      <th>eirKey</th>\n",
       "      <th>eirKeyName</th>\n",
       "    </tr>\n",
       "  </thead>\n",
       "  <tbody>\n",
       "    <tr>\n",
       "      <th>0</th>\n",
       "      <td>34 Mountpleasant Terrace, Dublin 6, D06 YC58, ...</td>\n",
       "      <td>2016-01-01</td>\n",
       "      <td>Second-Hand Dwelling house /Apartment</td>\n",
       "      <td>No</td>\n",
       "      <td>53.328587</td>\n",
       "      <td>-6.261495</td>\n",
       "      <td>170000.0</td>\n",
       "      <td></td>\n",
       "      <td>No</td>\n",
       "      <td>D06</td>\n",
       "      <td>Rathmines</td>\n",
       "    </tr>\n",
       "    <tr>\n",
       "      <th>1</th>\n",
       "      <td>2 Brighton Rd, Brighton Hall, Kerrymount, Dubl...</td>\n",
       "      <td>2016-01-04</td>\n",
       "      <td>Second-Hand Dwelling house /Apartment</td>\n",
       "      <td>No</td>\n",
       "      <td>53.258165</td>\n",
       "      <td>-6.174641</td>\n",
       "      <td>1150000.0</td>\n",
       "      <td></td>\n",
       "      <td>No</td>\n",
       "      <td>D18</td>\n",
       "      <td>Foxrock</td>\n",
       "    </tr>\n",
       "    <tr>\n",
       "      <th>2</th>\n",
       "      <td>24 Woodstown Meadow, Ballycullen, Dublin 16, D...</td>\n",
       "      <td>2016-01-04</td>\n",
       "      <td>Second-Hand Dwelling house /Apartment</td>\n",
       "      <td>No</td>\n",
       "      <td>53.273761</td>\n",
       "      <td>-6.327188</td>\n",
       "      <td>430000.0</td>\n",
       "      <td></td>\n",
       "      <td>No</td>\n",
       "      <td>D16</td>\n",
       "      <td>Ballinteer</td>\n",
       "    </tr>\n",
       "    <tr>\n",
       "      <th>3</th>\n",
       "      <td>28 Belton Park Gardens, Clontarf, Dublin 9, D0...</td>\n",
       "      <td>2016-01-04</td>\n",
       "      <td>Second-Hand Dwelling house /Apartment</td>\n",
       "      <td>No</td>\n",
       "      <td>53.375715</td>\n",
       "      <td>-6.226541</td>\n",
       "      <td>225000.0</td>\n",
       "      <td></td>\n",
       "      <td>No</td>\n",
       "      <td>D09</td>\n",
       "      <td>Drumcondra</td>\n",
       "    </tr>\n",
       "    <tr>\n",
       "      <th>4</th>\n",
       "      <td>48A Beaufield Park, Stillorgan, Dublin, A94 XH...</td>\n",
       "      <td>2016-01-04</td>\n",
       "      <td>Second-Hand Dwelling house /Apartment</td>\n",
       "      <td>No</td>\n",
       "      <td>53.290123</td>\n",
       "      <td>-6.203367</td>\n",
       "      <td>345000.0</td>\n",
       "      <td></td>\n",
       "      <td>No</td>\n",
       "      <td>A94</td>\n",
       "      <td>Blackrock</td>\n",
       "    </tr>\n",
       "  </tbody>\n",
       "</table>\n",
       "</div>"
      ],
      "text/plain": [
       "                                             Address       Date  \\\n",
       "0  34 Mountpleasant Terrace, Dublin 6, D06 YC58, ... 2016-01-01   \n",
       "1  2 Brighton Rd, Brighton Hall, Kerrymount, Dubl... 2016-01-04   \n",
       "2  24 Woodstown Meadow, Ballycullen, Dublin 16, D... 2016-01-04   \n",
       "3  28 Belton Park Gardens, Clontarf, Dublin 9, D0... 2016-01-04   \n",
       "4  48A Beaufield Park, Stillorgan, Dublin, A94 XH... 2016-01-04   \n",
       "\n",
       "                             Description FullMarketPrice        Lat       Lon  \\\n",
       "0  Second-Hand Dwelling house /Apartment              No  53.328587 -6.261495   \n",
       "1  Second-Hand Dwelling house /Apartment              No  53.258165 -6.174641   \n",
       "2  Second-Hand Dwelling house /Apartment              No  53.273761 -6.327188   \n",
       "3  Second-Hand Dwelling house /Apartment              No  53.375715 -6.226541   \n",
       "4  Second-Hand Dwelling house /Apartment              No  53.290123 -6.203367   \n",
       "\n",
       "       Price Size VAT eirKey  eirKeyName  \n",
       "0   170000.0       No    D06   Rathmines  \n",
       "1  1150000.0       No    D18     Foxrock  \n",
       "2   430000.0       No    D16  Ballinteer  \n",
       "3   225000.0       No    D09  Drumcondra  \n",
       "4   345000.0       No    A94   Blackrock  "
      ]
     },
     "execution_count": 1,
     "metadata": {},
     "output_type": "execute_result"
    }
   ],
   "source": [
    "import pandas as pd\n",
    "import pickle\n",
    "with open('../library/pickle/prices_final_dublin_2016_2015_pickle', 'r') as f:\n",
    "    houses = pickle.load(f)\n",
    "houses.head()"
   ]
  },
  {
   "cell_type": "markdown",
   "metadata": {},
   "source": [
    "Next, we'll create a `gmaps` object, `houseMap`, using an authentication key from [Google API](https://console.developers.google.com/apis/)."
   ]
  },
  {
   "cell_type": "code",
   "execution_count": 3,
   "metadata": {
    "collapsed": false
   },
   "outputs": [],
   "source": [
    "import gmaps\n",
    "import json\n",
    "with open('api.json', 'r') as f:\n",
    "    keys = json.load(f)\n",
    "gmaps.configure(api_key = keys['create_the_map'])\n",
    "\n",
    "houseMap = gmaps.Map()"
   ]
  },
  {
   "cell_type": "markdown",
   "metadata": {},
   "source": [
    "`houseMap` will show the locations of the houses sold in Dublin in 2016-to-date.\n",
    "\n",
    "Having created our map object, we now  need to assemble some data for it. To do this, we'll create a copy of our Lat, Lon and Price columns in the `houses` data frame, make sure there are no null values, and convert each into a list.\n",
    "\n",
    "As we only need out latitude and longitudinal details first, we create a list of lat-lon tuples and use this list to create a `Heatmap` layer which we add to the `houseMap` object."
   ]
  },
  {
   "cell_type": "code",
   "execution_count": 4,
   "metadata": {
    "collapsed": false
   },
   "outputs": [
    {
     "data": {
      "text/html": [
       "<div>\n",
       "<table border=\"1\" class=\"dataframe\">\n",
       "  <thead>\n",
       "    <tr style=\"text-align: right;\">\n",
       "      <th></th>\n",
       "      <th>Lat</th>\n",
       "      <th>Lon</th>\n",
       "      <th>Price</th>\n",
       "    </tr>\n",
       "  </thead>\n",
       "  <tbody>\n",
       "    <tr>\n",
       "      <th>13326</th>\n",
       "      <td>53.287019</td>\n",
       "      <td>-6.364894</td>\n",
       "      <td>64085057.00</td>\n",
       "    </tr>\n",
       "    <tr>\n",
       "      <th>16225</th>\n",
       "      <td>53.346695</td>\n",
       "      <td>-6.384659</td>\n",
       "      <td>18150000.00</td>\n",
       "    </tr>\n",
       "    <tr>\n",
       "      <th>14032</th>\n",
       "      <td>53.265648</td>\n",
       "      <td>-6.148350</td>\n",
       "      <td>10500000.00</td>\n",
       "    </tr>\n",
       "    <tr>\n",
       "      <th>20759</th>\n",
       "      <td>53.300498</td>\n",
       "      <td>-6.283854</td>\n",
       "      <td>10400000.00</td>\n",
       "    </tr>\n",
       "    <tr>\n",
       "      <th>21063</th>\n",
       "      <td>53.261294</td>\n",
       "      <td>-6.119492</td>\n",
       "      <td>9000000.00</td>\n",
       "    </tr>\n",
       "    <tr>\n",
       "      <th>14782</th>\n",
       "      <td>53.311221</td>\n",
       "      <td>-6.255564</td>\n",
       "      <td>8725000.00</td>\n",
       "    </tr>\n",
       "    <tr>\n",
       "      <th>19175</th>\n",
       "      <td>53.287380</td>\n",
       "      <td>-6.362599</td>\n",
       "      <td>7743017.58</td>\n",
       "    </tr>\n",
       "    <tr>\n",
       "      <th>17607</th>\n",
       "      <td>53.259770</td>\n",
       "      <td>-6.113644</td>\n",
       "      <td>7500000.00</td>\n",
       "    </tr>\n",
       "    <tr>\n",
       "      <th>1904</th>\n",
       "      <td>53.326149</td>\n",
       "      <td>-6.254584</td>\n",
       "      <td>6500000.00</td>\n",
       "    </tr>\n",
       "    <tr>\n",
       "      <th>20279</th>\n",
       "      <td>53.287068</td>\n",
       "      <td>-6.390184</td>\n",
       "      <td>6412500.00</td>\n",
       "    </tr>\n",
       "    <tr>\n",
       "      <th>21551</th>\n",
       "      <td>53.334872</td>\n",
       "      <td>-6.254379</td>\n",
       "      <td>6275000.00</td>\n",
       "    </tr>\n",
       "    <tr>\n",
       "      <th>16457</th>\n",
       "      <td>53.282336</td>\n",
       "      <td>-6.102410</td>\n",
       "      <td>6000000.00</td>\n",
       "    </tr>\n",
       "    <tr>\n",
       "      <th>6080</th>\n",
       "      <td>53.319686</td>\n",
       "      <td>-6.222106</td>\n",
       "      <td>5900000.00</td>\n",
       "    </tr>\n",
       "    <tr>\n",
       "      <th>15435</th>\n",
       "      <td>53.314867</td>\n",
       "      <td>-6.256537</td>\n",
       "      <td>5850000.00</td>\n",
       "    </tr>\n",
       "    <tr>\n",
       "      <th>15602</th>\n",
       "      <td>53.325554</td>\n",
       "      <td>-6.222674</td>\n",
       "      <td>5700000.00</td>\n",
       "    </tr>\n",
       "    <tr>\n",
       "      <th>1796</th>\n",
       "      <td>53.328147</td>\n",
       "      <td>-6.243330</td>\n",
       "      <td>4980875.00</td>\n",
       "    </tr>\n",
       "    <tr>\n",
       "      <th>18263</th>\n",
       "      <td>53.328870</td>\n",
       "      <td>-6.230524</td>\n",
       "      <td>4800000.00</td>\n",
       "    </tr>\n",
       "    <tr>\n",
       "      <th>16013</th>\n",
       "      <td>53.295476</td>\n",
       "      <td>-6.310959</td>\n",
       "      <td>4800000.00</td>\n",
       "    </tr>\n",
       "    <tr>\n",
       "      <th>20414</th>\n",
       "      <td>53.284707</td>\n",
       "      <td>-6.293155</td>\n",
       "      <td>4739000.00</td>\n",
       "    </tr>\n",
       "    <tr>\n",
       "      <th>15394</th>\n",
       "      <td>53.320025</td>\n",
       "      <td>-6.244994</td>\n",
       "      <td>4500000.00</td>\n",
       "    </tr>\n",
       "  </tbody>\n",
       "</table>\n",
       "</div>"
      ],
      "text/plain": [
       "             Lat       Lon        Price\n",
       "13326  53.287019 -6.364894  64085057.00\n",
       "16225  53.346695 -6.384659  18150000.00\n",
       "14032  53.265648 -6.148350  10500000.00\n",
       "20759  53.300498 -6.283854  10400000.00\n",
       "21063  53.261294 -6.119492   9000000.00\n",
       "14782  53.311221 -6.255564   8725000.00\n",
       "19175  53.287380 -6.362599   7743017.58\n",
       "17607  53.259770 -6.113644   7500000.00\n",
       "1904   53.326149 -6.254584   6500000.00\n",
       "20279  53.287068 -6.390184   6412500.00\n",
       "21551  53.334872 -6.254379   6275000.00\n",
       "16457  53.282336 -6.102410   6000000.00\n",
       "6080   53.319686 -6.222106   5900000.00\n",
       "15435  53.314867 -6.256537   5850000.00\n",
       "15602  53.325554 -6.222674   5700000.00\n",
       "1796   53.328147 -6.243330   4980875.00\n",
       "18263  53.328870 -6.230524   4800000.00\n",
       "16013  53.295476 -6.310959   4800000.00\n",
       "20414  53.284707 -6.293155   4739000.00\n",
       "15394  53.320025 -6.244994   4500000.00"
      ]
     },
     "execution_count": 4,
     "metadata": {},
     "output_type": "execute_result"
    }
   ],
   "source": [
    "forMapping = houses[['Lat', 'Lon', 'Price']].copy()\n",
    "forMapping = forMapping.dropna(how='any')\n",
    "forMapping = forMapping.sort_values('Price', ascending = False)\n",
    "forMapping.head(20)"
   ]
  },
  {
   "cell_type": "markdown",
   "metadata": {},
   "source": [
    "We see the same issue here with regard to the prices, where there are some prices so outlandishly out of adjustment with the majority that they skew the results. So we'll cap house prices at a reasonable five million Euro or under, and map from there."
   ]
  },
  {
   "cell_type": "code",
   "execution_count": 7,
   "metadata": {
    "collapsed": true
   },
   "outputs": [],
   "source": [
    "forMapping = forMapping[forMapping.Price < 10000000]\n",
    "lat = forMapping['Lat'].tolist()\n",
    "lon = forMapping['Lon'].tolist()\n",
    "price = forMapping['Price'].tolist()\n",
    "\n",
    "count_data = []\n",
    "[count_data.append((lat[i], lon[i])) for i in range(len(lat))]\n",
    "\n",
    "count_layer = gmaps.Heatmap(data=count_data, point_radius = 15)\n",
    "houseMap.add_layer(count_layer)"
   ]
  },
  {
   "cell_type": "markdown",
   "metadata": {},
   "source": [
    "## House Sales in Dublin, 2016-to-Date"
   ]
  },
  {
   "cell_type": "code",
   "execution_count": 9,
   "metadata": {
    "collapsed": false
   },
   "outputs": [],
   "source": [
    "houseMap"
   ]
  },
  {
   "cell_type": "markdown",
   "metadata": {},
   "source": [
    "### Conclusions\n",
    "On the second or third zoom, we can see the sharp concentration in area on the extremity of the city - Blanchardstown/Castleknock, Donabate and Dún Laoghaire along the coast, and in the southwest at Saggart, Stepaside and Ballyboden."
   ]
  },
  {
   "cell_type": "markdown",
   "metadata": {},
   "source": [
    "# House Prices in Dublin, 2016-to-Date\n",
    "There is a similar process to create the Prices map. This time, we called `WeightedHeapmap`, which takes a third, Price, value which it uses to color the heatmap."
   ]
  },
  {
   "cell_type": "code",
   "execution_count": 10,
   "metadata": {
    "collapsed": false
   },
   "outputs": [],
   "source": [
    "price_mapping_data = []\n",
    "[price_mapping_data.append((lat[i], lon[i], price[i])) for i in range(len(lat))]\n",
    "\n",
    "price_layer = gmaps.WeightedHeatmap(data=price_mapping_data, point_radius=15)\n",
    "priceMap = gmaps.Map()\n",
    "priceMap.add_layer(price_layer)"
   ]
  },
  {
   "cell_type": "code",
   "execution_count": 11,
   "metadata": {
    "collapsed": false
   },
   "outputs": [],
   "source": [
    "priceMap"
   ]
  },
  {
   "cell_type": "markdown",
   "metadata": {
    "collapsed": true
   },
   "source": [
    "### Conclusions\n",
    "While properties were bought for considerable amounts all across the city and into the rest of Leinster, the angry red colours centered over Ballsbridge and Rathmines indicating the price of real estate in those most des of reses suggest that some things will never really change."
   ]
  },
  {
   "cell_type": "code",
   "execution_count": null,
   "metadata": {
    "collapsed": true
   },
   "outputs": [],
   "source": []
  }
 ],
 "metadata": {
  "kernelspec": {
   "display_name": "Python 2",
   "language": "python",
   "name": "python2"
  },
  "language_info": {
   "codemirror_mode": {
    "name": "ipython",
    "version": 2
   },
   "file_extension": ".py",
   "mimetype": "text/x-python",
   "name": "python",
   "nbconvert_exporter": "python",
   "pygments_lexer": "ipython2",
   "version": "2.7.11"
  }
 },
 "nbformat": 4,
 "nbformat_minor": 0
}
