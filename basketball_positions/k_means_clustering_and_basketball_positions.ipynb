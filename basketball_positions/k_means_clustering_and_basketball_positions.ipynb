{
 "cells": [
  {
   "cell_type": "markdown",
   "metadata": {
    "slideshow": {
     "slide_type": "slide"
    }
   },
   "source": [
    "# Unsupervised K-Means Clustering\n",
    "### Is position the natural division of labor on an NBA basketball team?"
   ]
  },
  {
   "cell_type": "markdown",
   "metadata": {},
   "source": [
    "## Background\n",
    "There are five players on a basketball team - two guards, two forwards and a centre. However, there is also a school of thought that posits this division of labour is incorrect, and a better division is one guard, two wings, and two forwards.\n",
    "\n",
    "I thought it would be interesting to cluster the players in an NBA season to see which division is correct. The results were not quite as expected."
   ]
  },
  {
   "cell_type": "markdown",
   "metadata": {
    "slideshow": {
     "slide_type": "slide"
    }
   },
   "source": [
    "### Loading Neccessary Packages\n",
    "\n",
    "First, we load the packages that are not native to Python but that we need to process the data. They are:\n",
    "1. `Pandas`, a package that allows scaler calculations on matrix-type data.\n",
    "2. `Matplotlib`, the leading graphing utilty in the Python ecosystem.\n",
    "3. `KMeans`, part of the sklearn machine learning suite. This is the object we'll use to do the calculations.\n",
    "4. `MinMaxScaler`, also part of the sklearn suite. It allows us to normalise the data."
   ]
  },
  {
   "cell_type": "code",
   "execution_count": 2,
   "metadata": {
    "collapsed": false,
    "slideshow": {
     "slide_type": "subslide"
    }
   },
   "outputs": [],
   "source": [
    "import pandas as pd\n",
    "import matplotlib.pyplot as plt\n",
    "%matplotlib inline\n",
    "\n",
    "from sklearn.cluster import KMeans\n",
    "from sklearn.preprocessing import MinMaxScaler"
   ]
  },
  {
   "cell_type": "markdown",
   "metadata": {},
   "source": [
    "### The Data\n",
    "Provided by <a href=\"http://www.sports-reference.com/sharing.html?utm_source=direct&utm_medium=Share&utm_campaign=ShareTool\">Basketball-Reference.com</a>: <a href=\"http://www.basketball-reference.com/leagues/NBA_2016_per_game.html?sr&utm_source=direct&utm_medium=Share&utm_campaign=ShareTool#per_game_stats\">View Original Table</a><br>Generated 11/2/2016.\n"
   ]
  },
  {
   "cell_type": "code",
   "execution_count": 3,
   "metadata": {
    "collapsed": false,
    "slideshow": {
     "slide_type": "subslide"
    }
   },
   "outputs": [
    {
     "name": "stdout",
     "output_type": "stream",
     "text": [
      "   Rk         Player Pos  Age   Tm   G  GS    MP   FG   FGA   ...     DRB  \\\n",
      "0   1     Quincy Acy  PF   25  SAC  59  29  14.8  2.0   3.6   ...     2.1   \n",
      "1   2   Jordan Adams  SG   21  MEM   2   0   7.5  1.0   3.0   ...     1.0   \n",
      "2   3   Steven Adams   C   22  OKC  80  80  25.2  3.3   5.3   ...     3.9   \n",
      "3   4  Arron Afflalo  SG   30  NYK  71  57  33.4  5.0  11.3   ...     3.4   \n",
      "4   5  Alexis Ajinca   C   27  NOP  59  17  14.6  2.5   5.3   ...     3.3   \n",
      "\n",
      "   TRB  AST  STL  BLK  TOV   PF  PS/G       OP       NP  \n",
      "0  3.2  0.5  0.5  0.4  0.5  1.7   5.2  forward  forward  \n",
      "1  1.0  1.5  1.5  0.0  1.0  1.0   3.5    guard     wing  \n",
      "2  6.7  0.8  0.5  1.1  1.1  2.8   8.0   center  forward  \n",
      "3  3.7  2.0  0.4  0.1  1.2  2.0  12.8    guard     wing  \n",
      "4  4.6  0.5  0.3  0.6  0.9  2.3   6.0   center  forward  \n",
      "\n",
      "[5 rows x 32 columns]\n"
     ]
    }
   ],
   "source": [
    "bb_reference = pd.read_csv('nba_2015_2016.csv')\n",
    "\n",
    "old_positions = {\"PG\": 'guard',\n",
    "                 \"SG\": 'guard',\n",
    "                 \"SF\": 'forward',\n",
    "                 \"PF\": 'forward',\n",
    "                 \"C\": 'center',\n",
    "                 \"PF-C\": 'forward',\n",
    "                 \"SG-PG\": 'guard',\n",
    "                 \"SG-SF\": 'guard'}\n",
    "\n",
    "new_positions = {\"PG\": 'guard',\n",
    "                 \"SG\": 'wing',\n",
    "                 \"SF\": 'wing',\n",
    "                 \"PF\": 'forward',\n",
    "                 \"C\": 'forward',\n",
    "                 \"PF-C\": 'forward',\n",
    "                 \"SG-PG\": 'wing',\n",
    "                 \"SG-SF\": 'wing'}\n",
    "\n",
    "\n",
    "bb_reference['OP'] = bb_reference['Pos'].map(old_positions)\n",
    "bb_reference['NP'] = bb_reference['Pos'].map(new_positions)\n",
    "\n",
    "\n",
    "print bb_reference.head()"
   ]
  },
  {
   "cell_type": "markdown",
   "metadata": {},
   "source": [
    "Let's look at the data a little more closely."
   ]
  },
  {
   "cell_type": "markdown",
   "metadata": {},
   "source": [
    "#### The Breakdown of Guards, Forwards and Centers"
   ]
  },
  {
   "cell_type": "code",
   "execution_count": 4,
   "metadata": {
    "collapsed": false
   },
   "outputs": [
    {
     "data": {
      "text/plain": [
       "guard      247\n",
       "forward    229\n",
       "center     102\n",
       "Name: OP, dtype: int64"
      ]
     },
     "execution_count": 4,
     "metadata": {},
     "output_type": "execute_result"
    }
   ],
   "source": [
    "bb_reference.OP.value_counts()"
   ]
  },
  {
   "cell_type": "markdown",
   "metadata": {},
   "source": [
    "#### The Breakdown of Guards, Wings and Forwards"
   ]
  },
  {
   "cell_type": "code",
   "execution_count": 5,
   "metadata": {
    "collapsed": false
   },
   "outputs": [
    {
     "data": {
      "text/plain": [
       "wing       226\n",
       "forward    223\n",
       "guard      129\n",
       "Name: NP, dtype: int64"
      ]
     },
     "execution_count": 5,
     "metadata": {},
     "output_type": "execute_result"
    }
   ],
   "source": [
    "bb_reference.NP.value_counts()"
   ]
  },
  {
   "cell_type": "markdown",
   "metadata": {},
   "source": [
    "#### The Breakdown of Minutes Played Per Player, Per Game"
   ]
  },
  {
   "cell_type": "code",
   "execution_count": 8,
   "metadata": {
    "collapsed": false
   },
   "outputs": [
    {
     "name": "stdout",
     "output_type": "stream",
     "text": [
      "count    578.000000\n",
      "mean      19.392907\n",
      "std        9.231705\n",
      "min        1.200000\n",
      "25%       12.025000\n",
      "50%       18.800000\n",
      "75%       27.175000\n",
      "max       42.000000\n",
      "Name: MP, dtype: float64\n"
     ]
    },
    {
     "data": {
      "image/png": "[encoded data removed]",
      "text/plain": [
       "<matplotlib.figure.Figure at 0x115e17310>"
      ]
     },
     "metadata": {},
     "output_type": "display_data"
    }
   ],
   "source": [
    "print bb_reference.MP.describe()\n",
    "\n",
    "bb_reference.MP.plot(kind = 'hist', bins = 50, color = '#FF4841', edgecolor = 'white')\n",
    "plt.xlabel('Minutes Played')\n",
    "plt.title('Histogram of minutes played per game');"
   ]
  },
  {
   "cell_type": "markdown",
   "metadata": {
    "slideshow": {
     "slide_type": "slide"
    }
   },
   "source": [
    "#### Creating K-Means and Scaler Objects\n",
    "\n",
    "Now, we create the kmeans and scaler objects. I've chosen three clusters here, because that's the proposition I'm trying to investigate - which three-way division of positions on a basketball team is correct? Two guards, two forwards and one centre, or one guard, two wings and two forwards?"
   ]
  },
  {
   "cell_type": "code",
   "execution_count": 9,
   "metadata": {
    "collapsed": false,
    "slideshow": {
     "slide_type": "subslide"
    }
   },
   "outputs": [],
   "source": [
    "kmeans = KMeans(n_clusters = 3)\n",
    "scaler = MinMaxScaler()"
   ]
  },
  {
   "cell_type": "markdown",
   "metadata": {},
   "source": [
    "Our scaler object can only process numerical data. Therefore, categorical data - which is not essential to the analysis anyway - has to go."
   ]
  },
  {
   "cell_type": "code",
   "execution_count": 10,
   "metadata": {
    "collapsed": false,
    "slideshow": {
     "slide_type": "subslide"
    }
   },
   "outputs": [
    {
     "data": {
      "text/plain": [
       "numpy.ndarray"
      ]
     },
     "execution_count": 10,
     "metadata": {},
     "output_type": "execute_result"
    }
   ],
   "source": [
    "bb_reference = bb_reference.dropna()\n",
    "bb_test = bb_reference.drop(['Rk', 'Player', 'Pos', 'Tm', 'OP', 'NP'], axis = 1).copy()\n",
    "\n",
    "\n",
    "bb_scaled = scaler.fit_transform(bb_test)\n",
    "type(bb_scaled)"
   ]
  },
  {
   "cell_type": "markdown",
   "metadata": {
    "slideshow": {
     "slide_type": "slide"
    }
   },
   "source": [
    "#### Fitting the Data\n",
    "Now we fit the new, scaled data to the kmeans object. This allows us to create a list, labels_scaled, in which each player in the `bb_reference` data frame is assigned to a particular cluster, labelled 0, 1 or 2.\n",
    "Note that we once we have our labels, we return to the original, non-scaled data. The scaled data is only used in the creation of the clusters and their correct labelling."
   ]
  },
  {
   "cell_type": "code",
   "execution_count": 11,
   "metadata": {
    "collapsed": false,
    "slideshow": {
     "slide_type": "subslide"
    }
   },
   "outputs": [],
   "source": [
    "kmeans.fit(bb_scaled)\n",
    "labels_scaled = kmeans.labels_\n",
    "bb_reference['labels_scaled'] = labels_scaled\n",
    "scaled_labels_checker = bb_reference.groupby(labels_scaled)"
   ]
  },
  {
   "cell_type": "markdown",
   "metadata": {
    "slideshow": {
     "slide_type": "slide"
    }
   },
   "source": [
    "#### Grouping by Cluster\n",
    "Now divide our data frame in different groups according to the groups' clusters. We'll then create two sets of three pie charts, each showing how the old positions and the new positions are divided among the clusters. The positioning system best-fitting the clusters is the correct one.\n",
    "\n",
    "In theory."
   ]
  },
  {
   "cell_type": "code",
   "execution_count": 12,
   "metadata": {
    "collapsed": false,
    "slideshow": {
     "slide_type": "slide"
    }
   },
   "outputs": [
    {
     "data": {
      "image/png": "[encoded data removed]",
      "text/plain": [
       "<matplotlib.figure.Figure at 0x115e08f10>"
      ]
     },
     "metadata": {},
     "output_type": "display_data"
    }
   ],
   "source": [
    "fig, ax = plt.subplots(2, 3, figsize = (11, 8))\n",
    "\n",
    "colors = ['#ece7f2','#a6bddb','#2b8cbe']\n",
    "gatherer = []\n",
    "\n",
    "for label, details in scaled_labels_checker:\n",
    "    positions = details.OP.value_counts()\n",
    "    ax[0][label].pie(positions, colors = colors, labels = positions.index)\n",
    "    ax[0][label].set_title('Group ' + str(label))\n",
    "    gatherer.append(positions)\n",
    "    \n",
    "for label, details in scaled_labels_checker:\n",
    "    positions = details.NP.value_counts()\n",
    "    ax[1][label].pie(positions, colors = colors, labels = positions.index)\n",
    "    ax[1][label].set_title('Group ' + str(label))\n",
    "    gatherer.append(positions)"
   ]
  },
  {
   "cell_type": "markdown",
   "metadata": {},
   "source": [
    "And this isn't what we expected at all. Each group should be dominated by a positon - instead, they break down relative to their occurance in the original data set. Nothing has happened!"
   ]
  },
  {
   "cell_type": "code",
   "execution_count": 13,
   "metadata": {
    "collapsed": false
   },
   "outputs": [
    {
     "data": {
      "text/html": [
       "<div>\n",
       "<table border=\"1\" class=\"dataframe\">\n",
       "  <thead>\n",
       "    <tr style=\"text-align: right;\">\n",
       "      <th></th>\n",
       "      <th>0</th>\n",
       "      <th>1</th>\n",
       "      <th>2</th>\n",
       "    </tr>\n",
       "  </thead>\n",
       "  <tbody>\n",
       "    <tr>\n",
       "      <th>center</th>\n",
       "      <td>19</td>\n",
       "      <td>23</td>\n",
       "      <td>26</td>\n",
       "    </tr>\n",
       "    <tr>\n",
       "      <th>forward</th>\n",
       "      <td>49</td>\n",
       "      <td>94</td>\n",
       "      <td>57</td>\n",
       "    </tr>\n",
       "    <tr>\n",
       "      <th>guard</th>\n",
       "      <td>54</td>\n",
       "      <td>88</td>\n",
       "      <td>95</td>\n",
       "    </tr>\n",
       "  </tbody>\n",
       "</table>\n",
       "</div>"
      ],
      "text/plain": [
       "          0   1   2\n",
       "center   19  23  26\n",
       "forward  49  94  57\n",
       "guard    54  88  95"
      ]
     },
     "execution_count": 13,
     "metadata": {},
     "output_type": "execute_result"
    }
   ],
   "source": [
    "old_positions = pd.concat(gatherer[:3], axis=1)\n",
    "old_positions.columns = columns = [0,1,2]\n",
    "old_positions"
   ]
  },
  {
   "cell_type": "code",
   "execution_count": 14,
   "metadata": {
    "collapsed": false
   },
   "outputs": [
    {
     "data": {
      "text/html": [
       "<div>\n",
       "<table border=\"1\" class=\"dataframe\">\n",
       "  <thead>\n",
       "    <tr style=\"text-align: right;\">\n",
       "      <th></th>\n",
       "      <th>0</th>\n",
       "      <th>1</th>\n",
       "      <th>2</th>\n",
       "    </tr>\n",
       "  </thead>\n",
       "  <tbody>\n",
       "    <tr>\n",
       "      <th>forward</th>\n",
       "      <td>43</td>\n",
       "      <td>74</td>\n",
       "      <td>52</td>\n",
       "    </tr>\n",
       "    <tr>\n",
       "      <th>guard</th>\n",
       "      <td>29</td>\n",
       "      <td>39</td>\n",
       "      <td>54</td>\n",
       "    </tr>\n",
       "    <tr>\n",
       "      <th>wing</th>\n",
       "      <td>50</td>\n",
       "      <td>92</td>\n",
       "      <td>72</td>\n",
       "    </tr>\n",
       "  </tbody>\n",
       "</table>\n",
       "</div>"
      ],
      "text/plain": [
       "          0   1   2\n",
       "forward  43  74  52\n",
       "guard    29  39  54\n",
       "wing     50  92  72"
      ]
     },
     "execution_count": 14,
     "metadata": {},
     "output_type": "execute_result"
    }
   ],
   "source": [
    "new_positions = pd.concat(gatherer[3:], axis=1)\n",
    "new_positions.columns = columns = [0,1,2]\n",
    "new_positions"
   ]
  },
  {
   "cell_type": "markdown",
   "metadata": {
    "slideshow": {
     "slide_type": "slide"
    }
   },
   "source": [
    "### But If Positions Aren't Important - What is?\n",
    "And this isn't what we expected at all. But - what if the algorithm has found a truth more fundamental than positions?\n",
    "Let's look at the three most important stats in basketball - points, assists and rebounds - for our three groups."
   ]
  },
  {
   "cell_type": "code",
   "execution_count": 18,
   "metadata": {
    "collapsed": false,
    "slideshow": {
     "slide_type": "slide"
    }
   },
   "outputs": [
    {
     "data": {
      "image/png": "[encoded data removed]",
      "text/plain": [
       "<matplotlib.figure.Figure at 0x1183fe810>"
      ]
     },
     "metadata": {},
     "output_type": "display_data"
    }
   ],
   "source": [
    "fig, ax = plt.subplots(3, 3, figsize = (12, 7), sharex=True)\n",
    "\n",
    "colors = ['#75E8C0', '#8DFFB7','#75E87F']\n",
    "stats = ['PS/G', 'AST', 'TRB']\n",
    "names = ['Points', 'Assists', 'Rebounds']\n",
    "\n",
    "for row in range(3):\n",
    "    for col in range(3):\n",
    "        data = scaled_labels_checker.get_group(row)\n",
    "        box = ax[row][col].boxplot(data[stats[col]].values, vert=False)\n",
    "        ax[row][col].set_title(\"Group \" + str(row) + ', ' + names[col])\n",
    "        ax[row][col].set_axis_bgcolor(colors[row])\n",
    "        \n"
   ]
  },
  {
   "cell_type": "markdown",
   "metadata": {
    "collapsed": true
   },
   "source": [
    "### Production > Position\n",
    "Look at the different distributions of data in the clusters. Group 0 is clearly better at scoring, assisting and rebounding than the other two. This suggests that the algorithm has realised that position doesn't count as much as the ability to score, to assist scoring and to gather rebounds. And a look at just who is in Group 1 may confirm our suspicions."
   ]
  },
  {
   "cell_type": "code",
   "execution_count": 19,
   "metadata": {
    "collapsed": false
   },
   "outputs": [
    {
     "data": {
      "text/html": [
       "<div>\n",
       "<table border=\"1\" class=\"dataframe\">\n",
       "  <thead>\n",
       "    <tr style=\"text-align: right;\">\n",
       "      <th></th>\n",
       "      <th>Player</th>\n",
       "      <th>Tm</th>\n",
       "      <th>PS/G</th>\n",
       "      <th>AST</th>\n",
       "      <th>TRB</th>\n",
       "      <th>OP</th>\n",
       "      <th>NP</th>\n",
       "    </tr>\n",
       "  </thead>\n",
       "  <tbody>\n",
       "    <tr>\n",
       "      <th>116</th>\n",
       "      <td>Stephen Curry</td>\n",
       "      <td>GSW</td>\n",
       "      <td>30.1</td>\n",
       "      <td>6.7</td>\n",
       "      <td>5.4</td>\n",
       "      <td>guard</td>\n",
       "      <td>guard</td>\n",
       "    </tr>\n",
       "    <tr>\n",
       "      <th>205</th>\n",
       "      <td>James Harden</td>\n",
       "      <td>HOU</td>\n",
       "      <td>29.0</td>\n",
       "      <td>7.5</td>\n",
       "      <td>6.1</td>\n",
       "      <td>guard</td>\n",
       "      <td>wing</td>\n",
       "    </tr>\n",
       "    <tr>\n",
       "      <th>137</th>\n",
       "      <td>Kevin Durant</td>\n",
       "      <td>OKC</td>\n",
       "      <td>28.2</td>\n",
       "      <td>5.0</td>\n",
       "      <td>8.2</td>\n",
       "      <td>forward</td>\n",
       "      <td>wing</td>\n",
       "    </tr>\n",
       "    <tr>\n",
       "      <th>106</th>\n",
       "      <td>DeMarcus Cousins</td>\n",
       "      <td>SAC</td>\n",
       "      <td>26.9</td>\n",
       "      <td>3.3</td>\n",
       "      <td>11.5</td>\n",
       "      <td>center</td>\n",
       "      <td>forward</td>\n",
       "    </tr>\n",
       "    <tr>\n",
       "      <th>264</th>\n",
       "      <td>LeBron James</td>\n",
       "      <td>CLE</td>\n",
       "      <td>25.3</td>\n",
       "      <td>6.8</td>\n",
       "      <td>7.4</td>\n",
       "      <td>forward</td>\n",
       "      <td>wing</td>\n",
       "    </tr>\n",
       "    <tr>\n",
       "      <th>325</th>\n",
       "      <td>Damian Lillard</td>\n",
       "      <td>POR</td>\n",
       "      <td>25.1</td>\n",
       "      <td>6.8</td>\n",
       "      <td>4.0</td>\n",
       "      <td>guard</td>\n",
       "      <td>guard</td>\n",
       "    </tr>\n",
       "    <tr>\n",
       "      <th>118</th>\n",
       "      <td>Anthony Davis</td>\n",
       "      <td>NOP</td>\n",
       "      <td>24.3</td>\n",
       "      <td>1.9</td>\n",
       "      <td>10.3</td>\n",
       "      <td>forward</td>\n",
       "      <td>forward</td>\n",
       "    </tr>\n",
       "    <tr>\n",
       "      <th>126</th>\n",
       "      <td>DeMar DeRozan</td>\n",
       "      <td>TOR</td>\n",
       "      <td>23.5</td>\n",
       "      <td>4.0</td>\n",
       "      <td>4.5</td>\n",
       "      <td>guard</td>\n",
       "      <td>wing</td>\n",
       "    </tr>\n",
       "    <tr>\n",
       "      <th>553</th>\n",
       "      <td>Russell Westbrook</td>\n",
       "      <td>OKC</td>\n",
       "      <td>23.5</td>\n",
       "      <td>10.4</td>\n",
       "      <td>7.8</td>\n",
       "      <td>guard</td>\n",
       "      <td>guard</td>\n",
       "    </tr>\n",
       "    <tr>\n",
       "      <th>175</th>\n",
       "      <td>Paul George</td>\n",
       "      <td>IND</td>\n",
       "      <td>23.1</td>\n",
       "      <td>4.1</td>\n",
       "      <td>7.0</td>\n",
       "      <td>forward</td>\n",
       "      <td>wing</td>\n",
       "    </tr>\n",
       "    <tr>\n",
       "      <th>510</th>\n",
       "      <td>Isaiah Thomas</td>\n",
       "      <td>BOS</td>\n",
       "      <td>22.2</td>\n",
       "      <td>6.2</td>\n",
       "      <td>3.0</td>\n",
       "      <td>guard</td>\n",
       "      <td>guard</td>\n",
       "    </tr>\n",
       "    <tr>\n",
       "      <th>516</th>\n",
       "      <td>Klay Thompson</td>\n",
       "      <td>GSW</td>\n",
       "      <td>22.1</td>\n",
       "      <td>2.1</td>\n",
       "      <td>3.8</td>\n",
       "      <td>guard</td>\n",
       "      <td>wing</td>\n",
       "    </tr>\n",
       "    <tr>\n",
       "      <th>22</th>\n",
       "      <td>Carmelo Anthony</td>\n",
       "      <td>NYK</td>\n",
       "      <td>21.8</td>\n",
       "      <td>4.2</td>\n",
       "      <td>7.7</td>\n",
       "      <td>forward</td>\n",
       "      <td>wing</td>\n",
       "    </tr>\n",
       "    <tr>\n",
       "      <th>197</th>\n",
       "      <td>Blake Griffin</td>\n",
       "      <td>LAC</td>\n",
       "      <td>21.4</td>\n",
       "      <td>4.9</td>\n",
       "      <td>8.4</td>\n",
       "      <td>forward</td>\n",
       "      <td>forward</td>\n",
       "    </tr>\n",
       "    <tr>\n",
       "      <th>322</th>\n",
       "      <td>Kawhi Leonard</td>\n",
       "      <td>SAS</td>\n",
       "      <td>21.2</td>\n",
       "      <td>2.6</td>\n",
       "      <td>6.8</td>\n",
       "      <td>forward</td>\n",
       "      <td>wing</td>\n",
       "    </tr>\n",
       "    <tr>\n",
       "      <th>332</th>\n",
       "      <td>Kyle Lowry</td>\n",
       "      <td>TOR</td>\n",
       "      <td>21.2</td>\n",
       "      <td>6.4</td>\n",
       "      <td>4.7</td>\n",
       "      <td>guard</td>\n",
       "      <td>guard</td>\n",
       "    </tr>\n",
       "    <tr>\n",
       "      <th>77</th>\n",
       "      <td>Jimmy Butler</td>\n",
       "      <td>CHI</td>\n",
       "      <td>20.9</td>\n",
       "      <td>4.8</td>\n",
       "      <td>5.3</td>\n",
       "      <td>guard</td>\n",
       "      <td>wing</td>\n",
       "    </tr>\n",
       "    <tr>\n",
       "      <th>542</th>\n",
       "      <td>Kemba Walker</td>\n",
       "      <td>CHO</td>\n",
       "      <td>20.9</td>\n",
       "      <td>5.2</td>\n",
       "      <td>4.4</td>\n",
       "      <td>guard</td>\n",
       "      <td>guard</td>\n",
       "    </tr>\n",
       "    <tr>\n",
       "      <th>352</th>\n",
       "      <td>C.J. McCollum</td>\n",
       "      <td>POR</td>\n",
       "      <td>20.8</td>\n",
       "      <td>4.3</td>\n",
       "      <td>3.2</td>\n",
       "      <td>guard</td>\n",
       "      <td>wing</td>\n",
       "    </tr>\n",
       "    <tr>\n",
       "      <th>556</th>\n",
       "      <td>Andrew Wiggins</td>\n",
       "      <td>MIN</td>\n",
       "      <td>20.7</td>\n",
       "      <td>2.0</td>\n",
       "      <td>3.6</td>\n",
       "      <td>forward</td>\n",
       "      <td>wing</td>\n",
       "    </tr>\n",
       "  </tbody>\n",
       "</table>\n",
       "</div>"
      ],
      "text/plain": [
       "                Player   Tm  PS/G   AST   TRB       OP       NP\n",
       "116      Stephen Curry  GSW  30.1   6.7   5.4    guard    guard\n",
       "205       James Harden  HOU  29.0   7.5   6.1    guard     wing\n",
       "137       Kevin Durant  OKC  28.2   5.0   8.2  forward     wing\n",
       "106   DeMarcus Cousins  SAC  26.9   3.3  11.5   center  forward\n",
       "264       LeBron James  CLE  25.3   6.8   7.4  forward     wing\n",
       "325     Damian Lillard  POR  25.1   6.8   4.0    guard    guard\n",
       "118      Anthony Davis  NOP  24.3   1.9  10.3  forward  forward\n",
       "126      DeMar DeRozan  TOR  23.5   4.0   4.5    guard     wing\n",
       "553  Russell Westbrook  OKC  23.5  10.4   7.8    guard    guard\n",
       "175        Paul George  IND  23.1   4.1   7.0  forward     wing\n",
       "510      Isaiah Thomas  BOS  22.2   6.2   3.0    guard    guard\n",
       "516      Klay Thompson  GSW  22.1   2.1   3.8    guard     wing\n",
       "22     Carmelo Anthony  NYK  21.8   4.2   7.7  forward     wing\n",
       "197      Blake Griffin  LAC  21.4   4.9   8.4  forward  forward\n",
       "322      Kawhi Leonard  SAS  21.2   2.6   6.8  forward     wing\n",
       "332         Kyle Lowry  TOR  21.2   6.4   4.7    guard    guard\n",
       "77        Jimmy Butler  CHI  20.9   4.8   5.3    guard     wing\n",
       "542       Kemba Walker  CHO  20.9   5.2   4.4    guard    guard\n",
       "352      C.J. McCollum  POR  20.8   4.3   3.2    guard     wing\n",
       "556     Andrew Wiggins  MIN  20.7   2.0   3.6  forward     wing"
      ]
     },
     "execution_count": 19,
     "metadata": {},
     "output_type": "execute_result"
    }
   ],
   "source": [
    "data = scaled_labels_checker.get_group(0)\n",
    "\n",
    "data = data.sort_values('PS/G', ascending=False)\n",
    "# data[['Player', 'Tm']][:20]\n",
    "data[['Player', 'Tm','PS/G', 'AST', 'TRB', 'OP', 'NP']][:20]"
   ]
  },
  {
   "cell_type": "markdown",
   "metadata": {
    "collapsed": true
   },
   "source": [
    "The algorithm has correctly identified the best players in the NBA during the 2015-'16. So while it didn't do what we thought it would do, partition by position, the algorithm positioned by something more important - a player's overall worth to his team.\n",
    "\n",
    "#### Footnote\n",
    "Whether the superstar group is Group 0, 1 or 2 is immaterial - if you run the algorithm one of the three groups will be the superstar group."
   ]
  },
  {
   "cell_type": "code",
   "execution_count": null,
   "metadata": {
    "collapsed": true
   },
   "outputs": [],
   "source": []
  }
 ],
 "metadata": {
  "kernelspec": {
   "display_name": "Python 2",
   "language": "python",
   "name": "python2"
  },
  "language_info": {
   "codemirror_mode": {
    "name": "ipython",
    "version": 2
   },
   "file_extension": ".py",
   "mimetype": "text/x-python",
   "name": "python",
   "nbconvert_exporter": "python",
   "pygments_lexer": "ipython2",
   "version": "2.7.13"
  }
 },
 "nbformat": 4,
 "nbformat_minor": 0
}
