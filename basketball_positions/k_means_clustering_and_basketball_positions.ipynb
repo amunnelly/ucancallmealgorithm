{
 "cells": [
  {
   "cell_type": "markdown",
   "metadata": {
    "slideshow": {
     "slide_type": "slide"
    }
   },
   "source": [
    "## Unsupervised K-Means Clustering\n",
    "#### Identifing Positions in Basketball according to count of baskets, assists and rebounds."
   ]
  },
  {
   "cell_type": "markdown",
   "metadata": {
    "slideshow": {
     "slide_type": "slide"
    }
   },
   "source": [
    "#### Loading Neccessary Packages\n",
    "\n",
    "First, we load the packages that are not native to Python but that we need to process the data. They are:\n",
    "1. Pandas, a package that allows scaler calculations on matrix-type data.\n",
    "2. Matplotlib, the leading graphing utilty in the Python ecosystem.\n",
    "3. KMeans, part of the sklearn machine learning suite. This is the object we'll use to do the calculations.\n",
    "4. MinMaxScaler, also part of the sklearn suite. It allows us to normalise the data."
   ]
  },
  {
   "cell_type": "markdown",
   "metadata": {},
   "source": [
    "Provided by <a href=\"http://www.sports-reference.com/sharing.html?utm_source=direct&utm_medium=Share&utm_campaign=ShareTool\">Basketball-Reference.com</a>: <a href=\"http://www.basketball-reference.com/leagues/NBA_2016_per_game.html?sr&utm_source=direct&utm_medium=Share&utm_campaign=ShareTool#per_game_stats\">View Original Table</a><br>Generated 11/2/2016.\n"
   ]
  },
  {
   "cell_type": "code",
   "execution_count": 3,
   "metadata": {
    "collapsed": true,
    "slideshow": {
     "slide_type": "subslide"
    }
   },
   "outputs": [],
   "source": [
    "import pandas as pd\n",
    "from mpl_toolkits.mplot3d import Axes3D\n",
    "import matplotlib.pyplot as plt\n",
    "%matplotlib inline\n",
    "\n",
    "from sklearn.cluster import KMeans\n",
    "from sklearn.preprocessing import MinMaxScaler"
   ]
  },
  {
   "cell_type": "code",
   "execution_count": 38,
   "metadata": {
    "collapsed": false,
    "slideshow": {
     "slide_type": "subslide"
    }
   },
   "outputs": [
    {
     "name": "stdout",
     "output_type": "stream",
     "text": [
      "   Rk                   Player Pos  Age   Tm   G  GS    MP   FG   FGA  \\\n",
      "0   1       Quincy Acy\\acyqu01  PF   25  SAC  59  29  14.8  2.0   3.6   \n",
      "1   2   Jordan Adams\\adamsjo01  SG   21  MEM   2   0   7.5  1.0   3.0   \n",
      "2   3   Steven Adams\\adamsst01   C   22  OKC  80  80  25.2  3.3   5.3   \n",
      "3   4  Arron Afflalo\\afflaar01  SG   30  NYK  71  57  33.4  5.0  11.3   \n",
      "4   5  Alexis Ajinca\\ajincal01   C   27  NOP  59  17  14.6  2.5   5.3   \n",
      "\n",
      "    ...     DRB  TRB  AST  STL  BLK  TOV   PF  PS/G       OP       NP  \n",
      "0   ...     2.1  3.2  0.5  0.5  0.4  0.5  1.7   5.2  forward  forward  \n",
      "1   ...     1.0  1.0  1.5  1.5  0.0  1.0  1.0   3.5    guard     wing  \n",
      "2   ...     3.9  6.7  0.8  0.5  1.1  1.1  2.8   8.0   center  forward  \n",
      "3   ...     3.4  3.7  2.0  0.4  0.1  1.2  2.0  12.8    guard     wing  \n",
      "4   ...     3.3  4.6  0.5  0.3  0.6  0.9  2.3   6.0   center  forward  \n",
      "\n",
      "[5 rows x 32 columns]\n"
     ]
    }
   ],
   "source": [
    "bb_reference = pd.read_csv('nba_2015_2016.csv')\n",
    "\n",
    "old_positions = {\"PG\": 'guard',\n",
    "                 \"SG\": 'guard',\n",
    "                 \"SF\": 'forward',\n",
    "                 \"PF\": 'forward',\n",
    "                 \"C\": 'center',\n",
    "                 \"PF-C\": 'forward',\n",
    "                 \"SG-PG\": 'guard',\n",
    "                 \"SG-SF\": 'guard'}\n",
    "\n",
    "new_positions = {\"PG\": 'guard',\n",
    "                 \"SG\": 'wing',\n",
    "                 \"SF\": 'wing',\n",
    "                 \"PF\": 'forward',\n",
    "                 \"C\": 'forward',\n",
    "                 \"PF-C\": 'forward',\n",
    "                 \"SG-PG\": 'wing',\n",
    "                 \"SG-SF\": 'wing'}\n",
    "\n",
    "\n",
    "bb_reference['OP'] = bb_reference['Pos'].map(old_positions)\n",
    "bb_reference['NP'] = bb_reference['Pos'].map(new_positions)\n",
    "\n",
    "\n",
    "print bb_reference.head()"
   ]
  },
  {
   "cell_type": "markdown",
   "metadata": {},
   "source": [
    "Let's look at the data a little more closely."
   ]
  },
  {
   "cell_type": "code",
   "execution_count": 39,
   "metadata": {
    "collapsed": false
   },
   "outputs": [
    {
     "data": {
      "text/plain": [
       "guard      247\n",
       "forward    229\n",
       "center     102\n",
       "Name: OP, dtype: int64"
      ]
     },
     "execution_count": 39,
     "metadata": {},
     "output_type": "execute_result"
    }
   ],
   "source": [
    "bb_reference.OP.value_counts()"
   ]
  },
  {
   "cell_type": "code",
   "execution_count": 40,
   "metadata": {
    "collapsed": false
   },
   "outputs": [
    {
     "data": {
      "text/plain": [
       "wing       226\n",
       "forward    223\n",
       "guard      129\n",
       "Name: NP, dtype: int64"
      ]
     },
     "execution_count": 40,
     "metadata": {},
     "output_type": "execute_result"
    }
   ],
   "source": [
    "bb_reference.NP.value_counts()"
   ]
  },
  {
   "cell_type": "code",
   "execution_count": 41,
   "metadata": {
    "collapsed": false
   },
   "outputs": [
    {
     "data": {
      "text/plain": [
       "<matplotlib.axes._subplots.AxesSubplot at 0xc48e898>"
      ]
     },
     "execution_count": 41,
     "metadata": {},
     "output_type": "execute_result"
    },
    {
     "data": {
      "image/png": "[encoded data removed]",
      "text/plain": [
       "<matplotlib.figure.Figure at 0xb5879b0>"
      ]
     },
     "metadata": {},
     "output_type": "display_data"
    }
   ],
   "source": [
    "bb_reference.MP.plot(kind = 'hist', bins = 100, color = 'yellow', edgecolor = 'orange')"
   ]
  },
  {
   "cell_type": "markdown",
   "metadata": {
    "slideshow": {
     "slide_type": "slide"
    }
   },
   "source": [
    "#### Creating K-Means and Scaler Objects\n",
    "\n",
    "Now, we create the kmeans and scaler objects. We choose 3 clusters - this is a trial-and-error processes. Cases can be made for different cluster counts. Three is chosen here on the basis that there are three meta-positions on a basketball team - guard, center, and forward."
   ]
  },
  {
   "cell_type": "code",
   "execution_count": 42,
   "metadata": {
    "collapsed": false,
    "slideshow": {
     "slide_type": "subslide"
    }
   },
   "outputs": [],
   "source": [
    "kmeans = KMeans(n_clusters = 3)\n",
    "scaler = MinMaxScaler()"
   ]
  },
  {
   "cell_type": "code",
   "execution_count": 43,
   "metadata": {
    "collapsed": false
   },
   "outputs": [
    {
     "data": {
      "text/plain": [
       "count    578.000000\n",
       "mean      19.392907\n",
       "std        9.231705\n",
       "min        1.200000\n",
       "25%       12.025000\n",
       "50%       18.800000\n",
       "75%       27.175000\n",
       "max       42.000000\n",
       "Name: MP, dtype: float64"
      ]
     },
     "execution_count": 43,
     "metadata": {},
     "output_type": "execute_result"
    }
   ],
   "source": [
    "bb_reference.MP.describe()"
   ]
  },
  {
   "cell_type": "code",
   "execution_count": 44,
   "metadata": {
    "collapsed": false,
    "slideshow": {
     "slide_type": "subslide"
    }
   },
   "outputs": [
    {
     "data": {
      "text/plain": [
       "numpy.ndarray"
      ]
     },
     "execution_count": 44,
     "metadata": {},
     "output_type": "execute_result"
    }
   ],
   "source": [
    "bb_reference = bb_reference.dropna()\n",
    "bb_test = bb_reference.drop(['Rk', 'Player', 'Pos', 'Tm', 'OP', 'NP'], axis = 1)\n",
    "# bb_test = bb_reference[['FG', 'AST', 'TRB']]\n",
    "\n",
    "bb_scaled = scaler.fit_transform(bb_test)\n",
    "type(bb_scaled)"
   ]
  },
  {
   "cell_type": "markdown",
   "metadata": {
    "slideshow": {
     "slide_type": "slide"
    }
   },
   "source": [
    "#### Fitting the Data\n",
    "Now we fit the new, scaled data to the kmeans object. This allows us to create a list, labels_scaled, in which each player in the `bb_reference` data frame is assigned to a particular cluster, labelled 0, 1 or 2.\n",
    "Note that we once we have our labels, we return to the original, non-scaled data. The scaled data is only used in the creation of the clusters and their correct labelling."
   ]
  },
  {
   "cell_type": "code",
   "execution_count": 45,
   "metadata": {
    "collapsed": false,
    "slideshow": {
     "slide_type": "subslide"
    }
   },
   "outputs": [],
   "source": [
    "kmeans.fit(bb_scaled)\n",
    "labels_scaled = kmeans.labels_\n",
    "bb_reference['labels_scaled'] = labels_scaled\n",
    "scaled_labels_checker = bb_reference.groupby(labels_scaled)"
   ]
  },
  {
   "cell_type": "markdown",
   "metadata": {
    "slideshow": {
     "slide_type": "slide"
    }
   },
   "source": [
    "#### Grouping by Cluster\n",
    "Now divide our data frame in different groups according to the groups' clusters. These are printed to the screen."
   ]
  },
  {
   "cell_type": "code",
   "execution_count": 46,
   "metadata": {
    "collapsed": false,
    "slideshow": {
     "slide_type": "slide"
    }
   },
   "outputs": [
    {
     "name": "stdout",
     "output_type": "stream",
     "text": [
      "THIS IS GROUP 0\n",
      "It has 203 members and its chart color is blue.\n",
      "wing       92\n",
      "forward    72\n",
      "guard      39\n",
      "Name: NP, dtype: int64\n",
      "Points: Mean: 8.22 Median: 7.80\n",
      "Assists: Mean: 1.79 Median: 1.40\n",
      "Rebounds: Mean: 3.59 Median: 3.20\n",
      "\n",
      "\n",
      "THIS IS GROUP 1\n",
      "It has 180 members and its chart color is red.\n",
      "wing       72\n",
      "forward    54\n",
      "guard      54\n",
      "Name: NP, dtype: int64\n",
      "Points: Mean: 3.78 Median: 3.70\n",
      "Assists: Mean: 1.06 Median: 0.70\n",
      "Rebounds: Mean: 1.81 Median: 1.65\n",
      "\n",
      "\n",
      "THIS IS GROUP 2\n",
      "It has 122 members and its chart color is green.\n",
      "wing       50\n",
      "forward    43\n",
      "guard      29\n",
      "Name: NP, dtype: int64\n",
      "Points: Mean: 16.00 Median: 15.20\n",
      "Assists: Mean: 3.61 Median: 2.70\n",
      "Rebounds: Mean: 5.79 Median: 5.20\n",
      "\n",
      "\n"
     ]
    }
   ],
   "source": [
    "color_setter = {0:'blue', 1:'red', 2:'green', 3:'yellow', 4:'brown'} # For easy cluster identification in the graph below\n",
    "for label, details in scaled_labels_checker:\n",
    "    print \"THIS IS GROUP \" + str(label)\n",
    "    print \"It has {} members and its chart color is {}.\".format(details.Pos.count(), color_setter[label])\n",
    "    print details.NP.value_counts()\n",
    "    print \"Points: Mean: {:.2f} Median: {:.2f}\".format(details['PS/G'].mean(), details['PS/G'].median())\n",
    "    print \"Assists: Mean: {:.2f} Median: {:.2f}\".format(details.AST.mean(), details.AST.median())\n",
    "    print \"Rebounds: Mean: {:.2f} Median: {:.2f}\".format(details.TRB.mean(), details.TRB.median())\n",
    "    print \"\\n\""
   ]
  },
  {
   "cell_type": "markdown",
   "metadata": {
    "slideshow": {
     "slide_type": "slide"
    }
   },
   "source": [
    "#### Creating a Graph of the Clusters\n",
    "\n",
    "Finally, we create a graph to visual the positioning of the clusters, relative to each other."
   ]
  },
  {
   "cell_type": "code",
   "execution_count": 47,
   "metadata": {
    "collapsed": false,
    "slideshow": {
     "slide_type": "slide"
    }
   },
   "outputs": [
    {
     "data": {
      "image/png": "[encoded data removed]",
      "text/plain": [
       "<matplotlib.figure.Figure at 0xc919080>"
      ]
     },
     "metadata": {},
     "output_type": "display_data"
    }
   ],
   "source": [
    "bb_reference['colors'] = bb_reference['labels_scaled'].apply(lambda x: color_setter[x])\n",
    "\n",
    "fig = plt.figure()\n",
    "ax = fig.add_subplot(111, projection='3d')\n",
    "\n",
    "ax.scatter(bb_reference.FG,\n",
    "           bb_reference.AST,\n",
    "           bb_reference.TRB,\n",
    "           c=bb_reference.colors)\n",
    "ax.grid(True)\n",
    "\n",
    "ax.set_xlabel('Field Goals')\n",
    "ax.set_ylabel('Assists')\n",
    "ax.set_zlabel('Rebounds')\n",
    "fig.show()"
   ]
  },
  {
   "cell_type": "markdown",
   "metadata": {
    "collapsed": true
   },
   "source": [
    "This isn't quite what we expected. The algorithm has found a better way to bin players than by position. That method is by effectiveness.\n",
    "\n",
    "Look at the data. The second group leads in all three of the key basketball stats. Let's see who those players are, and what they can tell us:"
   ]
  },
  {
   "cell_type": "code",
   "execution_count": 48,
   "metadata": {
    "collapsed": false
   },
   "outputs": [
    {
     "name": "stdout",
     "output_type": "stream",
     "text": [
      "Arron Afflalo\n",
      "LaMarcus Aldridge\n",
      "Al-Farouq Aminu\n",
      "Ryan Anderson\n",
      "Giannis Antetokounmpo\n",
      "Carmelo Anthony\n",
      "Trevor Ariza\n",
      "Harrison Barnes\n",
      "Nicolas Batum\n",
      "Kent Bazemore\n",
      "Bradley Beal\n",
      "Eric Bledsoe\n",
      "Devin Booker\n",
      "Chris Bosh\n",
      "Avery Bradley\n",
      "Kobe Bryant\n",
      "Jimmy Butler\n",
      "Kentavious Caldwell-Pope\n",
      "Michael Carter-Williams\n",
      "Jordan Clarkson\n",
      "Mike Conley\n",
      "DeMarcus Cousins\n",
      "Robert Covington\n",
      "Jae Crowder\n",
      "Stephen Curry\n",
      "Anthony Davis\n",
      "Luol Deng\n",
      "DeMar DeRozan\n",
      "Gorgui Dieng\n",
      "Goran Dragic\n",
      "Andre Drummond\n",
      "Kevin Durant\n",
      "Monta Ellis\n",
      "Tyreke Evans\n",
      "Kenneth Faried\n",
      "Derrick Favors\n",
      "Evan Fournier\n",
      "Danilo Gallinari\n",
      "Marc Gasol\n",
      "Pau Gasol\n",
      "Rudy Gay\n",
      "Paul George\n",
      "Eric Gordon\n",
      "Marcin Gortat\n",
      "Jerami Grant\n",
      "Draymond Green\n",
      "Blake Griffin\n",
      "James Harden\n",
      "Gary Harris\n",
      "Tobias Harris\n",
      "Tobias Harris\n",
      "Tobias Harris\n",
      "Gordon Hayward\n",
      "George Hill\n",
      "Jrue Holiday\n",
      "Rodney Hood\n",
      "Al Horford\n",
      "Dwight Howard\n",
      "Serge Ibaka\n",
      "Kyrie Irving\n",
      "Jarrett Jack\n",
      "Reggie Jackson\n",
      "LeBron James\n",
      "Joe Johnson\n",
      "Joe Johnson\n",
      "Nikola Jokic\n",
      "DeAndre Jordan\n",
      "Brandon Knight\n",
      "Zach LaVine\n",
      "Kawhi Leonard\n",
      "Damian Lillard\n",
      "Brook Lopez\n",
      "Robin Lopez\n",
      "Kevin Love\n",
      "Kyle Lowry\n",
      "Wesley Matthews\n",
      "C.J. McCollum\n",
      "Khris Middleton\n",
      "Paul Millsap\n",
      "Greg Monroe\n",
      "Marcus Morris\n",
      "Markieff Morris\n",
      "Emmanuel Mudiay\n",
      "Nerlens Noel\n",
      "Dirk Nowitzki\n",
      "Jahlil Okafor\n",
      "Victor Oladipo\n",
      "Zaza Pachulia\n",
      "Jabari Parker\n",
      "Tony Parker\n",
      "Chandler Parsons\n",
      "Chris Paul\n",
      "Elfrid Payton\n",
      "Mason Plumlee\n",
      "Otto Porter\n",
      "Kristaps Porzingis\n",
      "Julius Randle\n",
      "Zach Randolph\n",
      "J.J. Redick\n",
      "Rajon Rondo\n",
      "Derrick Rose\n",
      "Ricky Rubio\n",
      "D'Angelo Russell\n",
      "Ish Smith\n",
      "Ish Smith\n",
      "J.R. Smith\n",
      "Jared Sullinger\n",
      "Jeff Teague\n",
      "Isaiah Thomas\n",
      "Klay Thompson\n",
      "Karl-Anthony Towns\n",
      "P.J. Tucker\n",
      "Nikola Vucevic\n",
      "Dwyane Wade\n",
      "Kemba Walker\n",
      "John Wall\n",
      "Russell Westbrook\n",
      "Andrew Wiggins\n",
      "Deron Williams\n",
      "Lou Williams\n",
      "Marvin Williams\n",
      "Thaddeus Young\n"
     ]
    }
   ],
   "source": [
    "group1 = scaled_labels_checker.get_group(2)\n",
    "for player in group1.Player:\n",
    "    slash = str(player).index(\"\\\\\")\n",
    "    print str(player)[:slash]"
   ]
  },
  {
   "cell_type": "code",
   "execution_count": null,
   "metadata": {
    "collapsed": true
   },
   "outputs": [],
   "source": []
  }
 ],
 "metadata": {
  "celltoolbar": "Slideshow",
  "kernelspec": {
   "display_name": "Python 2",
   "language": "python",
   "name": "python2"
  },
  "language_info": {
   "codemirror_mode": {
    "name": "ipython",
    "version": 2
   },
   "file_extension": ".py",
   "mimetype": "text/x-python",
   "name": "python",
   "nbconvert_exporter": "python",
   "pygments_lexer": "ipython2",
   "version": "2.7.11"
  }
 },
 "nbformat": 4,
 "nbformat_minor": 0
}
